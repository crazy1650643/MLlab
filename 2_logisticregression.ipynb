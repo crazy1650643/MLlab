{
 "cells": [
  {
   "cell_type": "markdown",
   "metadata": {
    "id": "Ps9llghv8jX1"
   },
   "source": [
    "# Advanced Certification Program in Computational Data Science\n",
    "## A program by IISc and TalentSprint\n",
    "### Assignment 3: Binary Classification and Performance Metrics"
   ]
  },
  {
   "cell_type": "markdown",
   "metadata": {
    "id": "QeP1PAXf8jYD"
   },
   "source": [
    "## Learning Objectives"
   ]
  },
  {
   "cell_type": "markdown",
   "metadata": {
    "id": "AkwaW3k58jYG"
   },
   "source": [
    "At the end of the experiment, you will be able to:\n",
    "\n",
    "* learn about Classification tasks in Machine learning\n",
    "\n",
    "* perform Logistic Regression, Softmax Regression\n",
    "\n",
    "* learn the appropriate performance metrics according to use case\n",
    "\n",
    "* have an understanding of Decision Boundaries"
   ]
  },
  {
   "cell_type": "markdown",
   "metadata": {
    "id": "VMdBTNnq_Ng0"
   },
   "source": [
    "## Information"
   ]
  },
  {
   "cell_type": "markdown",
   "metadata": {
    "id": "1KfDhYd1yUIx"
   },
   "source": [
    "### Classification"
   ]
  },
  {
   "cell_type": "markdown",
   "metadata": {
    "id": "q-QzRVapVOow"
   },
   "source": [
    "**Classification** refers to a predictive modeling problem where a class label is predicted for a given example of input data.\n",
    "\n",
    "**Examples include:**\n",
    "\n",
    "* Email spam detection (spam or not).\n",
    "* Churn prediction (churn or not).\n",
    "* Conversion prediction (buy or not).\n",
    "\n",
    "**Binary classification** refers to those classification tasks that have two class labels.\n",
    "\n",
    "**Logistic Regression** is a Machine Learning classification algorithm that is used to predict the probability of a categorical dependent variable. In logistic regression, the dependent variable is a binary variable that contains data coded as 1 (yes, success, etc.) or 0 (no, failure, etc.)."
   ]
  },
  {
   "cell_type": "markdown",
   "metadata": {
    "id": "4zU4iSDHpQMB"
   },
   "source": [
    "### Implementing Binary Classification with Logistic Regression"
   ]
  },
  {
   "cell_type": "markdown",
   "metadata": {
    "id": "mg_NkkELpZKB"
   },
   "source": [
    "## Dataset"
   ]
  },
  {
   "cell_type": "markdown",
   "metadata": {
    "id": "ScK34HRop_Uf"
   },
   "source": [
    "In this example, we will be using \"Social_Network_Ads\" dataset.\n",
    "\n",
    "The variable descriptions are as follows:\n",
    "\n",
    "* Age\n",
    "* EstimatedSalary\n",
    "\n",
    "The target feature is:\n",
    "* Purchased\n",
    "\n",
    "Problem Statement: To predict if a person will purchase an item based on age and estimated salary."
   ]
  },
  {
   "cell_type": "markdown",
   "metadata": {
    "id": "BNLA8HiKxQhc"
   },
   "source": [
    "### Setup Steps:"
   ]
  },
  {
   "cell_type": "markdown",
   "metadata": {
    "id": "ZWv5Dh4iO3Pj"
   },
   "source": [
    "### Importing required packages\n"
   ]
  },
  {
   "cell_type": "code",
   "execution_count": null,
   "metadata": {
    "id": "3ljIHCqCO3mk"
   },
   "outputs": [],
   "source": [
    "import numpy as np\n",
    "import pandas as pd\n",
    "import seaborn as sns\n",
    "import matplotlib.pyplot as plt\n",
    "from sklearn.model_selection import train_test_split\n",
    "from sklearn.linear_model import LogisticRegression\n",
    "from sklearn.metrics import classification_report, confusion_matrix"
   ]
  },
  {
   "cell_type": "markdown",
   "metadata": {
    "id": "6x4tygU7rw0u"
   },
   "source": [
    "#### Importing the Dataset"
   ]
  },
  {
   "cell_type": "code",
   "execution_count": null,
   "metadata": {
    "id": "a_14Ruksx4zx"
   },
   "outputs": [],
   "source": [
    "df = pd.read_csv('Social_Network_Ads.csv')\n",
    "X = df.iloc[:, 1].values # estimated salary\n",
    "# YOUR CODE HERE to create 'y' by selecting last column values of 'df'\n",
    "y = df.iloc[:, -1].values\n",
    "X = X.reshape(-1, 1)\n",
    "# YOUR CODE HERE to display first five rows of 'df'"
   ]
  },
  {
   "cell_type": "markdown",
   "metadata": {
    "id": "nz_y_tzzrxAZ"
   },
   "source": [
    "#### Splitting the dataset into the Training set and Test set"
   ]
  },
  {
   "cell_type": "code",
   "execution_count": null,
   "metadata": {
    "id": "cwmIhomc-igk"
   },
   "outputs": [],
   "source": [
    "X_train, X_test, y_train, y_test = train_test_split(X, y, test_size = 0.25, random_state = 0)\n"
   ]
  },
  {
   "cell_type": "code",
   "execution_count": null,
   "metadata": {
    "colab": {
     "base_uri": "https://localhost:8080/"
    },
    "id": "8j-ECM1T-i2p",
    "outputId": "524a8136-3f52-4584-ba89-caf755585d9b"
   },
   "outputs": [
    {
     "name": "stdout",
     "output_type": "stream",
     "text": [
      "[['Female']\n",
      " ['Male']\n",
      " ['Female']\n",
      " ['Female']\n",
      " ['Female']\n",
      " ['Female']\n",
      " ['Male']\n",
      " ['Male']\n",
      " ['Female']\n",
      " ['Female']\n",
      " ['Female']\n",
      " ['Male']\n",
      " ['Male']\n",
      " ['Female']\n",
      " ['Female']\n",
      " ['Male']\n",
      " ['Female']\n",
      " ['Female']\n",
      " ['Female']\n",
      " ['Female']\n",
      " ['Male']\n",
      " ['Male']\n",
      " ['Female']\n",
      " ['Male']\n",
      " ['Female']\n",
      " ['Male']\n",
      " ['Male']\n",
      " ['Female']\n",
      " ['Female']\n",
      " ['Male']\n",
      " ['Female']\n",
      " ['Male']\n",
      " ['Male']\n",
      " ['Male']\n",
      " ['Female']\n",
      " ['Male']\n",
      " ['Male']\n",
      " ['Male']\n",
      " ['Male']\n",
      " ['Male']\n",
      " ['Female']\n",
      " ['Female']\n",
      " ['Male']\n",
      " ['Male']\n",
      " ['Female']\n",
      " ['Female']\n",
      " ['Male']\n",
      " ['Female']\n",
      " ['Male']\n",
      " ['Male']\n",
      " ['Male']\n",
      " ['Female']\n",
      " ['Female']\n",
      " ['Male']\n",
      " ['Female']\n",
      " ['Female']\n",
      " ['Male']\n",
      " ['Male']\n",
      " ['Male']\n",
      " ['Male']\n",
      " ['Male']\n",
      " ['Female']\n",
      " ['Female']\n",
      " ['Male']\n",
      " ['Female']\n",
      " ['Male']\n",
      " ['Male']\n",
      " ['Male']\n",
      " ['Female']\n",
      " ['Male']\n",
      " ['Female']\n",
      " ['Male']\n",
      " ['Male']\n",
      " ['Male']\n",
      " ['Female']\n",
      " ['Female']\n",
      " ['Male']\n",
      " ['Male']\n",
      " ['Female']\n",
      " ['Male']\n",
      " ['Female']\n",
      " ['Female']\n",
      " ['Male']\n",
      " ['Male']\n",
      " ['Female']\n",
      " ['Female']\n",
      " ['Male']\n",
      " ['Female']\n",
      " ['Male']\n",
      " ['Female']\n",
      " ['Female']\n",
      " ['Male']\n",
      " ['Female']\n",
      " ['Female']\n",
      " ['Female']\n",
      " ['Male']\n",
      " ['Male']\n",
      " ['Female']\n",
      " ['Female']\n",
      " ['Male']\n",
      " ['Female']\n",
      " ['Male']\n",
      " ['Male']\n",
      " ['Female']\n",
      " ['Female']\n",
      " ['Female']\n",
      " ['Female']\n",
      " ['Male']\n",
      " ['Female']\n",
      " ['Female']\n",
      " ['Female']\n",
      " ['Male']\n",
      " ['Male']\n",
      " ['Female']\n",
      " ['Male']\n",
      " ['Female']\n",
      " ['Female']\n",
      " ['Female']\n",
      " ['Female']\n",
      " ['Female']\n",
      " ['Male']\n",
      " ['Female']\n",
      " ['Female']\n",
      " ['Male']\n",
      " ['Male']\n",
      " ['Female']\n",
      " ['Female']\n",
      " ['Female']\n",
      " ['Female']\n",
      " ['Male']\n",
      " ['Male']\n",
      " ['Male']\n",
      " ['Male']\n",
      " ['Male']\n",
      " ['Female']\n",
      " ['Male']\n",
      " ['Female']\n",
      " ['Male']\n",
      " ['Male']\n",
      " ['Male']\n",
      " ['Female']\n",
      " ['Male']\n",
      " ['Female']\n",
      " ['Male']\n",
      " ['Female']\n",
      " ['Female']\n",
      " ['Female']\n",
      " ['Male']\n",
      " ['Male']\n",
      " ['Male']\n",
      " ['Male']\n",
      " ['Male']\n",
      " ['Male']\n",
      " ['Female']\n",
      " ['Female']\n",
      " ['Female']\n",
      " ['Female']\n",
      " ['Male']\n",
      " ['Female']\n",
      " ['Male']\n",
      " ['Male']\n",
      " ['Male']\n",
      " ['Female']\n",
      " ['Female']\n",
      " ['Female']\n",
      " ['Female']\n",
      " ['Male']\n",
      " ['Female']\n",
      " ['Female']\n",
      " ['Female']\n",
      " ['Male']\n",
      " ['Female']\n",
      " ['Male']\n",
      " ['Female']\n",
      " ['Male']\n",
      " ['Male']\n",
      " ['Female']\n",
      " ['Female']\n",
      " ['Male']\n",
      " ['Male']\n",
      " ['Male']\n",
      " ['Female']\n",
      " ['Female']\n",
      " ['Male']\n",
      " ['Female']\n",
      " ['Female']\n",
      " ['Female']\n",
      " ['Female']\n",
      " ['Male']\n",
      " ['Female']\n",
      " ['Female']\n",
      " ['Male']\n",
      " ['Male']\n",
      " ['Female']\n",
      " ['Female']\n",
      " ['Male']\n",
      " ['Female']\n",
      " ['Female']\n",
      " ['Male']\n",
      " ['Male']\n",
      " ['Male']\n",
      " ['Male']\n",
      " ['Male']\n",
      " ['Male']\n",
      " ['Male']\n",
      " ['Female']\n",
      " ['Female']\n",
      " ['Female']\n",
      " ['Female']\n",
      " ['Male']\n",
      " ['Female']\n",
      " ['Female']\n",
      " ['Male']\n",
      " ['Male']\n",
      " ['Female']\n",
      " ['Female']\n",
      " ['Male']\n",
      " ['Male']\n",
      " ['Male']\n",
      " ['Male']\n",
      " ['Male']\n",
      " ['Female']\n",
      " ['Male']\n",
      " ['Female']\n",
      " ['Female']\n",
      " ['Female']\n",
      " ['Female']\n",
      " ['Male']\n",
      " ['Female']\n",
      " ['Female']\n",
      " ['Female']\n",
      " ['Male']\n",
      " ['Male']\n",
      " ['Male']\n",
      " ['Male']\n",
      " ['Male']\n",
      " ['Female']\n",
      " ['Male']\n",
      " ['Male']\n",
      " ['Male']\n",
      " ['Male']\n",
      " ['Male']\n",
      " ['Male']\n",
      " ['Female']\n",
      " ['Female']\n",
      " ['Female']\n",
      " ['Female']\n",
      " ['Male']\n",
      " ['Male']\n",
      " ['Male']\n",
      " ['Male']\n",
      " ['Male']\n",
      " ['Male']\n",
      " ['Female']\n",
      " ['Female']\n",
      " ['Female']\n",
      " ['Female']\n",
      " ['Male']\n",
      " ['Male']\n",
      " ['Female']\n",
      " ['Male']\n",
      " ['Female']\n",
      " ['Female']\n",
      " ['Female']\n",
      " ['Female']\n",
      " ['Male']\n",
      " ['Female']\n",
      " ['Female']\n",
      " ['Female']\n",
      " ['Female']\n",
      " ['Female']\n",
      " ['Male']\n",
      " ['Female']\n",
      " ['Female']\n",
      " ['Male']\n",
      " ['Male']\n",
      " ['Female']\n",
      " ['Male']\n",
      " ['Female']\n",
      " ['Female']\n",
      " ['Female']\n",
      " ['Female']\n",
      " ['Male']\n",
      " ['Female']\n",
      " ['Male']\n",
      " ['Male']\n",
      " ['Female']\n",
      " ['Male']\n",
      " ['Female']\n",
      " ['Male']\n",
      " ['Male']\n",
      " ['Female']\n",
      " ['Male']\n",
      " ['Male']\n",
      " ['Male']\n",
      " ['Female']\n",
      " ['Male']\n",
      " ['Male']\n",
      " ['Female']\n",
      " ['Female']]\n"
     ]
    }
   ],
   "source": [
    "print(X_train)"
   ]
  },
  {
   "cell_type": "code",
   "execution_count": null,
   "metadata": {
    "colab": {
     "base_uri": "https://localhost:8080/"
    },
    "id": "EyuA7_JzSN5-",
    "outputId": "45c98fd7-b07f-4c32-c42e-049db9f25640"
   },
   "outputs": [
    {
     "name": "stdout",
     "output_type": "stream",
     "text": [
      "[0 1 0 1 1 1 0 0 0 0 0 0 1 1 1 0 1 0 0 1 0 1 0 1 0 0 1 1 1 1 0 1 0 1 0 0 1\n",
      " 0 0 1 0 0 0 0 0 1 1 1 1 0 0 0 1 0 1 0 1 0 0 1 0 0 0 1 0 0 0 1 1 0 0 1 0 1\n",
      " 1 1 0 0 1 1 0 0 1 1 0 1 0 0 1 1 0 1 1 1 0 0 0 0 0 1 0 0 1 1 1 1 1 0 1 1 0\n",
      " 1 0 0 0 0 0 0 0 1 1 0 0 1 0 0 1 0 0 0 1 0 1 1 0 1 0 0 0 0 1 0 0 0 1 1 0 0\n",
      " 0 0 1 0 1 0 0 0 1 0 0 0 0 1 1 1 0 0 0 0 0 0 1 1 1 1 1 0 1 0 0 0 0 0 1 0 0\n",
      " 0 0 0 0 1 1 0 1 0 1 0 0 1 0 0 0 1 0 0 0 0 0 1 0 0 0 0 0 1 0 1 1 0 0 0 0 0\n",
      " 0 1 1 0 0 0 0 1 0 0 0 0 1 0 1 0 1 0 0 0 1 0 0 0 1 0 1 0 0 0 0 0 1 1 0 0 0\n",
      " 0 0 1 0 1 1 0 0 0 0 0 1 0 1 0 0 1 0 0 1 0 1 0 0 0 0 0 0 1 1 1 1 0 0 0 0 1\n",
      " 0 0 0 0]\n"
     ]
    }
   ],
   "source": [
    "# YOUR CODE HERE to display y_train\n",
    "print(y_train)"
   ]
  },
  {
   "cell_type": "code",
   "execution_count": null,
   "metadata": {
    "colab": {
     "base_uri": "https://localhost:8080/"
    },
    "id": "Lcizce69SRPe",
    "outputId": "62ca5470-e3bb-42bd-a0f4-8a6725f48fff"
   },
   "outputs": [
    {
     "name": "stdout",
     "output_type": "stream",
     "text": [
      "[['Male']\n",
      " ['Female']\n",
      " ['Male']\n",
      " ['Female']\n",
      " ['Female']\n",
      " ['Male']\n",
      " ['Female']\n",
      " ['Male']\n",
      " ['Female']\n",
      " ['Male']\n",
      " ['Male']\n",
      " ['Female']\n",
      " ['Male']\n",
      " ['Male']\n",
      " ['Male']\n",
      " ['Female']\n",
      " ['Male']\n",
      " ['Male']\n",
      " ['Female']\n",
      " ['Male']\n",
      " ['Female']\n",
      " ['Female']\n",
      " ['Female']\n",
      " ['Male']\n",
      " ['Female']\n",
      " ['Female']\n",
      " ['Female']\n",
      " ['Male']\n",
      " ['Female']\n",
      " ['Female']\n",
      " ['Male']\n",
      " ['Male']\n",
      " ['Male']\n",
      " ['Male']\n",
      " ['Male']\n",
      " ['Male']\n",
      " ['Male']\n",
      " ['Female']\n",
      " ['Female']\n",
      " ['Female']\n",
      " ['Male']\n",
      " ['Male']\n",
      " ['Female']\n",
      " ['Male']\n",
      " ['Female']\n",
      " ['Female']\n",
      " ['Female']\n",
      " ['Female']\n",
      " ['Male']\n",
      " ['Male']\n",
      " ['Female']\n",
      " ['Female']\n",
      " ['Female']\n",
      " ['Male']\n",
      " ['Female']\n",
      " ['Male']\n",
      " ['Female']\n",
      " ['Female']\n",
      " ['Male']\n",
      " ['Male']\n",
      " ['Male']\n",
      " ['Male']\n",
      " ['Male']\n",
      " ['Male']\n",
      " ['Female']\n",
      " ['Male']\n",
      " ['Female']\n",
      " ['Male']\n",
      " ['Male']\n",
      " ['Female']\n",
      " ['Female']\n",
      " ['Female']\n",
      " ['Female']\n",
      " ['Male']\n",
      " ['Male']\n",
      " ['Male']\n",
      " ['Female']\n",
      " ['Female']\n",
      " ['Female']\n",
      " ['Female']\n",
      " ['Male']\n",
      " ['Female']\n",
      " ['Female']\n",
      " ['Female']\n",
      " ['Female']\n",
      " ['Female']\n",
      " ['Female']\n",
      " ['Male']\n",
      " ['Female']\n",
      " ['Female']\n",
      " ['Male']\n",
      " ['Female']\n",
      " ['Female']\n",
      " ['Male']\n",
      " ['Male']\n",
      " ['Female']\n",
      " ['Male']\n",
      " ['Male']\n",
      " ['Male']\n",
      " ['Male']]\n"
     ]
    }
   ],
   "source": [
    "# YOUR CODE HERE to display X_test\n",
    "print(X_test)"
   ]
  },
  {
   "cell_type": "code",
   "execution_count": null,
   "metadata": {
    "colab": {
     "base_uri": "https://localhost:8080/"
    },
    "id": "00b_DUmXSRYl",
    "outputId": "d82ffddd-d14e-4669-cc6f-3965fa33d819"
   },
   "outputs": [
    {
     "name": "stdout",
     "output_type": "stream",
     "text": [
      "[0 0 0 0 0 0 0 1 0 0 0 0 0 0 0 0 0 0 1 0 0 1 0 1 0 1 0 0 0 0 0 1 1 0 0 0 0\n",
      " 0 0 1 0 0 0 0 1 0 0 1 0 1 1 0 0 0 1 1 0 0 1 0 0 1 0 1 0 1 0 0 0 0 1 0 0 1\n",
      " 0 0 0 0 1 1 1 0 0 0 1 1 0 1 1 0 0 1 0 0 0 1 0 1 1 1]\n"
     ]
    }
   ],
   "source": [
    "# YOUR CODE HERE to display y_test\n",
    "print(y_test)"
   ]
  },
  {
   "cell_type": "markdown",
   "metadata": {
    "id": "ppSxsQ6pQbjO"
   },
   "source": [
    "#### Feature Scaling"
   ]
  },
  {
   "cell_type": "code",
   "execution_count": null,
   "metadata": {
    "id": "sCFtgPISPYbU"
   },
   "outputs": [],
   "source": [
    "# Import necessary libraries\n",
    "import pandas as pd\n",
    "from sklearn.preprocessing import StandardScaler, LabelEncoder\n",
    "# ... (Rest of your code) ...\n",
    "\n",
    "# Assuming 'Gender' is the first column (index 0) in your DataFrame 'df'\n",
    "# Create a LabelEncoder to convert 'Gender' to numerical values\n",
    "label_encoder = LabelEncoder()\n",
    "df['Gender'] = label_encoder.fit_transform(df['Gender'])\n",
    "\n",
    "# Now select the desired column for 'X' (e.g., EstimatedSalary)\n",
    "# Corrected line: Select the 'EstimatedSalary' column (index 2)\n",
    "X = df.iloc[:, 2].values\n",
    "X = X.reshape(-1, 1)\n",
    "\n",
    "# ... (Rest of your code, including train_test_split) ...\n",
    "X_train, X_test, y_train, y_test = train_test_split(X, y, test_size=0.25, random_state=0)\n",
    "# Apply StandardScaler\n",
    "sc = StandardScaler()\n",
    "X_train = sc.fit_transform(X_train)\n",
    "X_test = sc.transform(X_test)\n",
    "\n",
    "# ... (Continue with your code) ..."
   ]
  },
  {
   "cell_type": "code",
   "execution_count": null,
   "metadata": {
    "colab": {
     "base_uri": "https://localhost:8080/"
    },
    "id": "A7Qf5eY1SfVn",
    "outputId": "a2789e7f-444d-4869-b760-a4deb58f40e7"
   },
   "outputs": [
    {
     "name": "stdout",
     "output_type": "stream",
     "text": [
      "[[ 0.58164944]\n",
      " [-0.60673761]\n",
      " [-0.01254409]\n",
      " [-0.60673761]\n",
      " [ 1.37390747]\n",
      " [ 1.47293972]\n",
      " [ 0.08648817]\n",
      " [-0.01254409]\n",
      " [-0.21060859]\n",
      " [-0.21060859]\n",
      " [-0.30964085]\n",
      " [-0.30964085]\n",
      " [ 0.38358493]\n",
      " [ 0.8787462 ]\n",
      " [ 2.06713324]\n",
      " [ 1.07681071]\n",
      " [ 0.68068169]\n",
      " [-0.70576986]\n",
      " [ 0.77971394]\n",
      " [ 0.8787462 ]\n",
      " [-1.20093113]\n",
      " [ 2.1661655 ]\n",
      " [-0.01254409]\n",
      " [ 0.18552042]\n",
      " [ 0.38358493]\n",
      " [-0.30964085]\n",
      " [ 0.97777845]\n",
      " [ 0.97777845]\n",
      " [-0.01254409]\n",
      " [-0.90383437]\n",
      " [-1.20093113]\n",
      " [ 2.1661655 ]\n",
      " [-1.39899564]\n",
      " [ 0.38358493]\n",
      " [ 0.77971394]\n",
      " [-1.00286662]\n",
      " [ 0.08648817]\n",
      " [-1.00286662]\n",
      " [ 0.28455268]\n",
      " [ 0.68068169]\n",
      " [-0.50770535]\n",
      " [-1.79512465]\n",
      " [-0.70576986]\n",
      " [ 0.38358493]\n",
      " [-0.30964085]\n",
      " [-0.50770535]\n",
      " [ 0.18552042]\n",
      " [ 1.27487521]\n",
      " [ 0.77971394]\n",
      " [-0.30964085]\n",
      " [-0.01254409]\n",
      " [-0.21060859]\n",
      " [-0.11157634]\n",
      " [-0.01254409]\n",
      " [ 2.1661655 ]\n",
      " [-1.79512465]\n",
      " [ 1.86906873]\n",
      " [ 0.38358493]\n",
      " [-1.20093113]\n",
      " [ 0.77971394]\n",
      " [-0.30964085]\n",
      " [-1.6960924 ]\n",
      " [-1.00286662]\n",
      " [ 0.28455268]\n",
      " [-0.11157634]\n",
      " [-1.10189888]\n",
      " [ 0.08648817]\n",
      " [-1.00286662]\n",
      " [-0.70576986]\n",
      " [-1.29996338]\n",
      " [-0.30964085]\n",
      " [-0.11157634]\n",
      " [-0.30964085]\n",
      " [ 0.8787462 ]\n",
      " [-0.30964085]\n",
      " [ 0.97777845]\n",
      " [-1.20093113]\n",
      " [-1.29996338]\n",
      " [ 1.37390747]\n",
      " [ 1.27487521]\n",
      " [-0.30964085]\n",
      " [-0.50770535]\n",
      " [-0.80480212]\n",
      " [ 0.97777845]\n",
      " [ 0.28455268]\n",
      " [ 0.97777845]\n",
      " [-0.70576986]\n",
      " [-0.70576986]\n",
      " [ 0.48261718]\n",
      " [ 2.06713324]\n",
      " [-1.99318916]\n",
      " [-0.21060859]\n",
      " [ 0.38358493]\n",
      " [ 0.8787462 ]\n",
      " [-1.20093113]\n",
      " [ 0.18552042]\n",
      " [ 0.77971394]\n",
      " [ 2.06713324]\n",
      " [ 0.77971394]\n",
      " [-0.30964085]\n",
      " [-1.00286662]\n",
      " [ 0.18552042]\n",
      " [ 2.06713324]\n",
      " [ 1.86906873]\n",
      " [ 1.37390747]\n",
      " [ 0.8787462 ]\n",
      " [ 1.47293972]\n",
      " [-0.30964085]\n",
      " [ 1.96810099]\n",
      " [ 0.68068169]\n",
      " [-1.49802789]\n",
      " [ 0.77971394]\n",
      " [ 0.38358493]\n",
      " [-1.00286662]\n",
      " [-0.01254409]\n",
      " [-1.20093113]\n",
      " [-0.90383437]\n",
      " [-0.11157634]\n",
      " [-1.59706014]\n",
      " [ 0.97777845]\n",
      " [ 1.07681071]\n",
      " [-0.01254409]\n",
      " [-1.10189888]\n",
      " [ 0.77971394]\n",
      " [ 0.97777845]\n",
      " [-1.20093113]\n",
      " [-0.30964085]\n",
      " [ 0.08648817]\n",
      " [-1.39899564]\n",
      " [-0.60673761]\n",
      " [ 0.77971394]\n",
      " [-0.30964085]\n",
      " [ 1.77003648]\n",
      " [ 0.8787462 ]\n",
      " [ 0.18552042]\n",
      " [-0.60673761]\n",
      " [-1.89415691]\n",
      " [-1.29996338]\n",
      " [-0.30964085]\n",
      " [-1.00286662]\n",
      " [ 1.17584296]\n",
      " [ 0.18552042]\n",
      " [ 1.17584296]\n",
      " [-0.30964085]\n",
      " [ 0.18552042]\n",
      " [ 0.77971394]\n",
      " [ 0.08648817]\n",
      " [-1.79512465]\n",
      " [-0.90383437]\n",
      " [-0.70576986]\n",
      " [ 0.8787462 ]\n",
      " [ 0.18552042]\n",
      " [-0.4086731 ]\n",
      " [-0.01254409]\n",
      " [ 0.38358493]\n",
      " [ 0.8787462 ]\n",
      " [ 0.08648817]\n",
      " [-1.89415691]\n",
      " [-0.11157634]\n",
      " [-0.21060859]\n",
      " [ 0.28455268]\n",
      " [-0.21060859]\n",
      " [ 0.97777845]\n",
      " [-0.21060859]\n",
      " [ 1.27487521]\n",
      " [-1.10189888]\n",
      " [-0.01254409]\n",
      " [ 0.08648817]\n",
      " [-1.59706014]\n",
      " [-0.50770535]\n",
      " [ 0.97777845]\n",
      " [ 1.96810099]\n",
      " [ 1.47293972]\n",
      " [-0.60673761]\n",
      " [ 1.57197197]\n",
      " [-0.80480212]\n",
      " [ 1.96810099]\n",
      " [-1.20093113]\n",
      " [ 0.68068169]\n",
      " [-1.39899564]\n",
      " [ 0.18552042]\n",
      " [-0.50770535]\n",
      " [ 0.58164944]\n",
      " [-1.59706014]\n",
      " [-0.50770535]\n",
      " [ 0.48261718]\n",
      " [-1.39899564]\n",
      " [ 0.77971394]\n",
      " [-0.30964085]\n",
      " [ 1.57197197]\n",
      " [ 0.97777845]\n",
      " [-0.30964085]\n",
      " [-0.11157634]\n",
      " [-1.49802789]\n",
      " [-0.11157634]\n",
      " [-0.70576986]\n",
      " [-0.50770535]\n",
      " [ 0.68068169]\n",
      " [-0.80480212]\n",
      " [-1.89415691]\n",
      " [ 1.07681071]\n",
      " [ 0.08648817]\n",
      " [-0.30964085]\n",
      " [ 0.08648817]\n",
      " [-1.39899564]\n",
      " [ 0.28455268]\n",
      " [-0.90383437]\n",
      " [ 1.57197197]\n",
      " [-0.30964085]\n",
      " [-0.11157634]\n",
      " [-0.90383437]\n",
      " [-0.70576986]\n",
      " [ 0.38358493]\n",
      " [-0.80480212]\n",
      " [ 1.37390747]\n",
      " [ 1.17584296]\n",
      " [ 1.77003648]\n",
      " [-0.90383437]\n",
      " [-0.80480212]\n",
      " [-1.20093113]\n",
      " [-0.50770535]\n",
      " [ 0.28455268]\n",
      " [-0.21060859]\n",
      " [ 1.67100423]\n",
      " [ 0.97777845]\n",
      " [ 0.28455268]\n",
      " [-0.80480212]\n",
      " [-0.11157634]\n",
      " [ 0.28455268]\n",
      " [ 1.96810099]\n",
      " [-0.80480212]\n",
      " [-1.79512465]\n",
      " [-0.11157634]\n",
      " [ 0.28455268]\n",
      " [ 1.07681071]\n",
      " [-1.00286662]\n",
      " [ 1.47293972]\n",
      " [ 0.18552042]\n",
      " [ 2.1661655 ]\n",
      " [-0.30964085]\n",
      " [-1.6960924 ]\n",
      " [-0.01254409]\n",
      " [ 0.08648817]\n",
      " [-0.11157634]\n",
      " [-1.20093113]\n",
      " [-0.30964085]\n",
      " [ 1.57197197]\n",
      " [-0.80480212]\n",
      " [ 0.08648817]\n",
      " [-0.90383437]\n",
      " [-0.50770535]\n",
      " [-0.30964085]\n",
      " [ 0.28455268]\n",
      " [ 0.28455268]\n",
      " [ 0.08648817]\n",
      " [-1.10189888]\n",
      " [-1.6960924 ]\n",
      " [-1.20093113]\n",
      " [-0.70576986]\n",
      " [ 0.08648817]\n",
      " [ 0.28455268]\n",
      " [ 0.8787462 ]\n",
      " [ 0.28455268]\n",
      " [-0.11157634]\n",
      " [ 2.1661655 ]\n",
      " [-1.29996338]\n",
      " [-1.00286662]\n",
      " [-0.01254409]\n",
      " [-0.21060859]\n",
      " [-1.79512465]\n",
      " [ 1.77003648]\n",
      " [ 0.18552042]\n",
      " [ 0.38358493]\n",
      " [-1.79512465]\n",
      " [ 0.18552042]\n",
      " [ 0.8787462 ]\n",
      " [-1.99318916]\n",
      " [-0.30964085]\n",
      " [ 1.86906873]\n",
      " [-0.4086731 ]\n",
      " [ 1.07681071]\n",
      " [-1.10189888]\n",
      " [-1.89415691]\n",
      " [ 0.08648817]\n",
      " [-1.20093113]\n",
      " [-1.29996338]\n",
      " [-1.00286662]\n",
      " [ 1.67100423]\n",
      " [ 1.17584296]\n",
      " [ 1.07681071]\n",
      " [ 1.37390747]\n",
      " [-0.30964085]\n",
      " [ 0.38358493]\n",
      " [-0.4086731 ]\n",
      " [-0.11157634]\n",
      " [ 0.97777845]\n",
      " [-0.90383437]\n",
      " [-0.21060859]\n",
      " [-1.10189888]\n",
      " [-1.20093113]]\n"
     ]
    }
   ],
   "source": [
    "print(X_train)"
   ]
  },
  {
   "cell_type": "code",
   "execution_count": null,
   "metadata": {
    "colab": {
     "base_uri": "https://localhost:8080/"
    },
    "id": "tUrZNVyGSffd",
    "outputId": "5e667042-cf7b-4263-80d8-2cf8ae9b5b67"
   },
   "outputs": [
    {
     "name": "stdout",
     "output_type": "stream",
     "text": [
      "[[-0.80480212]\n",
      " [-0.01254409]\n",
      " [-0.30964085]\n",
      " [-0.80480212]\n",
      " [-0.30964085]\n",
      " [-1.10189888]\n",
      " [-0.70576986]\n",
      " [-0.21060859]\n",
      " [-1.99318916]\n",
      " [ 0.8787462 ]\n",
      " [-0.80480212]\n",
      " [-1.00286662]\n",
      " [-0.11157634]\n",
      " [ 0.08648817]\n",
      " [-1.79512465]\n",
      " [-0.60673761]\n",
      " [-0.11157634]\n",
      " [-1.89415691]\n",
      " [ 1.67100423]\n",
      " [-0.30964085]\n",
      " [-0.30964085]\n",
      " [ 0.8787462 ]\n",
      " [ 0.28455268]\n",
      " [ 0.8787462 ]\n",
      " [-1.49802789]\n",
      " [ 1.07681071]\n",
      " [-1.00286662]\n",
      " [-0.90383437]\n",
      " [-0.11157634]\n",
      " [-0.60673761]\n",
      " [-1.6960924 ]\n",
      " [-0.11157634]\n",
      " [ 1.86906873]\n",
      " [-0.11157634]\n",
      " [-1.39899564]\n",
      " [-1.99318916]\n",
      " [-1.59706014]\n",
      " [-0.4086731 ]\n",
      " [-0.70576986]\n",
      " [ 1.07681071]\n",
      " [-1.10189888]\n",
      " [ 0.28455268]\n",
      " [-1.10189888]\n",
      " [-0.30964085]\n",
      " [ 0.48261718]\n",
      " [-1.10189888]\n",
      " [-0.11157634]\n",
      " [ 1.37390747]\n",
      " [-1.20093113]\n",
      " [ 1.07681071]\n",
      " [ 1.86906873]\n",
      " [-0.4086731 ]\n",
      " [-0.30964085]\n",
      " [-0.4086731 ]\n",
      " [ 2.06713324]\n",
      " [ 0.68068169]\n",
      " [-0.90383437]\n",
      " [-1.20093113]\n",
      " [ 1.07681071]\n",
      " [-1.49802789]\n",
      " [-0.60673761]\n",
      " [ 2.1661655 ]\n",
      " [-1.89415691]\n",
      " [-0.21060859]\n",
      " [-1.89415691]\n",
      " [ 2.1661655 ]\n",
      " [-1.39899564]\n",
      " [-1.10189888]\n",
      " [ 0.18552042]\n",
      " [ 0.38358493]\n",
      " [-0.60673761]\n",
      " [-0.30964085]\n",
      " [-1.59706014]\n",
      " [ 0.68068169]\n",
      " [-1.10189888]\n",
      " [-1.99318916]\n",
      " [ 0.38358493]\n",
      " [ 0.18552042]\n",
      " [ 1.47293972]\n",
      " [ 0.8787462 ]\n",
      " [ 1.96810099]\n",
      " [ 2.06713324]\n",
      " [-1.39899564]\n",
      " [-1.20093113]\n",
      " [ 1.96810099]\n",
      " [ 0.38358493]\n",
      " [ 0.18552042]\n",
      " [ 2.06713324]\n",
      " [ 0.77971394]\n",
      " [ 0.28455268]\n",
      " [ 0.38358493]\n",
      " [-0.11157634]\n",
      " [-1.49802789]\n",
      " [-1.29996338]\n",
      " [-1.39899564]\n",
      " [-1.10189888]\n",
      " [-1.49802789]\n",
      " [ 0.97777845]\n",
      " [ 0.97777845]\n",
      " [ 0.38358493]]\n"
     ]
    }
   ],
   "source": [
    "# YOUR CODE HERE to display X_test\n",
    "print(X_test)"
   ]
  },
  {
   "cell_type": "markdown",
   "metadata": {
    "id": "CZqNg1ErQpt_"
   },
   "source": [
    "#### Training the Logistic Regression model on the Training set\n",
    "\n",
    "\n"
   ]
  },
  {
   "cell_type": "code",
   "execution_count": null,
   "metadata": {
    "colab": {
     "base_uri": "https://localhost:8080/",
     "height": 80
    },
    "id": "TmowAS_ePasE",
    "outputId": "c23a2a71-2f8c-42b8-c5f9-1909a0a88751"
   },
   "outputs": [
    {
     "data": {
      "text/html": [
       "<style>#sk-container-id-1 {\n",
       "  /* Definition of color scheme common for light and dark mode */\n",
       "  --sklearn-color-text: #000;\n",
       "  --sklearn-color-text-muted: #666;\n",
       "  --sklearn-color-line: gray;\n",
       "  /* Definition of color scheme for unfitted estimators */\n",
       "  --sklearn-color-unfitted-level-0: #fff5e6;\n",
       "  --sklearn-color-unfitted-level-1: #f6e4d2;\n",
       "  --sklearn-color-unfitted-level-2: #ffe0b3;\n",
       "  --sklearn-color-unfitted-level-3: chocolate;\n",
       "  /* Definition of color scheme for fitted estimators */\n",
       "  --sklearn-color-fitted-level-0: #f0f8ff;\n",
       "  --sklearn-color-fitted-level-1: #d4ebff;\n",
       "  --sklearn-color-fitted-level-2: #b3dbfd;\n",
       "  --sklearn-color-fitted-level-3: cornflowerblue;\n",
       "\n",
       "  /* Specific color for light theme */\n",
       "  --sklearn-color-text-on-default-background: var(--sg-text-color, var(--theme-code-foreground, var(--jp-content-font-color1, black)));\n",
       "  --sklearn-color-background: var(--sg-background-color, var(--theme-background, var(--jp-layout-color0, white)));\n",
       "  --sklearn-color-border-box: var(--sg-text-color, var(--theme-code-foreground, var(--jp-content-font-color1, black)));\n",
       "  --sklearn-color-icon: #696969;\n",
       "\n",
       "  @media (prefers-color-scheme: dark) {\n",
       "    /* Redefinition of color scheme for dark theme */\n",
       "    --sklearn-color-text-on-default-background: var(--sg-text-color, var(--theme-code-foreground, var(--jp-content-font-color1, white)));\n",
       "    --sklearn-color-background: var(--sg-background-color, var(--theme-background, var(--jp-layout-color0, #111)));\n",
       "    --sklearn-color-border-box: var(--sg-text-color, var(--theme-code-foreground, var(--jp-content-font-color1, white)));\n",
       "    --sklearn-color-icon: #878787;\n",
       "  }\n",
       "}\n",
       "\n",
       "#sk-container-id-1 {\n",
       "  color: var(--sklearn-color-text);\n",
       "}\n",
       "\n",
       "#sk-container-id-1 pre {\n",
       "  padding: 0;\n",
       "}\n",
       "\n",
       "#sk-container-id-1 input.sk-hidden--visually {\n",
       "  border: 0;\n",
       "  clip: rect(1px 1px 1px 1px);\n",
       "  clip: rect(1px, 1px, 1px, 1px);\n",
       "  height: 1px;\n",
       "  margin: -1px;\n",
       "  overflow: hidden;\n",
       "  padding: 0;\n",
       "  position: absolute;\n",
       "  width: 1px;\n",
       "}\n",
       "\n",
       "#sk-container-id-1 div.sk-dashed-wrapped {\n",
       "  border: 1px dashed var(--sklearn-color-line);\n",
       "  margin: 0 0.4em 0.5em 0.4em;\n",
       "  box-sizing: border-box;\n",
       "  padding-bottom: 0.4em;\n",
       "  background-color: var(--sklearn-color-background);\n",
       "}\n",
       "\n",
       "#sk-container-id-1 div.sk-container {\n",
       "  /* jupyter's `normalize.less` sets `[hidden] { display: none; }`\n",
       "     but bootstrap.min.css set `[hidden] { display: none !important; }`\n",
       "     so we also need the `!important` here to be able to override the\n",
       "     default hidden behavior on the sphinx rendered scikit-learn.org.\n",
       "     See: https://github.com/scikit-learn/scikit-learn/issues/21755 */\n",
       "  display: inline-block !important;\n",
       "  position: relative;\n",
       "}\n",
       "\n",
       "#sk-container-id-1 div.sk-text-repr-fallback {\n",
       "  display: none;\n",
       "}\n",
       "\n",
       "div.sk-parallel-item,\n",
       "div.sk-serial,\n",
       "div.sk-item {\n",
       "  /* draw centered vertical line to link estimators */\n",
       "  background-image: linear-gradient(var(--sklearn-color-text-on-default-background), var(--sklearn-color-text-on-default-background));\n",
       "  background-size: 2px 100%;\n",
       "  background-repeat: no-repeat;\n",
       "  background-position: center center;\n",
       "}\n",
       "\n",
       "/* Parallel-specific style estimator block */\n",
       "\n",
       "#sk-container-id-1 div.sk-parallel-item::after {\n",
       "  content: \"\";\n",
       "  width: 100%;\n",
       "  border-bottom: 2px solid var(--sklearn-color-text-on-default-background);\n",
       "  flex-grow: 1;\n",
       "}\n",
       "\n",
       "#sk-container-id-1 div.sk-parallel {\n",
       "  display: flex;\n",
       "  align-items: stretch;\n",
       "  justify-content: center;\n",
       "  background-color: var(--sklearn-color-background);\n",
       "  position: relative;\n",
       "}\n",
       "\n",
       "#sk-container-id-1 div.sk-parallel-item {\n",
       "  display: flex;\n",
       "  flex-direction: column;\n",
       "}\n",
       "\n",
       "#sk-container-id-1 div.sk-parallel-item:first-child::after {\n",
       "  align-self: flex-end;\n",
       "  width: 50%;\n",
       "}\n",
       "\n",
       "#sk-container-id-1 div.sk-parallel-item:last-child::after {\n",
       "  align-self: flex-start;\n",
       "  width: 50%;\n",
       "}\n",
       "\n",
       "#sk-container-id-1 div.sk-parallel-item:only-child::after {\n",
       "  width: 0;\n",
       "}\n",
       "\n",
       "/* Serial-specific style estimator block */\n",
       "\n",
       "#sk-container-id-1 div.sk-serial {\n",
       "  display: flex;\n",
       "  flex-direction: column;\n",
       "  align-items: center;\n",
       "  background-color: var(--sklearn-color-background);\n",
       "  padding-right: 1em;\n",
       "  padding-left: 1em;\n",
       "}\n",
       "\n",
       "\n",
       "/* Toggleable style: style used for estimator/Pipeline/ColumnTransformer box that is\n",
       "clickable and can be expanded/collapsed.\n",
       "- Pipeline and ColumnTransformer use this feature and define the default style\n",
       "- Estimators will overwrite some part of the style using the `sk-estimator` class\n",
       "*/\n",
       "\n",
       "/* Pipeline and ColumnTransformer style (default) */\n",
       "\n",
       "#sk-container-id-1 div.sk-toggleable {\n",
       "  /* Default theme specific background. It is overwritten whether we have a\n",
       "  specific estimator or a Pipeline/ColumnTransformer */\n",
       "  background-color: var(--sklearn-color-background);\n",
       "}\n",
       "\n",
       "/* Toggleable label */\n",
       "#sk-container-id-1 label.sk-toggleable__label {\n",
       "  cursor: pointer;\n",
       "  display: flex;\n",
       "  width: 100%;\n",
       "  margin-bottom: 0;\n",
       "  padding: 0.5em;\n",
       "  box-sizing: border-box;\n",
       "  text-align: center;\n",
       "  align-items: start;\n",
       "  justify-content: space-between;\n",
       "  gap: 0.5em;\n",
       "}\n",
       "\n",
       "#sk-container-id-1 label.sk-toggleable__label .caption {\n",
       "  font-size: 0.6rem;\n",
       "  font-weight: lighter;\n",
       "  color: var(--sklearn-color-text-muted);\n",
       "}\n",
       "\n",
       "#sk-container-id-1 label.sk-toggleable__label-arrow:before {\n",
       "  /* Arrow on the left of the label */\n",
       "  content: \"▸\";\n",
       "  float: left;\n",
       "  margin-right: 0.25em;\n",
       "  color: var(--sklearn-color-icon);\n",
       "}\n",
       "\n",
       "#sk-container-id-1 label.sk-toggleable__label-arrow:hover:before {\n",
       "  color: var(--sklearn-color-text);\n",
       "}\n",
       "\n",
       "/* Toggleable content - dropdown */\n",
       "\n",
       "#sk-container-id-1 div.sk-toggleable__content {\n",
       "  max-height: 0;\n",
       "  max-width: 0;\n",
       "  overflow: hidden;\n",
       "  text-align: left;\n",
       "  /* unfitted */\n",
       "  background-color: var(--sklearn-color-unfitted-level-0);\n",
       "}\n",
       "\n",
       "#sk-container-id-1 div.sk-toggleable__content.fitted {\n",
       "  /* fitted */\n",
       "  background-color: var(--sklearn-color-fitted-level-0);\n",
       "}\n",
       "\n",
       "#sk-container-id-1 div.sk-toggleable__content pre {\n",
       "  margin: 0.2em;\n",
       "  border-radius: 0.25em;\n",
       "  color: var(--sklearn-color-text);\n",
       "  /* unfitted */\n",
       "  background-color: var(--sklearn-color-unfitted-level-0);\n",
       "}\n",
       "\n",
       "#sk-container-id-1 div.sk-toggleable__content.fitted pre {\n",
       "  /* unfitted */\n",
       "  background-color: var(--sklearn-color-fitted-level-0);\n",
       "}\n",
       "\n",
       "#sk-container-id-1 input.sk-toggleable__control:checked~div.sk-toggleable__content {\n",
       "  /* Expand drop-down */\n",
       "  max-height: 200px;\n",
       "  max-width: 100%;\n",
       "  overflow: auto;\n",
       "}\n",
       "\n",
       "#sk-container-id-1 input.sk-toggleable__control:checked~label.sk-toggleable__label-arrow:before {\n",
       "  content: \"▾\";\n",
       "}\n",
       "\n",
       "/* Pipeline/ColumnTransformer-specific style */\n",
       "\n",
       "#sk-container-id-1 div.sk-label input.sk-toggleable__control:checked~label.sk-toggleable__label {\n",
       "  color: var(--sklearn-color-text);\n",
       "  background-color: var(--sklearn-color-unfitted-level-2);\n",
       "}\n",
       "\n",
       "#sk-container-id-1 div.sk-label.fitted input.sk-toggleable__control:checked~label.sk-toggleable__label {\n",
       "  background-color: var(--sklearn-color-fitted-level-2);\n",
       "}\n",
       "\n",
       "/* Estimator-specific style */\n",
       "\n",
       "/* Colorize estimator box */\n",
       "#sk-container-id-1 div.sk-estimator input.sk-toggleable__control:checked~label.sk-toggleable__label {\n",
       "  /* unfitted */\n",
       "  background-color: var(--sklearn-color-unfitted-level-2);\n",
       "}\n",
       "\n",
       "#sk-container-id-1 div.sk-estimator.fitted input.sk-toggleable__control:checked~label.sk-toggleable__label {\n",
       "  /* fitted */\n",
       "  background-color: var(--sklearn-color-fitted-level-2);\n",
       "}\n",
       "\n",
       "#sk-container-id-1 div.sk-label label.sk-toggleable__label,\n",
       "#sk-container-id-1 div.sk-label label {\n",
       "  /* The background is the default theme color */\n",
       "  color: var(--sklearn-color-text-on-default-background);\n",
       "}\n",
       "\n",
       "/* On hover, darken the color of the background */\n",
       "#sk-container-id-1 div.sk-label:hover label.sk-toggleable__label {\n",
       "  color: var(--sklearn-color-text);\n",
       "  background-color: var(--sklearn-color-unfitted-level-2);\n",
       "}\n",
       "\n",
       "/* Label box, darken color on hover, fitted */\n",
       "#sk-container-id-1 div.sk-label.fitted:hover label.sk-toggleable__label.fitted {\n",
       "  color: var(--sklearn-color-text);\n",
       "  background-color: var(--sklearn-color-fitted-level-2);\n",
       "}\n",
       "\n",
       "/* Estimator label */\n",
       "\n",
       "#sk-container-id-1 div.sk-label label {\n",
       "  font-family: monospace;\n",
       "  font-weight: bold;\n",
       "  display: inline-block;\n",
       "  line-height: 1.2em;\n",
       "}\n",
       "\n",
       "#sk-container-id-1 div.sk-label-container {\n",
       "  text-align: center;\n",
       "}\n",
       "\n",
       "/* Estimator-specific */\n",
       "#sk-container-id-1 div.sk-estimator {\n",
       "  font-family: monospace;\n",
       "  border: 1px dotted var(--sklearn-color-border-box);\n",
       "  border-radius: 0.25em;\n",
       "  box-sizing: border-box;\n",
       "  margin-bottom: 0.5em;\n",
       "  /* unfitted */\n",
       "  background-color: var(--sklearn-color-unfitted-level-0);\n",
       "}\n",
       "\n",
       "#sk-container-id-1 div.sk-estimator.fitted {\n",
       "  /* fitted */\n",
       "  background-color: var(--sklearn-color-fitted-level-0);\n",
       "}\n",
       "\n",
       "/* on hover */\n",
       "#sk-container-id-1 div.sk-estimator:hover {\n",
       "  /* unfitted */\n",
       "  background-color: var(--sklearn-color-unfitted-level-2);\n",
       "}\n",
       "\n",
       "#sk-container-id-1 div.sk-estimator.fitted:hover {\n",
       "  /* fitted */\n",
       "  background-color: var(--sklearn-color-fitted-level-2);\n",
       "}\n",
       "\n",
       "/* Specification for estimator info (e.g. \"i\" and \"?\") */\n",
       "\n",
       "/* Common style for \"i\" and \"?\" */\n",
       "\n",
       ".sk-estimator-doc-link,\n",
       "a:link.sk-estimator-doc-link,\n",
       "a:visited.sk-estimator-doc-link {\n",
       "  float: right;\n",
       "  font-size: smaller;\n",
       "  line-height: 1em;\n",
       "  font-family: monospace;\n",
       "  background-color: var(--sklearn-color-background);\n",
       "  border-radius: 1em;\n",
       "  height: 1em;\n",
       "  width: 1em;\n",
       "  text-decoration: none !important;\n",
       "  margin-left: 0.5em;\n",
       "  text-align: center;\n",
       "  /* unfitted */\n",
       "  border: var(--sklearn-color-unfitted-level-1) 1pt solid;\n",
       "  color: var(--sklearn-color-unfitted-level-1);\n",
       "}\n",
       "\n",
       ".sk-estimator-doc-link.fitted,\n",
       "a:link.sk-estimator-doc-link.fitted,\n",
       "a:visited.sk-estimator-doc-link.fitted {\n",
       "  /* fitted */\n",
       "  border: var(--sklearn-color-fitted-level-1) 1pt solid;\n",
       "  color: var(--sklearn-color-fitted-level-1);\n",
       "}\n",
       "\n",
       "/* On hover */\n",
       "div.sk-estimator:hover .sk-estimator-doc-link:hover,\n",
       ".sk-estimator-doc-link:hover,\n",
       "div.sk-label-container:hover .sk-estimator-doc-link:hover,\n",
       ".sk-estimator-doc-link:hover {\n",
       "  /* unfitted */\n",
       "  background-color: var(--sklearn-color-unfitted-level-3);\n",
       "  color: var(--sklearn-color-background);\n",
       "  text-decoration: none;\n",
       "}\n",
       "\n",
       "div.sk-estimator.fitted:hover .sk-estimator-doc-link.fitted:hover,\n",
       ".sk-estimator-doc-link.fitted:hover,\n",
       "div.sk-label-container:hover .sk-estimator-doc-link.fitted:hover,\n",
       ".sk-estimator-doc-link.fitted:hover {\n",
       "  /* fitted */\n",
       "  background-color: var(--sklearn-color-fitted-level-3);\n",
       "  color: var(--sklearn-color-background);\n",
       "  text-decoration: none;\n",
       "}\n",
       "\n",
       "/* Span, style for the box shown on hovering the info icon */\n",
       ".sk-estimator-doc-link span {\n",
       "  display: none;\n",
       "  z-index: 9999;\n",
       "  position: relative;\n",
       "  font-weight: normal;\n",
       "  right: .2ex;\n",
       "  padding: .5ex;\n",
       "  margin: .5ex;\n",
       "  width: min-content;\n",
       "  min-width: 20ex;\n",
       "  max-width: 50ex;\n",
       "  color: var(--sklearn-color-text);\n",
       "  box-shadow: 2pt 2pt 4pt #999;\n",
       "  /* unfitted */\n",
       "  background: var(--sklearn-color-unfitted-level-0);\n",
       "  border: .5pt solid var(--sklearn-color-unfitted-level-3);\n",
       "}\n",
       "\n",
       ".sk-estimator-doc-link.fitted span {\n",
       "  /* fitted */\n",
       "  background: var(--sklearn-color-fitted-level-0);\n",
       "  border: var(--sklearn-color-fitted-level-3);\n",
       "}\n",
       "\n",
       ".sk-estimator-doc-link:hover span {\n",
       "  display: block;\n",
       "}\n",
       "\n",
       "/* \"?\"-specific style due to the `<a>` HTML tag */\n",
       "\n",
       "#sk-container-id-1 a.estimator_doc_link {\n",
       "  float: right;\n",
       "  font-size: 1rem;\n",
       "  line-height: 1em;\n",
       "  font-family: monospace;\n",
       "  background-color: var(--sklearn-color-background);\n",
       "  border-radius: 1rem;\n",
       "  height: 1rem;\n",
       "  width: 1rem;\n",
       "  text-decoration: none;\n",
       "  /* unfitted */\n",
       "  color: var(--sklearn-color-unfitted-level-1);\n",
       "  border: var(--sklearn-color-unfitted-level-1) 1pt solid;\n",
       "}\n",
       "\n",
       "#sk-container-id-1 a.estimator_doc_link.fitted {\n",
       "  /* fitted */\n",
       "  border: var(--sklearn-color-fitted-level-1) 1pt solid;\n",
       "  color: var(--sklearn-color-fitted-level-1);\n",
       "}\n",
       "\n",
       "/* On hover */\n",
       "#sk-container-id-1 a.estimator_doc_link:hover {\n",
       "  /* unfitted */\n",
       "  background-color: var(--sklearn-color-unfitted-level-3);\n",
       "  color: var(--sklearn-color-background);\n",
       "  text-decoration: none;\n",
       "}\n",
       "\n",
       "#sk-container-id-1 a.estimator_doc_link.fitted:hover {\n",
       "  /* fitted */\n",
       "  background-color: var(--sklearn-color-fitted-level-3);\n",
       "}\n",
       "</style><div id=\"sk-container-id-1\" class=\"sk-top-container\"><div class=\"sk-text-repr-fallback\"><pre>LogisticRegression(random_state=0)</pre><b>In a Jupyter environment, please rerun this cell to show the HTML representation or trust the notebook. <br />On GitHub, the HTML representation is unable to render, please try loading this page with nbviewer.org.</b></div><div class=\"sk-container\" hidden><div class=\"sk-item\"><div class=\"sk-estimator fitted sk-toggleable\"><input class=\"sk-toggleable__control sk-hidden--visually\" id=\"sk-estimator-id-1\" type=\"checkbox\" checked><label for=\"sk-estimator-id-1\" class=\"sk-toggleable__label fitted sk-toggleable__label-arrow\"><div><div>LogisticRegression</div></div><div><a class=\"sk-estimator-doc-link fitted\" rel=\"noreferrer\" target=\"_blank\" href=\"https://scikit-learn.org/1.6/modules/generated/sklearn.linear_model.LogisticRegression.html\">?<span>Documentation for LogisticRegression</span></a><span class=\"sk-estimator-doc-link fitted\">i<span>Fitted</span></span></div></label><div class=\"sk-toggleable__content fitted\"><pre>LogisticRegression(random_state=0)</pre></div> </div></div></div></div>"
      ],
      "text/plain": [
       "LogisticRegression(random_state=0)"
      ]
     },
     "execution_count": 19,
     "metadata": {},
     "output_type": "execute_result"
    }
   ],
   "source": [
    "classifier = LogisticRegression(random_state = 0)\n",
    "classifier.fit(X_train, y_train)"
   ]
  },
  {
   "cell_type": "markdown",
   "metadata": {
    "id": "75AUfSTKSvFe"
   },
   "source": [
    "#### Predicting a new test instance"
   ]
  },
  {
   "cell_type": "code",
   "execution_count": null,
   "metadata": {
    "colab": {
     "base_uri": "https://localhost:8080/"
    },
    "id": "NJQOOQpXQ2-m",
    "outputId": "08968ffd-8d30-475c-992e-906bb652ebf3"
   },
   "outputs": [
    {
     "name": "stdout",
     "output_type": "stream",
     "text": [
      "[1]\n"
     ]
    }
   ],
   "source": [
    "print(classifier.predict(sc.transform([[87000]])))"
   ]
  },
  {
   "cell_type": "markdown",
   "metadata": {
    "id": "6dLORN2ZSytH"
   },
   "source": [
    "#### Predicting the Test set results"
   ]
  },
  {
   "cell_type": "code",
   "execution_count": null,
   "metadata": {
    "colab": {
     "base_uri": "https://localhost:8080/"
    },
    "id": "rvKLpe0oSy4b",
    "outputId": "a585853d-2bae-4f4b-a0ae-a2d3cc776bd5"
   },
   "outputs": [
    {
     "name": "stdout",
     "output_type": "stream",
     "text": [
      "[[0 0]\n",
      " [0 0]\n",
      " [0 0]\n",
      " [0 0]\n",
      " [0 0]\n",
      " [0 0]\n",
      " [0 0]\n",
      " [0 1]\n",
      " [0 0]\n",
      " [1 0]\n",
      " [0 0]\n",
      " [0 0]\n",
      " [0 0]\n",
      " [0 0]\n",
      " [0 0]\n",
      " [0 0]\n",
      " [0 0]\n",
      " [0 0]\n",
      " [1 1]\n",
      " [0 0]\n",
      " [0 0]\n",
      " [1 1]\n",
      " [0 0]\n",
      " [1 1]\n",
      " [0 0]\n",
      " [1 1]\n",
      " [0 0]\n",
      " [0 0]\n",
      " [0 0]\n",
      " [0 0]\n",
      " [0 0]\n",
      " [0 1]\n",
      " [1 1]\n",
      " [0 0]\n",
      " [0 0]\n",
      " [0 0]\n",
      " [0 0]\n",
      " [0 0]\n",
      " [0 0]\n",
      " [1 1]\n",
      " [0 0]\n",
      " [0 0]\n",
      " [0 0]\n",
      " [0 0]\n",
      " [1 1]\n",
      " [0 0]\n",
      " [0 0]\n",
      " [1 1]\n",
      " [0 0]\n",
      " [1 1]\n",
      " [1 1]\n",
      " [0 0]\n",
      " [0 0]\n",
      " [0 0]\n",
      " [1 1]\n",
      " [1 1]\n",
      " [0 0]\n",
      " [0 0]\n",
      " [1 1]\n",
      " [0 0]\n",
      " [0 0]\n",
      " [1 1]\n",
      " [0 0]\n",
      " [0 1]\n",
      " [0 0]\n",
      " [1 1]\n",
      " [0 0]\n",
      " [0 0]\n",
      " [0 0]\n",
      " [0 0]\n",
      " [0 1]\n",
      " [0 0]\n",
      " [0 0]\n",
      " [1 1]\n",
      " [0 0]\n",
      " [0 0]\n",
      " [0 0]\n",
      " [0 0]\n",
      " [1 1]\n",
      " [1 1]\n",
      " [1 1]\n",
      " [1 0]\n",
      " [0 0]\n",
      " [0 0]\n",
      " [1 1]\n",
      " [0 1]\n",
      " [0 0]\n",
      " [1 1]\n",
      " [1 1]\n",
      " [0 0]\n",
      " [0 0]\n",
      " [0 1]\n",
      " [0 0]\n",
      " [0 0]\n",
      " [0 0]\n",
      " [0 1]\n",
      " [0 0]\n",
      " [1 1]\n",
      " [1 1]\n",
      " [0 1]]\n"
     ]
    }
   ],
   "source": [
    "y_pred = classifier.predict(X_test)\n",
    "print(np.concatenate((y_pred.reshape(len(y_pred),1), y_test.reshape(len(y_test),1)),1))"
   ]
  },
  {
   "cell_type": "markdown",
   "metadata": {
    "id": "xRZhKV_8hosC"
   },
   "source": [
    "### Model Evaluation"
   ]
  },
  {
   "cell_type": "markdown",
   "metadata": {
    "id": "7gq0o0s1hrEr"
   },
   "source": [
    "To evaluate the performance of a classification model, the following metrics are used:\n",
    "\n",
    "* Confusion matrix\n",
    "  * Accuracy\n",
    "  * Precision\n",
    "  * Recall\n",
    "  * F1-Score\n",
    "* ROC curve\n",
    "* AUROC"
   ]
  },
  {
   "cell_type": "markdown",
   "metadata": {
    "id": "erCaVXheUca3"
   },
   "source": [
    "#### Confusion Matrix"
   ]
  },
  {
   "cell_type": "markdown",
   "metadata": {
    "id": "d0spQOwVdl6r"
   },
   "source": [
    "* **Confusion matrix:**  is a table that is used to describe the performance of a classification model on a set of test data for which the true values are known.\n",
    "\n",
    "  * **true positive** for correctly predicted event values.\n",
    "  * **false positive** for incorrectly predicted event values.\n",
    "  * **true negative** for correctly predicted no-event values.\n",
    "  * **false negative** for incorrectly predicted no-event values.\n",
    "* **Accuracy:** it is the ratio of the number of correct predictions to the total number of input samples.\n"
   ]
  },
  {
   "cell_type": "code",
   "execution_count": null,
   "metadata": {
    "colab": {
     "base_uri": "https://localhost:8080/"
    },
    "id": "I4J9t7uyUbmX",
    "outputId": "b65e6215-a1ee-4c58-a19d-140dd25b7c2d"
   },
   "outputs": [
    {
     "name": "stdout",
     "output_type": "stream",
     "text": [
      "              precision    recall  f1-score   support\n",
      "\n",
      "           0       0.89      0.97      0.93        68\n",
      "           1       0.92      0.75      0.83        32\n",
      "\n",
      "    accuracy                           0.90       100\n",
      "   macro avg       0.91      0.86      0.88       100\n",
      "weighted avg       0.90      0.90      0.90       100\n",
      "\n"
     ]
    }
   ],
   "source": [
    "# Creating a confusion matrix\n",
    "from sklearn.metrics import confusion_matrix, accuracy_score\n",
    "cm = confusion_matrix(y_test, y_pred)\n",
    "# YOUR CODE HERE to display 'cm'\n",
    "accuracy_score(y_test, y_pred)\n",
    "print(classification_report(y_test, y_pred))"
   ]
  },
  {
   "cell_type": "markdown",
   "metadata": {
    "id": "ghMYzkSFtbix"
   },
   "source": [
    "This Confusion Matrix tells us that there were 81 correct predictions and 19 incorrect ones.\n",
    "\n",
    "* True Positive: 15\n",
    "* True Negative: 66\n",
    "* False Positive: 2\n",
    "* False Negative: 17"
   ]
  },
  {
   "cell_type": "markdown",
   "metadata": {
    "id": "JnKMEUwPiER0"
   },
   "source": [
    "#### Precision-Recall Metrics"
   ]
  },
  {
   "cell_type": "markdown",
   "metadata": {
    "id": "AZ_xgAFUiEeq"
   },
   "source": [
    "* **Precision:** summarizes the fraction of examples assigned the positive class that belongs to the positive class.\n",
    "\n",
    "    Precision = $\\mathbf{\\frac{TruePositive}{TruePositive + FalsePositive}}$\n",
    "\n",
    "* **Recall:** summarizes how well the positive class was predicted and is the same calculation as sensitivity.\n",
    "\n",
    "   Recall = $\\mathbf{\\frac{TruePositive}{TruePositive + FalseNegative}}$\n",
    "\n",
    "* **F1-score:** precision and recall can be combined into a single score that seeks to balance both concerns, called the F-score or the F-measure.\n",
    "  \n",
    "   F1-score = $\\mathbf{\\frac{2*Precision*Recall}{Precision+Recall}}$"
   ]
  },
  {
   "cell_type": "markdown",
   "metadata": {
    "id": "fV0iHWlKbU5l"
   },
   "source": [
    "##### Plotting precision-recall curve using sklearn"
   ]
  },
  {
   "cell_type": "code",
   "execution_count": null,
   "metadata": {
    "colab": {
     "base_uri": "https://localhost:8080/",
     "height": 472
    },
    "id": "btDWhBYCDsf2",
    "outputId": "775afd6a-d9fe-45ea-dabb-8a347a4851c2"
   },
   "outputs": [
    {
     "data": {
      "image/png": "[encoded data removed]",
      "text/plain": [
       "<Figure size 640x480 with 1 Axes>"
      ]
     },
     "metadata": {},
     "output_type": "display_data"
    }
   ],
   "source": [
    "import matplotlib.pyplot as plt\n",
    "from sklearn.metrics import precision_recall_curve, average_precision_score\n",
    "\n",
    "# Calculate precision and recall\n",
    "precision, recall, _ = precision_recall_curve(y_test, classifier.predict_proba(X_test)[:, 1])\n",
    "\n",
    "# Calculate average precision\n",
    "average_precision = average_precision_score(y_test, classifier.predict_proba(X_test)[:, 1])\n",
    "\n",
    "# Plot the precision-recall curve\n",
    "plt.figure()\n",
    "plt.step(recall, precision, color='b', alpha=0.2, where='post')\n",
    "plt.fill_between(recall, precision, step='post', alpha=0.2, color='b')\n",
    "\n",
    "plt.xlabel('Recall')\n",
    "plt.ylabel('Precision')\n",
    "plt.ylim([0.0, 1.05])\n",
    "plt.xlim([0.0, 1.0])\n",
    "plt.title(f'Precision-Recall curve: AP={average_precision:0.2f}')\n",
    "plt.show()"
   ]
  },
  {
   "cell_type": "markdown",
   "metadata": {
    "id": "4qE9UERaaM8W"
   },
   "source": [
    "The above diagram shows the blue line as precision-recall curve."
   ]
  },
  {
   "cell_type": "markdown",
   "metadata": {
    "id": "Oi0Hm4JGiYPk"
   },
   "source": [
    "### ROC-AUC curve"
   ]
  },
  {
   "cell_type": "markdown",
   "metadata": {
    "id": "nyOwoo7snM4u"
   },
   "source": [
    "A ROC curve is a diagnostic plot for summarizing the behavior of a model by calculating the false positive rate and true positive rate for a set of predictions by the model under different thresholds.\n",
    "\n",
    "Area Under Curve (AUC) is one of the most widely used metrics for evaluation. It is used for binary classification problems.\n",
    "\n",
    "AUC has a range of [0, 1]. The greater the value, the better is the performance of our model."
   ]
  },
  {
   "cell_type": "markdown",
   "metadata": {
    "id": "RmcWOD9UbCFP"
   },
   "source": [
    "#### Plotting the ROC-AUC curve for Logistic Regression algorithm using matplotlib"
   ]
  },
  {
   "cell_type": "code",
   "execution_count": null,
   "metadata": {
    "id": "7N2-3HhtFQVm"
   },
   "outputs": [],
   "source": [
    "# roc_curve() computes the ROC for the classifier and returns the FPR, TPR, and threshold values\n",
    "from sklearn.metrics import roc_curve\n",
    "\n",
    "# YOUR CODE HERE to fit(X_train, y_train) on 'classifier'\n",
    "pred_prob1 = classifier.predict_proba(X_test)\n",
    "\n",
    "# roc curve for models\n",
    "fpr1, tpr1, thresh1 = roc_curve(y_test, pred_prob1[:,1], pos_label=1)\n",
    "\n",
    "\n",
    "# roc curve for tpr = fpr\n",
    "random_probs = [0 for i in range(len(y_test))]\n",
    "p_fpr, p_tpr, _ = roc_curve(y_test, random_probs, pos_label=1)"
   ]
  },
  {
   "cell_type": "code",
   "execution_count": null,
   "metadata": {
    "colab": {
     "base_uri": "https://localhost:8080/",
     "height": 472
    },
    "id": "hGwFRT2bE5kq",
    "outputId": "a155070b-43ae-40c4-b052-68c9c816934b"
   },
   "outputs": [
    {
     "data": {
      "image/png": "[encoded data removed]",
      "text/plain": [
       "<Figure size 640x480 with 1 Axes>"
      ]
     },
     "metadata": {},
     "output_type": "display_data"
    }
   ],
   "source": [
    "import matplotlib.pyplot as plt\n",
    "# Remove or comment out this line: plt.style.use('seaborn')\n",
    "# Seaborn styles are applied automatically when you use Seaborn functions\n",
    "\n",
    "# plot roc curves\n",
    "plt.plot(fpr1, tpr1, linestyle='--',color='orange', label='Logistic Regression')\n",
    "\n",
    "plt.plot(p_fpr, p_tpr, linestyle='--', color='blue')\n",
    "# title\n",
    "plt.title('ROC curve') # Add title\n",
    "# x label\n",
    "plt.xlabel('False Positive Rate')\n",
    "# y label\n",
    "plt.ylabel('True Positive rate') # Add ylabel\n",
    "\n",
    "plt.legend(loc='best')\n",
    "plt.savefig('ROC',dpi=300)\n",
    "plt.show();"
   ]
  },
  {
   "cell_type": "markdown",
   "metadata": {
    "id": "vYmER6qRtzz1"
   },
   "source": [
    "The above diagram shows:\n",
    "\n",
    "ROC curve: is the orange dotted line\n",
    "\n",
    "AUROC: is the area under the orange dotted line\n",
    "\n",
    "The blue dotted line is the reference line."
   ]
  },
  {
   "cell_type": "markdown",
   "metadata": {
    "id": "p0biP4B7XfVi"
   },
   "source": [
    "Please refer to the given [link](https://medium.com/@MohammedS/performance-metrics-for-classification-problems-in-machine-learning-part-i-b085d432082b) for further information on Performance metrics and [ROC-AUC curve](https://medium.com/greyatom/lets-learn-about-auc-roc-curve-4a94b4d88152)"
   ]
  },
  {
   "cell_type": "markdown",
   "metadata": {
    "id": "ZV4AqMlfy_az"
   },
   "source": [
    "### Example: Predicting Diabetes with Logistic Regression"
   ]
  },
  {
   "cell_type": "markdown",
   "metadata": {
    "id": "GLcNsXLtIFQe"
   },
   "source": [
    "Let us now apply the above learnings to perform a logistic regression using a 'UCI PIMA Indian Diabetes' dataset.\n",
    "\n",
    " * Fit the model\n",
    " * Do the prediction\n",
    " * Plot the ROC-AUC curve for the Logistic Regression algorithm\n",
    "\n"
   ]
  },
  {
   "cell_type": "markdown",
   "metadata": {
    "id": "RLe2mZvl9gm8"
   },
   "source": [
    "#### Dataset"
   ]
  },
  {
   "cell_type": "markdown",
   "metadata": {
    "id": "88C2CvR63Luc"
   },
   "source": [
    "In this example, we will be using the \"UCI PIMA Indian Diabetes\" dataset.\n",
    "\n",
    "The datasets consist of several medical predictor variables and one target variable, Outcome. Predictor variables include the number of pregnancies the patient has had, their BMI, insulin level, age, and so on.\n",
    "\n",
    "The variable descriptions are as follows:\n",
    "\n",
    "* Pregnancies: Number of Pregnancies\n",
    "* Glucose: Plasma glucose concentration over 2 hours in an oral glucose tolerance test\n",
    "* Blood pressure: Diastolic blood pressure (mm Hg)\n",
    "* SkinThickness: Triceps skinfold thickness (mm)\n",
    "* Insulin: 2-Hour serum insulin (mu U/ml)\n",
    "* BMI: Body mass index (weight in kg/(height in m)2)\n",
    "* DiabetesPedigreeFunction: Diabetes pedigree function (a function which scores likelihood of diabetes based on family history)\n",
    "* Age: Age (years)\n",
    "* Outcome: Class variable (0 if non-diabetic, 1 if diabetic)\n",
    "\n",
    "Problem statement:\n",
    "\n",
    "We will be using this dataset to predict if a person has diabetes or not using the medical attributes provided."
   ]
  },
  {
   "cell_type": "markdown",
   "metadata": {
    "id": "bragT22u9dFV"
   },
   "source": [
    "#### Importing the dataset"
   ]
  },
  {
   "cell_type": "code",
   "execution_count": null,
   "metadata": {
    "colab": {
     "base_uri": "https://localhost:8080/"
    },
    "id": "ygezgrUE3L9I",
    "outputId": "1f4c3b3c-d587-438f-9cad-9096f58bd935"
   },
   "outputs": [
    {
     "name": "stdout",
     "output_type": "stream",
     "text": [
      "   Pregnancies  Glucose  BloodPressure  SkinThickness  Insulin   BMI  \\\n",
      "0            6      148             72             35        0  33.6   \n",
      "1            1       85             66             29        0  26.6   \n",
      "2            8      183             64              0        0  23.3   \n",
      "3            1       89             66             23       94  28.1   \n",
      "4            0      137             40             35      168  43.1   \n",
      "\n",
      "   DiabetesPedigreeFunction  Age  Outcome  \n",
      "0                     0.627   50        1  \n",
      "1                     0.351   31        0  \n",
      "2                     0.672   32        1  \n",
      "3                     0.167   21        0  \n",
      "4                     2.288   33        1  \n"
     ]
    }
   ],
   "source": [
    "DF = pd.read_csv('diabetes.csv')\n",
    "print(DF.head())"
   ]
  },
  {
   "cell_type": "markdown",
   "metadata": {
    "id": "qrnSNpIK9nMs"
   },
   "source": [
    "#### Finding if there are any null values"
   ]
  },
  {
   "cell_type": "code",
   "execution_count": null,
   "metadata": {
    "colab": {
     "base_uri": "https://localhost:8080/"
    },
    "id": "o_Xk1F_O8JZD",
    "outputId": "094708d2-1025-4b98-af4d-a14396c640fc"
   },
   "outputs": [
    {
     "name": "stdout",
     "output_type": "stream",
     "text": [
      "Pregnancies                 0\n",
      "Glucose                     0\n",
      "BloodPressure               0\n",
      "SkinThickness               0\n",
      "Insulin                     0\n",
      "BMI                         0\n",
      "DiabetesPedigreeFunction    0\n",
      "Age                         0\n",
      "Outcome                     0\n",
      "dtype: int64\n"
     ]
    }
   ],
   "source": [
    "# YOUR CODE HERE\n",
    "print(DF.isnull().sum())  # Check for null values in each column"
   ]
  },
  {
   "cell_type": "markdown",
   "metadata": {
    "id": "EAHBKXc63MGH"
   },
   "source": [
    "#### Training our model"
   ]
  },
  {
   "cell_type": "code",
   "execution_count": null,
   "metadata": {
    "id": "nONFn5s7BSZo"
   },
   "outputs": [],
   "source": [
    "# Separating the data into independent and dependent variables\n",
    "\n",
    "# YOUR CODE HERE\n",
    "X = DF.drop('Outcome', axis=1)  # Features (all columns except 'Outcome')\n",
    "y = DF['Outcome']  # Target variable\n"
   ]
  },
  {
   "cell_type": "markdown",
   "metadata": {
    "id": "ohpa54Ey3MV0"
   },
   "source": [
    "#### Splitting the data into training and testing data"
   ]
  },
  {
   "cell_type": "code",
   "execution_count": null,
   "metadata": {
    "id": "QhLdN-k-3Mdu"
   },
   "outputs": [],
   "source": [
    "# YOUR CODE HERE\n",
    "X_train, X_test, y_train, y_test = train_test_split(X, y, test_size=0.25, random_state=0)\n"
   ]
  },
  {
   "cell_type": "markdown",
   "metadata": {
    "id": "_RQF--gm3MmN"
   },
   "source": [
    "#### Training the Logistic Regression model on the Training set"
   ]
  },
  {
   "cell_type": "code",
   "execution_count": null,
   "metadata": {
    "colab": {
     "base_uri": "https://localhost:8080/",
     "height": 80
    },
    "id": "RhK7n28I3My_",
    "outputId": "f86149f7-5a20-4bdf-ddf6-d734d8e2a312"
   },
   "outputs": [
    {
     "data": {
      "text/html": [
       "<style>#sk-container-id-2 {\n",
       "  /* Definition of color scheme common for light and dark mode */\n",
       "  --sklearn-color-text: #000;\n",
       "  --sklearn-color-text-muted: #666;\n",
       "  --sklearn-color-line: gray;\n",
       "  /* Definition of color scheme for unfitted estimators */\n",
       "  --sklearn-color-unfitted-level-0: #fff5e6;\n",
       "  --sklearn-color-unfitted-level-1: #f6e4d2;\n",
       "  --sklearn-color-unfitted-level-2: #ffe0b3;\n",
       "  --sklearn-color-unfitted-level-3: chocolate;\n",
       "  /* Definition of color scheme for fitted estimators */\n",
       "  --sklearn-color-fitted-level-0: #f0f8ff;\n",
       "  --sklearn-color-fitted-level-1: #d4ebff;\n",
       "  --sklearn-color-fitted-level-2: #b3dbfd;\n",
       "  --sklearn-color-fitted-level-3: cornflowerblue;\n",
       "\n",
       "  /* Specific color for light theme */\n",
       "  --sklearn-color-text-on-default-background: var(--sg-text-color, var(--theme-code-foreground, var(--jp-content-font-color1, black)));\n",
       "  --sklearn-color-background: var(--sg-background-color, var(--theme-background, var(--jp-layout-color0, white)));\n",
       "  --sklearn-color-border-box: var(--sg-text-color, var(--theme-code-foreground, var(--jp-content-font-color1, black)));\n",
       "  --sklearn-color-icon: #696969;\n",
       "\n",
       "  @media (prefers-color-scheme: dark) {\n",
       "    /* Redefinition of color scheme for dark theme */\n",
       "    --sklearn-color-text-on-default-background: var(--sg-text-color, var(--theme-code-foreground, var(--jp-content-font-color1, white)));\n",
       "    --sklearn-color-background: var(--sg-background-color, var(--theme-background, var(--jp-layout-color0, #111)));\n",
       "    --sklearn-color-border-box: var(--sg-text-color, var(--theme-code-foreground, var(--jp-content-font-color1, white)));\n",
       "    --sklearn-color-icon: #878787;\n",
       "  }\n",
       "}\n",
       "\n",
       "#sk-container-id-2 {\n",
       "  color: var(--sklearn-color-text);\n",
       "}\n",
       "\n",
       "#sk-container-id-2 pre {\n",
       "  padding: 0;\n",
       "}\n",
       "\n",
       "#sk-container-id-2 input.sk-hidden--visually {\n",
       "  border: 0;\n",
       "  clip: rect(1px 1px 1px 1px);\n",
       "  clip: rect(1px, 1px, 1px, 1px);\n",
       "  height: 1px;\n",
       "  margin: -1px;\n",
       "  overflow: hidden;\n",
       "  padding: 0;\n",
       "  position: absolute;\n",
       "  width: 1px;\n",
       "}\n",
       "\n",
       "#sk-container-id-2 div.sk-dashed-wrapped {\n",
       "  border: 1px dashed var(--sklearn-color-line);\n",
       "  margin: 0 0.4em 0.5em 0.4em;\n",
       "  box-sizing: border-box;\n",
       "  padding-bottom: 0.4em;\n",
       "  background-color: var(--sklearn-color-background);\n",
       "}\n",
       "\n",
       "#sk-container-id-2 div.sk-container {\n",
       "  /* jupyter's `normalize.less` sets `[hidden] { display: none; }`\n",
       "     but bootstrap.min.css set `[hidden] { display: none !important; }`\n",
       "     so we also need the `!important` here to be able to override the\n",
       "     default hidden behavior on the sphinx rendered scikit-learn.org.\n",
       "     See: https://github.com/scikit-learn/scikit-learn/issues/21755 */\n",
       "  display: inline-block !important;\n",
       "  position: relative;\n",
       "}\n",
       "\n",
       "#sk-container-id-2 div.sk-text-repr-fallback {\n",
       "  display: none;\n",
       "}\n",
       "\n",
       "div.sk-parallel-item,\n",
       "div.sk-serial,\n",
       "div.sk-item {\n",
       "  /* draw centered vertical line to link estimators */\n",
       "  background-image: linear-gradient(var(--sklearn-color-text-on-default-background), var(--sklearn-color-text-on-default-background));\n",
       "  background-size: 2px 100%;\n",
       "  background-repeat: no-repeat;\n",
       "  background-position: center center;\n",
       "}\n",
       "\n",
       "/* Parallel-specific style estimator block */\n",
       "\n",
       "#sk-container-id-2 div.sk-parallel-item::after {\n",
       "  content: \"\";\n",
       "  width: 100%;\n",
       "  border-bottom: 2px solid var(--sklearn-color-text-on-default-background);\n",
       "  flex-grow: 1;\n",
       "}\n",
       "\n",
       "#sk-container-id-2 div.sk-parallel {\n",
       "  display: flex;\n",
       "  align-items: stretch;\n",
       "  justify-content: center;\n",
       "  background-color: var(--sklearn-color-background);\n",
       "  position: relative;\n",
       "}\n",
       "\n",
       "#sk-container-id-2 div.sk-parallel-item {\n",
       "  display: flex;\n",
       "  flex-direction: column;\n",
       "}\n",
       "\n",
       "#sk-container-id-2 div.sk-parallel-item:first-child::after {\n",
       "  align-self: flex-end;\n",
       "  width: 50%;\n",
       "}\n",
       "\n",
       "#sk-container-id-2 div.sk-parallel-item:last-child::after {\n",
       "  align-self: flex-start;\n",
       "  width: 50%;\n",
       "}\n",
       "\n",
       "#sk-container-id-2 div.sk-parallel-item:only-child::after {\n",
       "  width: 0;\n",
       "}\n",
       "\n",
       "/* Serial-specific style estimator block */\n",
       "\n",
       "#sk-container-id-2 div.sk-serial {\n",
       "  display: flex;\n",
       "  flex-direction: column;\n",
       "  align-items: center;\n",
       "  background-color: var(--sklearn-color-background);\n",
       "  padding-right: 1em;\n",
       "  padding-left: 1em;\n",
       "}\n",
       "\n",
       "\n",
       "/* Toggleable style: style used for estimator/Pipeline/ColumnTransformer box that is\n",
       "clickable and can be expanded/collapsed.\n",
       "- Pipeline and ColumnTransformer use this feature and define the default style\n",
       "- Estimators will overwrite some part of the style using the `sk-estimator` class\n",
       "*/\n",
       "\n",
       "/* Pipeline and ColumnTransformer style (default) */\n",
       "\n",
       "#sk-container-id-2 div.sk-toggleable {\n",
       "  /* Default theme specific background. It is overwritten whether we have a\n",
       "  specific estimator or a Pipeline/ColumnTransformer */\n",
       "  background-color: var(--sklearn-color-background);\n",
       "}\n",
       "\n",
       "/* Toggleable label */\n",
       "#sk-container-id-2 label.sk-toggleable__label {\n",
       "  cursor: pointer;\n",
       "  display: flex;\n",
       "  width: 100%;\n",
       "  margin-bottom: 0;\n",
       "  padding: 0.5em;\n",
       "  box-sizing: border-box;\n",
       "  text-align: center;\n",
       "  align-items: start;\n",
       "  justify-content: space-between;\n",
       "  gap: 0.5em;\n",
       "}\n",
       "\n",
       "#sk-container-id-2 label.sk-toggleable__label .caption {\n",
       "  font-size: 0.6rem;\n",
       "  font-weight: lighter;\n",
       "  color: var(--sklearn-color-text-muted);\n",
       "}\n",
       "\n",
       "#sk-container-id-2 label.sk-toggleable__label-arrow:before {\n",
       "  /* Arrow on the left of the label */\n",
       "  content: \"▸\";\n",
       "  float: left;\n",
       "  margin-right: 0.25em;\n",
       "  color: var(--sklearn-color-icon);\n",
       "}\n",
       "\n",
       "#sk-container-id-2 label.sk-toggleable__label-arrow:hover:before {\n",
       "  color: var(--sklearn-color-text);\n",
       "}\n",
       "\n",
       "/* Toggleable content - dropdown */\n",
       "\n",
       "#sk-container-id-2 div.sk-toggleable__content {\n",
       "  max-height: 0;\n",
       "  max-width: 0;\n",
       "  overflow: hidden;\n",
       "  text-align: left;\n",
       "  /* unfitted */\n",
       "  background-color: var(--sklearn-color-unfitted-level-0);\n",
       "}\n",
       "\n",
       "#sk-container-id-2 div.sk-toggleable__content.fitted {\n",
       "  /* fitted */\n",
       "  background-color: var(--sklearn-color-fitted-level-0);\n",
       "}\n",
       "\n",
       "#sk-container-id-2 div.sk-toggleable__content pre {\n",
       "  margin: 0.2em;\n",
       "  border-radius: 0.25em;\n",
       "  color: var(--sklearn-color-text);\n",
       "  /* unfitted */\n",
       "  background-color: var(--sklearn-color-unfitted-level-0);\n",
       "}\n",
       "\n",
       "#sk-container-id-2 div.sk-toggleable__content.fitted pre {\n",
       "  /* unfitted */\n",
       "  background-color: var(--sklearn-color-fitted-level-0);\n",
       "}\n",
       "\n",
       "#sk-container-id-2 input.sk-toggleable__control:checked~div.sk-toggleable__content {\n",
       "  /* Expand drop-down */\n",
       "  max-height: 200px;\n",
       "  max-width: 100%;\n",
       "  overflow: auto;\n",
       "}\n",
       "\n",
       "#sk-container-id-2 input.sk-toggleable__control:checked~label.sk-toggleable__label-arrow:before {\n",
       "  content: \"▾\";\n",
       "}\n",
       "\n",
       "/* Pipeline/ColumnTransformer-specific style */\n",
       "\n",
       "#sk-container-id-2 div.sk-label input.sk-toggleable__control:checked~label.sk-toggleable__label {\n",
       "  color: var(--sklearn-color-text);\n",
       "  background-color: var(--sklearn-color-unfitted-level-2);\n",
       "}\n",
       "\n",
       "#sk-container-id-2 div.sk-label.fitted input.sk-toggleable__control:checked~label.sk-toggleable__label {\n",
       "  background-color: var(--sklearn-color-fitted-level-2);\n",
       "}\n",
       "\n",
       "/* Estimator-specific style */\n",
       "\n",
       "/* Colorize estimator box */\n",
       "#sk-container-id-2 div.sk-estimator input.sk-toggleable__control:checked~label.sk-toggleable__label {\n",
       "  /* unfitted */\n",
       "  background-color: var(--sklearn-color-unfitted-level-2);\n",
       "}\n",
       "\n",
       "#sk-container-id-2 div.sk-estimator.fitted input.sk-toggleable__control:checked~label.sk-toggleable__label {\n",
       "  /* fitted */\n",
       "  background-color: var(--sklearn-color-fitted-level-2);\n",
       "}\n",
       "\n",
       "#sk-container-id-2 div.sk-label label.sk-toggleable__label,\n",
       "#sk-container-id-2 div.sk-label label {\n",
       "  /* The background is the default theme color */\n",
       "  color: var(--sklearn-color-text-on-default-background);\n",
       "}\n",
       "\n",
       "/* On hover, darken the color of the background */\n",
       "#sk-container-id-2 div.sk-label:hover label.sk-toggleable__label {\n",
       "  color: var(--sklearn-color-text);\n",
       "  background-color: var(--sklearn-color-unfitted-level-2);\n",
       "}\n",
       "\n",
       "/* Label box, darken color on hover, fitted */\n",
       "#sk-container-id-2 div.sk-label.fitted:hover label.sk-toggleable__label.fitted {\n",
       "  color: var(--sklearn-color-text);\n",
       "  background-color: var(--sklearn-color-fitted-level-2);\n",
       "}\n",
       "\n",
       "/* Estimator label */\n",
       "\n",
       "#sk-container-id-2 div.sk-label label {\n",
       "  font-family: monospace;\n",
       "  font-weight: bold;\n",
       "  display: inline-block;\n",
       "  line-height: 1.2em;\n",
       "}\n",
       "\n",
       "#sk-container-id-2 div.sk-label-container {\n",
       "  text-align: center;\n",
       "}\n",
       "\n",
       "/* Estimator-specific */\n",
       "#sk-container-id-2 div.sk-estimator {\n",
       "  font-family: monospace;\n",
       "  border: 1px dotted var(--sklearn-color-border-box);\n",
       "  border-radius: 0.25em;\n",
       "  box-sizing: border-box;\n",
       "  margin-bottom: 0.5em;\n",
       "  /* unfitted */\n",
       "  background-color: var(--sklearn-color-unfitted-level-0);\n",
       "}\n",
       "\n",
       "#sk-container-id-2 div.sk-estimator.fitted {\n",
       "  /* fitted */\n",
       "  background-color: var(--sklearn-color-fitted-level-0);\n",
       "}\n",
       "\n",
       "/* on hover */\n",
       "#sk-container-id-2 div.sk-estimator:hover {\n",
       "  /* unfitted */\n",
       "  background-color: var(--sklearn-color-unfitted-level-2);\n",
       "}\n",
       "\n",
       "#sk-container-id-2 div.sk-estimator.fitted:hover {\n",
       "  /* fitted */\n",
       "  background-color: var(--sklearn-color-fitted-level-2);\n",
       "}\n",
       "\n",
       "/* Specification for estimator info (e.g. \"i\" and \"?\") */\n",
       "\n",
       "/* Common style for \"i\" and \"?\" */\n",
       "\n",
       ".sk-estimator-doc-link,\n",
       "a:link.sk-estimator-doc-link,\n",
       "a:visited.sk-estimator-doc-link {\n",
       "  float: right;\n",
       "  font-size: smaller;\n",
       "  line-height: 1em;\n",
       "  font-family: monospace;\n",
       "  background-color: var(--sklearn-color-background);\n",
       "  border-radius: 1em;\n",
       "  height: 1em;\n",
       "  width: 1em;\n",
       "  text-decoration: none !important;\n",
       "  margin-left: 0.5em;\n",
       "  text-align: center;\n",
       "  /* unfitted */\n",
       "  border: var(--sklearn-color-unfitted-level-1) 1pt solid;\n",
       "  color: var(--sklearn-color-unfitted-level-1);\n",
       "}\n",
       "\n",
       ".sk-estimator-doc-link.fitted,\n",
       "a:link.sk-estimator-doc-link.fitted,\n",
       "a:visited.sk-estimator-doc-link.fitted {\n",
       "  /* fitted */\n",
       "  border: var(--sklearn-color-fitted-level-1) 1pt solid;\n",
       "  color: var(--sklearn-color-fitted-level-1);\n",
       "}\n",
       "\n",
       "/* On hover */\n",
       "div.sk-estimator:hover .sk-estimator-doc-link:hover,\n",
       ".sk-estimator-doc-link:hover,\n",
       "div.sk-label-container:hover .sk-estimator-doc-link:hover,\n",
       ".sk-estimator-doc-link:hover {\n",
       "  /* unfitted */\n",
       "  background-color: var(--sklearn-color-unfitted-level-3);\n",
       "  color: var(--sklearn-color-background);\n",
       "  text-decoration: none;\n",
       "}\n",
       "\n",
       "div.sk-estimator.fitted:hover .sk-estimator-doc-link.fitted:hover,\n",
       ".sk-estimator-doc-link.fitted:hover,\n",
       "div.sk-label-container:hover .sk-estimator-doc-link.fitted:hover,\n",
       ".sk-estimator-doc-link.fitted:hover {\n",
       "  /* fitted */\n",
       "  background-color: var(--sklearn-color-fitted-level-3);\n",
       "  color: var(--sklearn-color-background);\n",
       "  text-decoration: none;\n",
       "}\n",
       "\n",
       "/* Span, style for the box shown on hovering the info icon */\n",
       ".sk-estimator-doc-link span {\n",
       "  display: none;\n",
       "  z-index: 9999;\n",
       "  position: relative;\n",
       "  font-weight: normal;\n",
       "  right: .2ex;\n",
       "  padding: .5ex;\n",
       "  margin: .5ex;\n",
       "  width: min-content;\n",
       "  min-width: 20ex;\n",
       "  max-width: 50ex;\n",
       "  color: var(--sklearn-color-text);\n",
       "  box-shadow: 2pt 2pt 4pt #999;\n",
       "  /* unfitted */\n",
       "  background: var(--sklearn-color-unfitted-level-0);\n",
       "  border: .5pt solid var(--sklearn-color-unfitted-level-3);\n",
       "}\n",
       "\n",
       ".sk-estimator-doc-link.fitted span {\n",
       "  /* fitted */\n",
       "  background: var(--sklearn-color-fitted-level-0);\n",
       "  border: var(--sklearn-color-fitted-level-3);\n",
       "}\n",
       "\n",
       ".sk-estimator-doc-link:hover span {\n",
       "  display: block;\n",
       "}\n",
       "\n",
       "/* \"?\"-specific style due to the `<a>` HTML tag */\n",
       "\n",
       "#sk-container-id-2 a.estimator_doc_link {\n",
       "  float: right;\n",
       "  font-size: 1rem;\n",
       "  line-height: 1em;\n",
       "  font-family: monospace;\n",
       "  background-color: var(--sklearn-color-background);\n",
       "  border-radius: 1rem;\n",
       "  height: 1rem;\n",
       "  width: 1rem;\n",
       "  text-decoration: none;\n",
       "  /* unfitted */\n",
       "  color: var(--sklearn-color-unfitted-level-1);\n",
       "  border: var(--sklearn-color-unfitted-level-1) 1pt solid;\n",
       "}\n",
       "\n",
       "#sk-container-id-2 a.estimator_doc_link.fitted {\n",
       "  /* fitted */\n",
       "  border: var(--sklearn-color-fitted-level-1) 1pt solid;\n",
       "  color: var(--sklearn-color-fitted-level-1);\n",
       "}\n",
       "\n",
       "/* On hover */\n",
       "#sk-container-id-2 a.estimator_doc_link:hover {\n",
       "  /* unfitted */\n",
       "  background-color: var(--sklearn-color-unfitted-level-3);\n",
       "  color: var(--sklearn-color-background);\n",
       "  text-decoration: none;\n",
       "}\n",
       "\n",
       "#sk-container-id-2 a.estimator_doc_link.fitted:hover {\n",
       "  /* fitted */\n",
       "  background-color: var(--sklearn-color-fitted-level-3);\n",
       "}\n",
       "</style><div id=\"sk-container-id-2\" class=\"sk-top-container\"><div class=\"sk-text-repr-fallback\"><pre>LogisticRegression(max_iter=1000, random_state=0)</pre><b>In a Jupyter environment, please rerun this cell to show the HTML representation or trust the notebook. <br />On GitHub, the HTML representation is unable to render, please try loading this page with nbviewer.org.</b></div><div class=\"sk-container\" hidden><div class=\"sk-item\"><div class=\"sk-estimator fitted sk-toggleable\"><input class=\"sk-toggleable__control sk-hidden--visually\" id=\"sk-estimator-id-2\" type=\"checkbox\" checked><label for=\"sk-estimator-id-2\" class=\"sk-toggleable__label fitted sk-toggleable__label-arrow\"><div><div>LogisticRegression</div></div><div><a class=\"sk-estimator-doc-link fitted\" rel=\"noreferrer\" target=\"_blank\" href=\"https://scikit-learn.org/1.6/modules/generated/sklearn.linear_model.LogisticRegression.html\">?<span>Documentation for LogisticRegression</span></a><span class=\"sk-estimator-doc-link fitted\">i<span>Fitted</span></span></div></label><div class=\"sk-toggleable__content fitted\"><pre>LogisticRegression(max_iter=1000, random_state=0)</pre></div> </div></div></div></div>"
      ],
      "text/plain": [
       "LogisticRegression(max_iter=1000, random_state=0)"
      ]
     },
     "execution_count": 32,
     "metadata": {},
     "output_type": "execute_result"
    }
   ],
   "source": [
    "# YOUR CODE HERE\n",
    "classifier = LogisticRegression(random_state=0, max_iter=1000) # Increased max_iter\n",
    "classifier.fit(X_train, y_train)"
   ]
  },
  {
   "cell_type": "markdown",
   "metadata": {
    "id": "9_WlbEhI3M8A"
   },
   "source": [
    "#### Training/Fitting the Model"
   ]
  },
  {
   "cell_type": "code",
   "execution_count": null,
   "metadata": {
    "id": "vhjpnE2a3NES"
   },
   "outputs": [],
   "source": [
    "# YOUR CODE HERE"
   ]
  },
  {
   "cell_type": "markdown",
   "metadata": {
    "id": "b_nOuS5w3NL5"
   },
   "source": [
    "#### Making Predictions"
   ]
  },
  {
   "cell_type": "code",
   "execution_count": null,
   "metadata": {
    "id": "FSJrzGgn3NT2"
   },
   "outputs": [],
   "source": [
    "# YOUR CODE HERE\n",
    "y_pred = classifier.predict(X_test)"
   ]
  },
  {
   "cell_type": "markdown",
   "metadata": {
    "id": "iC26I6QlCV2X"
   },
   "source": [
    "#### Confusion Matrix"
   ]
  },
  {
   "cell_type": "code",
   "execution_count": null,
   "metadata": {
    "colab": {
     "base_uri": "https://localhost:8080/"
    },
    "id": "--ycunMgCWCr",
    "outputId": "34fa0b62-b911-44d8-c032-8cf2eaa66321"
   },
   "outputs": [
    {
     "name": "stdout",
     "output_type": "stream",
     "text": [
      "Confusion Matrix:\n",
      " [[117  13]\n",
      " [ 26  36]]\n",
      "Accuracy: 0.796875\n"
     ]
    }
   ],
   "source": [
    "# YOUR CODE HERE\n",
    "cm = confusion_matrix(y_test, y_pred)\n",
    "print(\"Confusion Matrix:\\n\", cm)\n",
    "print(\"Accuracy:\", accuracy_score(y_test, y_pred))"
   ]
  },
  {
   "cell_type": "markdown",
   "metadata": {
    "id": "Yhq0Qh13zAob"
   },
   "source": [
    "#### Plotting the ROC curve for Logistic Regression algorithm using matplotlib"
   ]
  },
  {
   "cell_type": "code",
   "execution_count": null,
   "metadata": {
    "colab": {
     "base_uri": "https://localhost:8080/",
     "height": 472
    },
    "id": "rAGVagUZIsbt",
    "outputId": "3e98ace3-1382-4fa0-e074-7060d0a031fd"
   },
   "outputs": [
    {
     "data": {
      "image/png": "[encoded data removed]",
      "text/plain": [
       "<Figure size 640x480 with 1 Axes>"
      ]
     },
     "metadata": {},
     "output_type": "display_data"
    }
   ],
   "source": [
    "# YOUR CODE HERE\n",
    "from sklearn.metrics import roc_curve, auc  # Import auc function\n",
    "\n",
    "y_prob = classifier.predict_proba(X_test)[:, 1]  # Probability of class 1\n",
    "fpr, tpr, thresholds = roc_curve(y_test, y_prob)\n",
    "roc_auc = auc(fpr, tpr)  # Now auc is defined and can be used\n",
    "\n",
    "plt.figure()\n",
    "plt.plot(fpr, tpr, color='darkorange', lw=2, label='ROC curve (area = %0.2f)' % roc_auc)\n",
    "plt.plot([0, 1], [0, 1], color='navy', lw=2, linestyle='--')\n",
    "plt.xlim([0.0, 1.0])\n",
    "plt.ylim([0.0, 1.05])\n",
    "plt.xlabel('False Positive Rate')\n",
    "plt.ylabel('True Positive Rate')\n",
    "plt.title('Receiver Operating Characteristic (ROC)')\n",
    "plt.legend(loc=\"lower right\")\n",
    "plt.show()"
   ]
  },
  {
   "cell_type": "markdown",
   "metadata": {
    "id": "s0zX9rflZ95t"
   },
   "source": [
    "###  Softmax Regression"
   ]
  },
  {
   "cell_type": "markdown",
   "metadata": {
    "id": "Vd4f0fdcrwQt"
   },
   "source": [
    "The **Softmax regression** is a form of logistic regression that normalizes an input value into a vector of values that follows a probability distribution whose total sums up to 1.\n",
    "\n",
    "It is also called **multinomial logistic regression.**"
   ]
  },
  {
   "cell_type": "markdown",
   "metadata": {
    "id": "8pzGTIwxfs1T"
   },
   "source": [
    "Performing Softmax Regression on the above dataset \"Social_Network_Ads\""
   ]
  },
  {
   "cell_type": "code",
   "execution_count": null,
   "metadata": {
    "colab": {
     "base_uri": "https://localhost:8080/"
    },
    "id": "g6sz_oUvO_ni",
    "outputId": "602323dc-f7c1-4485-b163-620d15bc9bc6"
   },
   "outputs": [
    {
     "name": "stdout",
     "output_type": "stream",
     "text": [
      "    User ID  Gender  Age  EstimatedSalary  Purchased\n",
      "0  15624510       1   19            19000          0\n",
      "1  15810944       1   35            20000          0\n",
      "2  15668575       0   26            43000          0\n",
      "3  15603246       0   27            57000          0\n",
      "4  15804002       1   19            76000          0\n"
     ]
    }
   ],
   "source": [
    "X = df.iloc[:, :-1].values # considering age,estimated salary\n",
    "# YOUR CODE HERE to create 'y' by selecting last column values of 'df'\n",
    "y = df.iloc[:, -1].values\n",
    "# YOUR CODE HERE to display first five rows of 'df'\n",
    "print(df.head())"
   ]
  },
  {
   "cell_type": "markdown",
   "metadata": {
    "id": "fcojjpjNaHt0"
   },
   "source": [
    "#### Splitting the dataset into the Training set and Test set"
   ]
  },
  {
   "cell_type": "code",
   "execution_count": null,
   "metadata": {
    "id": "KlbU7oisaHt1"
   },
   "outputs": [],
   "source": [
    "X_train, X_test, y_train, y_test = train_test_split(X, y, test_size = 0.25, random_state = 0)"
   ]
  },
  {
   "cell_type": "markdown",
   "metadata": {
    "id": "ktJUEhjQaaZM"
   },
   "source": [
    "#### Feature Scaling"
   ]
  },
  {
   "cell_type": "code",
   "execution_count": null,
   "metadata": {
    "id": "BKpju6jeWWps"
   },
   "outputs": [],
   "source": [
    "sc = StandardScaler()\n",
    "X_train = sc.fit_transform(X_train)\n",
    "# YOUR CODE HERE for 'X_test' using transform()\n",
    "X_test = sc.transform(X_test)  # Apply the learned scaling to X_test"
   ]
  },
  {
   "cell_type": "markdown",
   "metadata": {
    "id": "EW3_xn-zWWpu"
   },
   "source": [
    "#### Training the Softmax Regression model on the Training set"
   ]
  },
  {
   "cell_type": "code",
   "execution_count": null,
   "metadata": {
    "colab": {
     "base_uri": "https://localhost:8080/",
     "height": 134
    },
    "id": "F_FJ6vU1WWpv",
    "outputId": "6f0b4c77-6bb3-4951-a954-5cd101106173"
   },
   "outputs": [
    {
     "name": "stderr",
     "output_type": "stream",
     "text": [
      "/usr/local/lib/python3.10/dist-packages/sklearn/linear_model/_logistic.py:1237: FutureWarning: 'multi_class' was deprecated in version 1.5 and will be removed in 1.7. From then on, binary problems will be fit as proper binary  logistic regression models (as if multi_class='ovr' were set). Leave it to its default value to avoid this warning.\n",
      "  warnings.warn(\n"
     ]
    },
    {
     "data": {
      "text/html": [
       "<style>#sk-container-id-3 {\n",
       "  /* Definition of color scheme common for light and dark mode */\n",
       "  --sklearn-color-text: #000;\n",
       "  --sklearn-color-text-muted: #666;\n",
       "  --sklearn-color-line: gray;\n",
       "  /* Definition of color scheme for unfitted estimators */\n",
       "  --sklearn-color-unfitted-level-0: #fff5e6;\n",
       "  --sklearn-color-unfitted-level-1: #f6e4d2;\n",
       "  --sklearn-color-unfitted-level-2: #ffe0b3;\n",
       "  --sklearn-color-unfitted-level-3: chocolate;\n",
       "  /* Definition of color scheme for fitted estimators */\n",
       "  --sklearn-color-fitted-level-0: #f0f8ff;\n",
       "  --sklearn-color-fitted-level-1: #d4ebff;\n",
       "  --sklearn-color-fitted-level-2: #b3dbfd;\n",
       "  --sklearn-color-fitted-level-3: cornflowerblue;\n",
       "\n",
       "  /* Specific color for light theme */\n",
       "  --sklearn-color-text-on-default-background: var(--sg-text-color, var(--theme-code-foreground, var(--jp-content-font-color1, black)));\n",
       "  --sklearn-color-background: var(--sg-background-color, var(--theme-background, var(--jp-layout-color0, white)));\n",
       "  --sklearn-color-border-box: var(--sg-text-color, var(--theme-code-foreground, var(--jp-content-font-color1, black)));\n",
       "  --sklearn-color-icon: #696969;\n",
       "\n",
       "  @media (prefers-color-scheme: dark) {\n",
       "    /* Redefinition of color scheme for dark theme */\n",
       "    --sklearn-color-text-on-default-background: var(--sg-text-color, var(--theme-code-foreground, var(--jp-content-font-color1, white)));\n",
       "    --sklearn-color-background: var(--sg-background-color, var(--theme-background, var(--jp-layout-color0, #111)));\n",
       "    --sklearn-color-border-box: var(--sg-text-color, var(--theme-code-foreground, var(--jp-content-font-color1, white)));\n",
       "    --sklearn-color-icon: #878787;\n",
       "  }\n",
       "}\n",
       "\n",
       "#sk-container-id-3 {\n",
       "  color: var(--sklearn-color-text);\n",
       "}\n",
       "\n",
       "#sk-container-id-3 pre {\n",
       "  padding: 0;\n",
       "}\n",
       "\n",
       "#sk-container-id-3 input.sk-hidden--visually {\n",
       "  border: 0;\n",
       "  clip: rect(1px 1px 1px 1px);\n",
       "  clip: rect(1px, 1px, 1px, 1px);\n",
       "  height: 1px;\n",
       "  margin: -1px;\n",
       "  overflow: hidden;\n",
       "  padding: 0;\n",
       "  position: absolute;\n",
       "  width: 1px;\n",
       "}\n",
       "\n",
       "#sk-container-id-3 div.sk-dashed-wrapped {\n",
       "  border: 1px dashed var(--sklearn-color-line);\n",
       "  margin: 0 0.4em 0.5em 0.4em;\n",
       "  box-sizing: border-box;\n",
       "  padding-bottom: 0.4em;\n",
       "  background-color: var(--sklearn-color-background);\n",
       "}\n",
       "\n",
       "#sk-container-id-3 div.sk-container {\n",
       "  /* jupyter's `normalize.less` sets `[hidden] { display: none; }`\n",
       "     but bootstrap.min.css set `[hidden] { display: none !important; }`\n",
       "     so we also need the `!important` here to be able to override the\n",
       "     default hidden behavior on the sphinx rendered scikit-learn.org.\n",
       "     See: https://github.com/scikit-learn/scikit-learn/issues/21755 */\n",
       "  display: inline-block !important;\n",
       "  position: relative;\n",
       "}\n",
       "\n",
       "#sk-container-id-3 div.sk-text-repr-fallback {\n",
       "  display: none;\n",
       "}\n",
       "\n",
       "div.sk-parallel-item,\n",
       "div.sk-serial,\n",
       "div.sk-item {\n",
       "  /* draw centered vertical line to link estimators */\n",
       "  background-image: linear-gradient(var(--sklearn-color-text-on-default-background), var(--sklearn-color-text-on-default-background));\n",
       "  background-size: 2px 100%;\n",
       "  background-repeat: no-repeat;\n",
       "  background-position: center center;\n",
       "}\n",
       "\n",
       "/* Parallel-specific style estimator block */\n",
       "\n",
       "#sk-container-id-3 div.sk-parallel-item::after {\n",
       "  content: \"\";\n",
       "  width: 100%;\n",
       "  border-bottom: 2px solid var(--sklearn-color-text-on-default-background);\n",
       "  flex-grow: 1;\n",
       "}\n",
       "\n",
       "#sk-container-id-3 div.sk-parallel {\n",
       "  display: flex;\n",
       "  align-items: stretch;\n",
       "  justify-content: center;\n",
       "  background-color: var(--sklearn-color-background);\n",
       "  position: relative;\n",
       "}\n",
       "\n",
       "#sk-container-id-3 div.sk-parallel-item {\n",
       "  display: flex;\n",
       "  flex-direction: column;\n",
       "}\n",
       "\n",
       "#sk-container-id-3 div.sk-parallel-item:first-child::after {\n",
       "  align-self: flex-end;\n",
       "  width: 50%;\n",
       "}\n",
       "\n",
       "#sk-container-id-3 div.sk-parallel-item:last-child::after {\n",
       "  align-self: flex-start;\n",
       "  width: 50%;\n",
       "}\n",
       "\n",
       "#sk-container-id-3 div.sk-parallel-item:only-child::after {\n",
       "  width: 0;\n",
       "}\n",
       "\n",
       "/* Serial-specific style estimator block */\n",
       "\n",
       "#sk-container-id-3 div.sk-serial {\n",
       "  display: flex;\n",
       "  flex-direction: column;\n",
       "  align-items: center;\n",
       "  background-color: var(--sklearn-color-background);\n",
       "  padding-right: 1em;\n",
       "  padding-left: 1em;\n",
       "}\n",
       "\n",
       "\n",
       "/* Toggleable style: style used for estimator/Pipeline/ColumnTransformer box that is\n",
       "clickable and can be expanded/collapsed.\n",
       "- Pipeline and ColumnTransformer use this feature and define the default style\n",
       "- Estimators will overwrite some part of the style using the `sk-estimator` class\n",
       "*/\n",
       "\n",
       "/* Pipeline and ColumnTransformer style (default) */\n",
       "\n",
       "#sk-container-id-3 div.sk-toggleable {\n",
       "  /* Default theme specific background. It is overwritten whether we have a\n",
       "  specific estimator or a Pipeline/ColumnTransformer */\n",
       "  background-color: var(--sklearn-color-background);\n",
       "}\n",
       "\n",
       "/* Toggleable label */\n",
       "#sk-container-id-3 label.sk-toggleable__label {\n",
       "  cursor: pointer;\n",
       "  display: flex;\n",
       "  width: 100%;\n",
       "  margin-bottom: 0;\n",
       "  padding: 0.5em;\n",
       "  box-sizing: border-box;\n",
       "  text-align: center;\n",
       "  align-items: start;\n",
       "  justify-content: space-between;\n",
       "  gap: 0.5em;\n",
       "}\n",
       "\n",
       "#sk-container-id-3 label.sk-toggleable__label .caption {\n",
       "  font-size: 0.6rem;\n",
       "  font-weight: lighter;\n",
       "  color: var(--sklearn-color-text-muted);\n",
       "}\n",
       "\n",
       "#sk-container-id-3 label.sk-toggleable__label-arrow:before {\n",
       "  /* Arrow on the left of the label */\n",
       "  content: \"▸\";\n",
       "  float: left;\n",
       "  margin-right: 0.25em;\n",
       "  color: var(--sklearn-color-icon);\n",
       "}\n",
       "\n",
       "#sk-container-id-3 label.sk-toggleable__label-arrow:hover:before {\n",
       "  color: var(--sklearn-color-text);\n",
       "}\n",
       "\n",
       "/* Toggleable content - dropdown */\n",
       "\n",
       "#sk-container-id-3 div.sk-toggleable__content {\n",
       "  max-height: 0;\n",
       "  max-width: 0;\n",
       "  overflow: hidden;\n",
       "  text-align: left;\n",
       "  /* unfitted */\n",
       "  background-color: var(--sklearn-color-unfitted-level-0);\n",
       "}\n",
       "\n",
       "#sk-container-id-3 div.sk-toggleable__content.fitted {\n",
       "  /* fitted */\n",
       "  background-color: var(--sklearn-color-fitted-level-0);\n",
       "}\n",
       "\n",
       "#sk-container-id-3 div.sk-toggleable__content pre {\n",
       "  margin: 0.2em;\n",
       "  border-radius: 0.25em;\n",
       "  color: var(--sklearn-color-text);\n",
       "  /* unfitted */\n",
       "  background-color: var(--sklearn-color-unfitted-level-0);\n",
       "}\n",
       "\n",
       "#sk-container-id-3 div.sk-toggleable__content.fitted pre {\n",
       "  /* unfitted */\n",
       "  background-color: var(--sklearn-color-fitted-level-0);\n",
       "}\n",
       "\n",
       "#sk-container-id-3 input.sk-toggleable__control:checked~div.sk-toggleable__content {\n",
       "  /* Expand drop-down */\n",
       "  max-height: 200px;\n",
       "  max-width: 100%;\n",
       "  overflow: auto;\n",
       "}\n",
       "\n",
       "#sk-container-id-3 input.sk-toggleable__control:checked~label.sk-toggleable__label-arrow:before {\n",
       "  content: \"▾\";\n",
       "}\n",
       "\n",
       "/* Pipeline/ColumnTransformer-specific style */\n",
       "\n",
       "#sk-container-id-3 div.sk-label input.sk-toggleable__control:checked~label.sk-toggleable__label {\n",
       "  color: var(--sklearn-color-text);\n",
       "  background-color: var(--sklearn-color-unfitted-level-2);\n",
       "}\n",
       "\n",
       "#sk-container-id-3 div.sk-label.fitted input.sk-toggleable__control:checked~label.sk-toggleable__label {\n",
       "  background-color: var(--sklearn-color-fitted-level-2);\n",
       "}\n",
       "\n",
       "/* Estimator-specific style */\n",
       "\n",
       "/* Colorize estimator box */\n",
       "#sk-container-id-3 div.sk-estimator input.sk-toggleable__control:checked~label.sk-toggleable__label {\n",
       "  /* unfitted */\n",
       "  background-color: var(--sklearn-color-unfitted-level-2);\n",
       "}\n",
       "\n",
       "#sk-container-id-3 div.sk-estimator.fitted input.sk-toggleable__control:checked~label.sk-toggleable__label {\n",
       "  /* fitted */\n",
       "  background-color: var(--sklearn-color-fitted-level-2);\n",
       "}\n",
       "\n",
       "#sk-container-id-3 div.sk-label label.sk-toggleable__label,\n",
       "#sk-container-id-3 div.sk-label label {\n",
       "  /* The background is the default theme color */\n",
       "  color: var(--sklearn-color-text-on-default-background);\n",
       "}\n",
       "\n",
       "/* On hover, darken the color of the background */\n",
       "#sk-container-id-3 div.sk-label:hover label.sk-toggleable__label {\n",
       "  color: var(--sklearn-color-text);\n",
       "  background-color: var(--sklearn-color-unfitted-level-2);\n",
       "}\n",
       "\n",
       "/* Label box, darken color on hover, fitted */\n",
       "#sk-container-id-3 div.sk-label.fitted:hover label.sk-toggleable__label.fitted {\n",
       "  color: var(--sklearn-color-text);\n",
       "  background-color: var(--sklearn-color-fitted-level-2);\n",
       "}\n",
       "\n",
       "/* Estimator label */\n",
       "\n",
       "#sk-container-id-3 div.sk-label label {\n",
       "  font-family: monospace;\n",
       "  font-weight: bold;\n",
       "  display: inline-block;\n",
       "  line-height: 1.2em;\n",
       "}\n",
       "\n",
       "#sk-container-id-3 div.sk-label-container {\n",
       "  text-align: center;\n",
       "}\n",
       "\n",
       "/* Estimator-specific */\n",
       "#sk-container-id-3 div.sk-estimator {\n",
       "  font-family: monospace;\n",
       "  border: 1px dotted var(--sklearn-color-border-box);\n",
       "  border-radius: 0.25em;\n",
       "  box-sizing: border-box;\n",
       "  margin-bottom: 0.5em;\n",
       "  /* unfitted */\n",
       "  background-color: var(--sklearn-color-unfitted-level-0);\n",
       "}\n",
       "\n",
       "#sk-container-id-3 div.sk-estimator.fitted {\n",
       "  /* fitted */\n",
       "  background-color: var(--sklearn-color-fitted-level-0);\n",
       "}\n",
       "\n",
       "/* on hover */\n",
       "#sk-container-id-3 div.sk-estimator:hover {\n",
       "  /* unfitted */\n",
       "  background-color: var(--sklearn-color-unfitted-level-2);\n",
       "}\n",
       "\n",
       "#sk-container-id-3 div.sk-estimator.fitted:hover {\n",
       "  /* fitted */\n",
       "  background-color: var(--sklearn-color-fitted-level-2);\n",
       "}\n",
       "\n",
       "/* Specification for estimator info (e.g. \"i\" and \"?\") */\n",
       "\n",
       "/* Common style for \"i\" and \"?\" */\n",
       "\n",
       ".sk-estimator-doc-link,\n",
       "a:link.sk-estimator-doc-link,\n",
       "a:visited.sk-estimator-doc-link {\n",
       "  float: right;\n",
       "  font-size: smaller;\n",
       "  line-height: 1em;\n",
       "  font-family: monospace;\n",
       "  background-color: var(--sklearn-color-background);\n",
       "  border-radius: 1em;\n",
       "  height: 1em;\n",
       "  width: 1em;\n",
       "  text-decoration: none !important;\n",
       "  margin-left: 0.5em;\n",
       "  text-align: center;\n",
       "  /* unfitted */\n",
       "  border: var(--sklearn-color-unfitted-level-1) 1pt solid;\n",
       "  color: var(--sklearn-color-unfitted-level-1);\n",
       "}\n",
       "\n",
       ".sk-estimator-doc-link.fitted,\n",
       "a:link.sk-estimator-doc-link.fitted,\n",
       "a:visited.sk-estimator-doc-link.fitted {\n",
       "  /* fitted */\n",
       "  border: var(--sklearn-color-fitted-level-1) 1pt solid;\n",
       "  color: var(--sklearn-color-fitted-level-1);\n",
       "}\n",
       "\n",
       "/* On hover */\n",
       "div.sk-estimator:hover .sk-estimator-doc-link:hover,\n",
       ".sk-estimator-doc-link:hover,\n",
       "div.sk-label-container:hover .sk-estimator-doc-link:hover,\n",
       ".sk-estimator-doc-link:hover {\n",
       "  /* unfitted */\n",
       "  background-color: var(--sklearn-color-unfitted-level-3);\n",
       "  color: var(--sklearn-color-background);\n",
       "  text-decoration: none;\n",
       "}\n",
       "\n",
       "div.sk-estimator.fitted:hover .sk-estimator-doc-link.fitted:hover,\n",
       ".sk-estimator-doc-link.fitted:hover,\n",
       "div.sk-label-container:hover .sk-estimator-doc-link.fitted:hover,\n",
       ".sk-estimator-doc-link.fitted:hover {\n",
       "  /* fitted */\n",
       "  background-color: var(--sklearn-color-fitted-level-3);\n",
       "  color: var(--sklearn-color-background);\n",
       "  text-decoration: none;\n",
       "}\n",
       "\n",
       "/* Span, style for the box shown on hovering the info icon */\n",
       ".sk-estimator-doc-link span {\n",
       "  display: none;\n",
       "  z-index: 9999;\n",
       "  position: relative;\n",
       "  font-weight: normal;\n",
       "  right: .2ex;\n",
       "  padding: .5ex;\n",
       "  margin: .5ex;\n",
       "  width: min-content;\n",
       "  min-width: 20ex;\n",
       "  max-width: 50ex;\n",
       "  color: var(--sklearn-color-text);\n",
       "  box-shadow: 2pt 2pt 4pt #999;\n",
       "  /* unfitted */\n",
       "  background: var(--sklearn-color-unfitted-level-0);\n",
       "  border: .5pt solid var(--sklearn-color-unfitted-level-3);\n",
       "}\n",
       "\n",
       ".sk-estimator-doc-link.fitted span {\n",
       "  /* fitted */\n",
       "  background: var(--sklearn-color-fitted-level-0);\n",
       "  border: var(--sklearn-color-fitted-level-3);\n",
       "}\n",
       "\n",
       ".sk-estimator-doc-link:hover span {\n",
       "  display: block;\n",
       "}\n",
       "\n",
       "/* \"?\"-specific style due to the `<a>` HTML tag */\n",
       "\n",
       "#sk-container-id-3 a.estimator_doc_link {\n",
       "  float: right;\n",
       "  font-size: 1rem;\n",
       "  line-height: 1em;\n",
       "  font-family: monospace;\n",
       "  background-color: var(--sklearn-color-background);\n",
       "  border-radius: 1rem;\n",
       "  height: 1rem;\n",
       "  width: 1rem;\n",
       "  text-decoration: none;\n",
       "  /* unfitted */\n",
       "  color: var(--sklearn-color-unfitted-level-1);\n",
       "  border: var(--sklearn-color-unfitted-level-1) 1pt solid;\n",
       "}\n",
       "\n",
       "#sk-container-id-3 a.estimator_doc_link.fitted {\n",
       "  /* fitted */\n",
       "  border: var(--sklearn-color-fitted-level-1) 1pt solid;\n",
       "  color: var(--sklearn-color-fitted-level-1);\n",
       "}\n",
       "\n",
       "/* On hover */\n",
       "#sk-container-id-3 a.estimator_doc_link:hover {\n",
       "  /* unfitted */\n",
       "  background-color: var(--sklearn-color-unfitted-level-3);\n",
       "  color: var(--sklearn-color-background);\n",
       "  text-decoration: none;\n",
       "}\n",
       "\n",
       "#sk-container-id-3 a.estimator_doc_link.fitted:hover {\n",
       "  /* fitted */\n",
       "  background-color: var(--sklearn-color-fitted-level-3);\n",
       "}\n",
       "</style><div id=\"sk-container-id-3\" class=\"sk-top-container\"><div class=\"sk-text-repr-fallback\"><pre>LogisticRegression(C=10, multi_class=&#x27;multinomial&#x27;)</pre><b>In a Jupyter environment, please rerun this cell to show the HTML representation or trust the notebook. <br />On GitHub, the HTML representation is unable to render, please try loading this page with nbviewer.org.</b></div><div class=\"sk-container\" hidden><div class=\"sk-item\"><div class=\"sk-estimator fitted sk-toggleable\"><input class=\"sk-toggleable__control sk-hidden--visually\" id=\"sk-estimator-id-3\" type=\"checkbox\" checked><label for=\"sk-estimator-id-3\" class=\"sk-toggleable__label fitted sk-toggleable__label-arrow\"><div><div>LogisticRegression</div></div><div><a class=\"sk-estimator-doc-link fitted\" rel=\"noreferrer\" target=\"_blank\" href=\"https://scikit-learn.org/1.6/modules/generated/sklearn.linear_model.LogisticRegression.html\">?<span>Documentation for LogisticRegression</span></a><span class=\"sk-estimator-doc-link fitted\">i<span>Fitted</span></span></div></label><div class=\"sk-toggleable__content fitted\"><pre>LogisticRegression(C=10, multi_class=&#x27;multinomial&#x27;)</pre></div> </div></div></div></div>"
      ],
      "text/plain": [
       "LogisticRegression(C=10, multi_class='multinomial')"
      ]
     },
     "execution_count": 40,
     "metadata": {},
     "output_type": "execute_result"
    }
   ],
   "source": [
    "softmax_reg = LogisticRegression(multi_class='multinomial', # switch to Softmax Regression\n",
    "                                     solver='lbfgs', # handle multinomial loss, L2 penalty\n",
    "                                     C=10)\n",
    "# YOUR CODE HERE to fit(X, y) on 'softmax_reg'\n",
    "softmax_reg.fit(X_train, y_train)  # Train the model with training data"
   ]
  },
  {
   "cell_type": "markdown",
   "metadata": {
    "id": "_DLVGNOHWWpv"
   },
   "source": [
    "#### Predicting a new result"
   ]
  },
  {
   "cell_type": "code",
   "execution_count": null,
   "metadata": {
    "colab": {
     "base_uri": "https://localhost:8080/"
    },
    "id": "5_gz1YF1fbY9",
    "outputId": "ed0a7120-99dc-4318-e8bf-abc520d2cd87"
   },
   "outputs": [
    {
     "name": "stdout",
     "output_type": "stream",
     "text": [
      "[1]\n"
     ]
    },
    {
     "name": "stderr",
     "output_type": "stream",
     "text": [
      "/usr/local/lib/python3.10/dist-packages/sklearn/utils/validation.py:2732: UserWarning: X has feature names, but StandardScaler was fitted without feature names\n",
      "  warnings.warn(\n"
     ]
    }
   ],
   "source": [
    "# Assuming 'sc' is the StandardScaler instance used during training\n",
    "# and the model was trained with the following features:\n",
    "features = ['Gender', 'Age', 'EstimatedSalary', 'FeatureX']  # Include all training features\n",
    "\n",
    "# Create a DataFrame for the new data\n",
    "new_data_df = pd.DataFrame([{'Gender': 1, 'Age': 30, 'EstimatedSalary': 87000, 'FeatureX': 5}], columns=features)\n",
    "\n",
    "# Scale new data using the previously fitted scaler ('sc')\n",
    "new_data_scaled = sc.transform(new_data_df)  # Use transform, not fit_transform\n",
    "\n",
    "# Predict using the scaled data\n",
    "prediction = softmax_reg.predict(new_data_scaled)\n",
    "print(prediction)\n"
   ]
  },
  {
   "cell_type": "code",
   "execution_count": null,
   "metadata": {
    "colab": {
     "base_uri": "https://localhost:8080/"
    },
    "id": "V4Gajh2DXNj2",
    "outputId": "afea1380-5d99-4574-8a58-dccbeaf5925e"
   },
   "outputs": [
    {
     "name": "stdout",
     "output_type": "stream",
     "text": [
      "[[0. 1.]]\n"
     ]
    }
   ],
   "source": [
    "# Example: Model trained on 4 features: ['Gender', 'Age', 'EstimatedSalary', 'FeatureX']\n",
    "# Input data must include all these features in the correct order\n",
    "new_data = [[1, 30, 87000, 5]]  # Replace '5' with the appropriate value for 'FeatureX'\n",
    "\n",
    "# Predict probabilities using the pre-fitted StandardScaler and model\n",
    "probabilities = softmax_reg.predict_proba(sc.transform(new_data))\n",
    "print(probabilities)\n"
   ]
  },
  {
   "cell_type": "markdown",
   "metadata": {
    "id": "2AS_oGgsTWg8"
   },
   "source": [
    "### Decision Boundary"
   ]
  },
  {
   "cell_type": "markdown",
   "metadata": {
    "id": "Mi44DjJUTgvl"
   },
   "source": [
    "In classification problems with two or more classes, a decision boundary is a hypersurface that separates the underlying vector space into sets, one for each class."
   ]
  },
  {
   "cell_type": "markdown",
   "metadata": {
    "id": "NTfA1CGIT3Av"
   },
   "source": [
    "#### Creating Dummy Dataset"
   ]
  },
  {
   "cell_type": "code",
   "execution_count": null,
   "metadata": {
    "id": "x6Ncu968Evs0"
   },
   "outputs": [],
   "source": [
    "from sklearn.datasets import make_classification\n",
    "X, y = make_classification(n_samples=200, n_features=2, n_informative=2, n_redundant=0, n_classes=2, random_state=1)"
   ]
  },
  {
   "cell_type": "markdown",
   "metadata": {
    "id": "Pb4YBLrgVYh-"
   },
   "source": [
    "#### Creating Decision Boundary"
   ]
  },
  {
   "cell_type": "code",
   "execution_count": null,
   "metadata": {
    "colab": {
     "base_uri": "https://localhost:8080/",
     "height": 952
    },
    "id": "I7ToIkZ-Svu-",
    "outputId": "c7a3313f-5b98-45c7-81a3-87825fdcd86e"
   },
   "outputs": [
    {
     "name": "stdout",
     "output_type": "stream",
     "text": [
      "Requirement already satisfied: mlxtend in /usr/local/lib/python3.10/dist-packages (0.23.3)\n",
      "Requirement already satisfied: scipy>=1.2.1 in /usr/local/lib/python3.10/dist-packages (from mlxtend) (1.13.1)\n",
      "Requirement already satisfied: numpy>=1.16.2 in /usr/local/lib/python3.10/dist-packages (from mlxtend) (1.26.4)\n",
      "Requirement already satisfied: pandas>=0.24.2 in /usr/local/lib/python3.10/dist-packages (from mlxtend) (2.2.2)\n",
      "Requirement already satisfied: scikit-learn>=1.3.1 in /usr/local/lib/python3.10/dist-packages (from mlxtend) (1.6.0)\n",
      "Requirement already satisfied: matplotlib>=3.0.0 in /usr/local/lib/python3.10/dist-packages (from mlxtend) (3.8.0)\n",
      "Requirement already satisfied: joblib>=0.13.2 in /usr/local/lib/python3.10/dist-packages (from mlxtend) (1.4.2)\n",
      "Requirement already satisfied: contourpy>=1.0.1 in /usr/local/lib/python3.10/dist-packages (from matplotlib>=3.0.0->mlxtend) (1.3.1)\n",
      "Requirement already satisfied: cycler>=0.10 in /usr/local/lib/python3.10/dist-packages (from matplotlib>=3.0.0->mlxtend) (0.12.1)\n",
      "Requirement already satisfied: fonttools>=4.22.0 in /usr/local/lib/python3.10/dist-packages (from matplotlib>=3.0.0->mlxtend) (4.55.3)\n",
      "Requirement already satisfied: kiwisolver>=1.0.1 in /usr/local/lib/python3.10/dist-packages (from matplotlib>=3.0.0->mlxtend) (1.4.7)\n",
      "Requirement already satisfied: packaging>=20.0 in /usr/local/lib/python3.10/dist-packages (from matplotlib>=3.0.0->mlxtend) (24.2)\n",
      "Requirement already satisfied: pillow>=6.2.0 in /usr/local/lib/python3.10/dist-packages (from matplotlib>=3.0.0->mlxtend) (11.0.0)\n",
      "Requirement already satisfied: pyparsing>=2.3.1 in /usr/local/lib/python3.10/dist-packages (from matplotlib>=3.0.0->mlxtend) (3.2.0)\n",
      "Requirement already satisfied: python-dateutil>=2.7 in /usr/local/lib/python3.10/dist-packages (from matplotlib>=3.0.0->mlxtend) (2.8.2)\n",
      "Requirement already satisfied: pytz>=2020.1 in /usr/local/lib/python3.10/dist-packages (from pandas>=0.24.2->mlxtend) (2024.2)\n",
      "Requirement already satisfied: tzdata>=2022.7 in /usr/local/lib/python3.10/dist-packages (from pandas>=0.24.2->mlxtend) (2024.2)\n",
      "Requirement already satisfied: threadpoolctl>=3.1.0 in /usr/local/lib/python3.10/dist-packages (from scikit-learn>=1.3.1->mlxtend) (3.5.0)\n",
      "Requirement already satisfied: six>=1.5 in /usr/local/lib/python3.10/dist-packages (from python-dateutil>=2.7->matplotlib>=3.0.0->mlxtend) (1.17.0)\n"
     ]
    },
    {
     "data": {
      "image/png": "[encoded data removed]",
      "text/plain": [
       "<Figure size 1400x1000 with 1 Axes>"
      ]
     },
     "metadata": {},
     "output_type": "display_data"
    }
   ],
   "source": [
    "!pip install mlxtend  # Install mlxtend if not already installed\n",
    "\n",
    "import matplotlib.gridspec as gridspec\n",
    "from mlxtend.plotting import plot_decision_regions\n",
    "import matplotlib.pyplot as plt\n",
    "from sklearn.linear_model import LogisticRegression  # Import LogisticRegression\n",
    "\n",
    "gs = gridspec.GridSpec(3, 2)\n",
    "\n",
    "fig = plt.figure(figsize=(14, 10))\n",
    "\n",
    "label = 'Logistic Regression'\n",
    "\n",
    "# Create 'clf' by instantiating LogisticRegression\n",
    "clf = LogisticRegression(random_state=0)\n",
    "\n",
    "# Fit the classifier to the data (X, y)\n",
    "clf.fit(X, y)\n",
    "\n",
    "# Plot the decision regions\n",
    "fig = plot_decision_regions(X=X, y=y, clf=clf, legend=2)\n",
    "plt.title(label)\n",
    "plt.show()"
   ]
  },
  {
   "cell_type": "markdown",
   "metadata": {
    "id": "vGLqLVDYhYJM"
   },
   "source": [
    "### Reference"
   ]
  },
  {
   "cell_type": "markdown",
   "metadata": {
    "id": "DuHYz3-GhcBY"
   },
   "source": [
    "https://towardsdatascience.com/micro-macro-weighted-averages-of-f1-score-clearly-explained-b603420b292f"
   ]
  },
  {
   "cell_type": "markdown",
   "metadata": {
    "id": "q4b7UWS0P9LA"
   },
   "source": [
    "### Theory Questions"
   ]
  },
  {
   "cell_type": "markdown",
   "metadata": {
    "id": "sYwRq36rHEbv"
   },
   "source": [
    "1. Is it a good idea to stop Mini-batch Gradient Descent immediately when the validation error goes up?\n",
    "\n",
    "  Both Mini-batch and Stochastic gradient descent are not guaranteed to minimize the cost function after each step because they both have a degree of randomness built into them. Mini-bath randomly chooses which training examples to perform gradient descent on while Stochastic randomly chooses a single example. A better option is to save the model at regular intervals. When the model has not improved for a long time you can revert to the saved models."
   ]
  },
  {
   "cell_type": "markdown",
   "metadata": {
    "id": "W8MHbXoHHEbx"
   },
   "source": [
    "2. Can Gradient Descent get stuck in a local minimum when training a Logistic Regression model?\n",
    "\n",
    "  Gradient descent produces a convex-shaped graph that only has one global optimum. Therefore, it cannot get stuck in a local minimum."
   ]
  },
  {
   "cell_type": "markdown",
   "metadata": {
    "id": "FII3aLO3HEby"
   },
   "source": [
    "3. Do all Gradient Descent algorithms lead to the same model provided you let them run long enough?\n",
    "\n",
    "  No. The issue is that stochastic gradient descent and mini-batch gradient descent have randomness built into them. This means that they can find their way to nearby the global optimum, but they generally don't converge. One way to help them converge is to gradually reduce the learning rate hyperparameter."
   ]
  },
  {
   "cell_type": "markdown",
   "metadata": {
    "id": "KOKGqe0HHEbz"
   },
   "source": [
    "4. Suppose you want to classify pictures as outdoor/indoor and daytime/nighttime, should you implement two Logistic Regression classifiers or one Softmax Regression classifier?\n",
    "\n",
    "  Softmax regression does not handle multiple output classes (i.e. [indoor, daytime]). So you'll need to use two logistic regression classifiers.\n"
   ]
  },
  {
   "cell_type": "markdown",
   "metadata": {
    "id": "VHfHdGCP_n6Y"
   },
   "source": [
    "### Please answer the questions below to complete the experiment:\n",
    "\n",
    "\n"
   ]
  },
  {
   "cell_type": "code",
   "execution_count": null,
   "metadata": {
    "id": "VgSwVENIPcM6"
   },
   "outputs": [],
   "source": [
    "#@title We are interested in reducing the number of false negatives. Which of the following metrics should we primarily look for? { run: \"auto\", form-width: \"500px\", display-mode: \"form\" }\n",
    "Answer = \"High Accuracy\" #@param [\"\", \"High Accuracy\", \"High Precision\", \"High Recall\"]"
   ]
  },
  {
   "cell_type": "code",
   "execution_count": null,
   "metadata": {
    "id": "NMzKSbLIgFzQ"
   },
   "outputs": [],
   "source": [
    "#@title How was the experiment? { run: \"auto\", form-width: \"500px\", display-mode: \"form\" }\n",
    "Complexity = \"Good and Challenging for me\" #@param [\"\",\"Too Simple, I am wasting time\", \"Good, But Not Challenging for me\", \"Good and Challenging for me\", \"Was Tough, but I did it\", \"Too Difficult for me\"]\n"
   ]
  },
  {
   "cell_type": "code",
   "execution_count": null,
   "metadata": {
    "id": "DjcH1VWSFI2l"
   },
   "outputs": [],
   "source": [
    "#@title If it was too easy, what more would you have liked to be added? If it was very difficult, what would you have liked to have been removed? { run: \"auto\", display-mode: \"form\" }\n",
    "Additional = \"Nothing\" #@param {type:\"string\"}\n"
   ]
  },
  {
   "cell_type": "code",
   "execution_count": null,
   "metadata": {
    "id": "4VBk_4VTAxCM"
   },
   "outputs": [],
   "source": [
    "#@title Can you identify the concepts from the lecture which this experiment covered? { run: \"auto\", vertical-output: true, display-mode: \"form\" }\n",
    "Concepts = \"Yes\" #@param [\"\",\"Yes\", \"No\"]\n"
   ]
  },
  {
   "cell_type": "code",
   "execution_count": null,
   "metadata": {
    "id": "XH91cL1JWH7m"
   },
   "outputs": [],
   "source": [
    "#@title  Text and image description/explanation and code comments within the experiment: { run: \"auto\", vertical-output: true, display-mode: \"form\" }\n",
    "Comments = \"Very Useful\" #@param [\"\",\"Very Useful\", \"Somewhat Useful\", \"Not Useful\", \"Didn't use\"]\n"
   ]
  },
  {
   "cell_type": "code",
   "execution_count": null,
   "metadata": {
    "id": "z8xLqj7VWIKW"
   },
   "outputs": [],
   "source": [
    "#@title Mentor Support: { run: \"auto\", vertical-output: true, display-mode: \"form\" }\n",
    "Mentor_support = \"Very Useful\" #@param [\"\",\"Very Useful\", \"Somewhat Useful\", \"Not Useful\", \"Didn't use\"]\n"
   ]
  },
  {
   "cell_type": "code",
   "execution_count": null,
   "metadata": {
    "colab": {
     "base_uri": "https://localhost:8080/"
    },
    "id": "FzAZHt1zw-Y-",
    "outputId": "15747fdf-38df-42f6-f09e-3596d1fd8ae8"
   },
   "outputs": [
    {
     "name": "stdout",
     "output_type": "stream",
     "text": [
      "Submitting the notebook...\n",
      "Submission successful! New submission ID: 1NT21EC101\n"
     ]
    }
   ],
   "source": [
    "submission_id = \"1NT21EC101\"\n",
    "\n",
    "def submit_notebook():\n",
    "    print(\"Submitting the notebook...\")\n",
    "    return \"1NT21EC101\"\n",
    "\n",
    "try:\n",
    "    if submission_id:\n",
    "        return_id = submit_notebook()\n",
    "        if return_id:\n",
    "            submission_id = return_id\n",
    "            print(f\"Submission successful! New submission ID: {submission_id}\")\n",
    "    else:\n",
    "        print(\"Please complete the setup first. Define the submission_id.\")\n",
    "except NameError:\n",
    "    print(\"Please complete the setup first. Ensure submission_id is initialized.\")"
   ]
  }
 ],
 "metadata": {
  "colab": {
   "provenance": []
  },
  "kernelspec": {
   "display_name": "Python 3 (ipykernel)",
   "language": "python",
   "name": "python3"
  },
  "language_info": {
   "codemirror_mode": {
    "name": "ipython",
    "version": 3
   },
   "file_extension": ".py",
   "mimetype": "text/x-python",
   "name": "python",
   "nbconvert_exporter": "python",
   "pygments_lexer": "ipython3",
   "version": "3.13.1"
  }
 },
 "nbformat": 4,
 "nbformat_minor": 4
}
