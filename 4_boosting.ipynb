{
 "cells": [
  {
   "cell_type": "markdown",
   "metadata": {
    "id": "QeP1PAXf8jYD"
   },
   "source": [
    "## Learning Objectives"
   ]
  },
  {
   "cell_type": "markdown",
   "metadata": {
    "id": "YfvGbXGGICEg"
   },
   "source": [
    "At the end of the experiment, you will be able to\n",
    "\n",
    "- understand various boosting methods\n",
    "- implement AdaBoost, Gradient Boosting and Extreme Gradient Boosting\n",
    "- implement stacking algorithm"
   ]
  },
  {
   "cell_type": "markdown",
   "metadata": {
    "id": "kcici309IMKU"
   },
   "source": [
    "### Boosting"
   ]
  },
  {
   "cell_type": "markdown",
   "metadata": {
    "id": "f7Cphim7IdBb"
   },
   "source": [
    "Boosting is a general ensemble method that creates a strong model from a number of weak learners.\n",
    "\n",
    "This is done by building a model from the training data, then creating a second model that attempts to correct the errors from the first model. Models are added until the training set is predicted perfectly or a maximum number of models are added.\n",
    "\n",
    "There  are  many  boosting  methods  available,  but  by  far  the  most  popular  are AdaBoost (short  for  Adaptive  Boosting)  and  Gradient  Boosting."
   ]
  },
  {
   "cell_type": "markdown",
   "metadata": {
    "id": "KLgYBjizJeMz"
   },
   "source": [
    "#### AdaBoost"
   ]
  },
  {
   "cell_type": "markdown",
   "metadata": {
    "id": "TAZJCwi3Jg3a"
   },
   "source": [
    "One way for a new predictor to correct its predecessor is to pay a bit more attention to the training instances that the predecessor underfitted. This results in new predictors  focusing  more  and  more  on  the  hard  cases.  This  is  the  technique  used  by  AdaBoost. For example, to build an AdaBoost classifier, a first base classifier (such as a Decision Tree) is trained and used to make predictions on the training set. The relative weight of  misclassified  training  instances  is  then  increased.  A  second  classifier  is  trained using the updated weights and again it makes predictions on the training set, weights are updated, and so on"
   ]
  },
  {
   "cell_type": "markdown",
   "metadata": {
    "id": "osm8e7fLK7C9"
   },
   "source": [
    "![Image](https://i.ibb.co/GTKtnG0/Boost.jpg)\n",
    "\n",
    "Figure 1: AdaBoost sequential training with instance weight updates"
   ]
  },
  {
   "cell_type": "markdown",
   "metadata": {
    "id": "OjSKIefJr_bv"
   },
   "source": [
    "#### Gradient Boosting"
   ]
  },
  {
   "cell_type": "markdown",
   "metadata": {
    "id": "leiyBlcNr_bv"
   },
   "source": [
    "Gradient boosting is known to be one of the leading ensemble algorithms. Gradient boosting algorithm uses gradient descent method to optimize the loss function.\n",
    "\n",
    "Just  like  AdaBoost, Gradient Boosting works by sequentially adding predictors to an ensemble, each one correcting its predecessor. However, instead of tweaking the instance weights at every iteration just like AdaBoost does, this method tries to fit the new predictor to the residual errors made by the previous predictor.\n",
    "\n",
    "A simpler way to train the gradient boosting regression trees ensemble technique is to use Scikit-Learn’s Gradient Boosting Regressor class. Much like the Random Forest Regressor class, it has hyperparameters to control the growth of Decision Trees (e.g., max_depth, min_samples_leaf, and so on), as  well  as  hyperparameters  to  control  the  ensemble  training,  such  as  the  number  of trees (n_estimators)."
   ]
  },
  {
   "cell_type": "markdown",
   "metadata": {
    "id": "-hbIpjeqr_bv"
   },
   "source": [
    "##### How boosting is accomplished?"
   ]
  },
  {
   "cell_type": "markdown",
   "metadata": {
    "id": "6uofXYxLr_bv"
   },
   "source": [
    "- Iteratively learning a set of weak models on subsets of the data\n",
    "- Weighting each weak prediction according to each weak learner's performance\n",
    "- Combine the weighted predictions to obtain a single weighted prediction\n",
    "- that is much better than the individual predictions themselves!\n",
    "\n",
    "\n",
    "Here is a list of essential components required by Gradient Boosting Algorithms:\n",
    "\n",
    "**Additive Model**\n",
    "\n",
    "We try to minimize losses by implementing more decision trees.  We can also diminish the error rates by minimizing the parameters. In cases like these, we create the model to ensure there are no changes to the existing tree despite the addition of another one.\n",
    "\n",
    "**Weak Learner**\n",
    "\n",
    "Weak learners are an essential part of gradient boosting for making predictions. We utilize regression trees to extract authentic values. It is essential to develop trees greedily to arrive at the most favorable split point. It is a significant reason why the model mostly overfits the specific dataset.\n",
    "\n",
    "**Loss Function**\n",
    "\n",
    "We must optimize loss functions to reduce prediction-related errors. Contrary to Ada Boost, the wrong result does not receive an increased weight in gradient boosting. Instead, it minimizes the loss function from weak learners by obtaining output averages."
   ]
  },
  {
   "cell_type": "markdown",
   "metadata": {
    "id": "BNLA8HiKxQhc"
   },
   "source": [
    "### Setup Steps:"
   ]
  },
  {
   "cell_type": "markdown",
   "metadata": {
    "id": "SCa1915Wr_bl"
   },
   "source": [
    "### Import required packages"
   ]
  },
  {
   "cell_type": "code",
   "execution_count": null,
   "metadata": {
    "id": "WM64Mh9rr_bl"
   },
   "outputs": [],
   "source": [
    "import numpy as np\n",
    "import pandas as pd\n",
    "import matplotlib.pyplot as plt\n",
    "import seaborn as sns\n",
    "# Import support vector regressor algorithm\n",
    "from sklearn.svm import SVR\n",
    "from sklearn.linear_model import Ridge, Lasso\n",
    "from sklearn.preprocessing import StandardScaler, LabelEncoder\n",
    "# Import modelling methods\n",
    "from sklearn.model_selection import train_test_split, RepeatedStratifiedKFold, cross_val_score\n",
    "# Import the model performance evaluation metrics\n",
    "from sklearn import metrics\n",
    "# Import Adaboost, Gradient Boost, Random Forest and Stacking algorithm\n",
    "from sklearn.ensemble import AdaBoostClassifier, GradientBoostingRegressor, RandomForestRegressor, StackingRegressor\n",
    "import warnings\n",
    "warnings.filterwarnings('ignore')\n",
    "from sklearn.tree import DecisionTreeClassifier, plot_tree\n",
    "\n",
    "# to visualize decision boundaries\n",
    "import graphviz\n",
    "import xgboost as xgb\n",
    "from xgboost import XGBRegressor"
   ]
  },
  {
   "cell_type": "markdown",
   "metadata": {
    "id": "8DVZkjZ5Cg6M"
   },
   "source": [
    "#### Define the AdaBoost classifier"
   ]
  },
  {
   "cell_type": "markdown",
   "metadata": {
    "id": "IqdnNe1DWRXg"
   },
   "source": [
    "Let’s take a closer look at the AdaBoost algorithm. Each instance weight $w^{(i)}$ is initially set to $\\frac{1}{m}$. A first predictor is trained and its weighted error rate $r_1$ is computed on the training set\n",
    "\n",
    "*Equation 1: Weighted error rate of the $j^{th}$ predictor*\n",
    "\n",
    "$r_j =$ $\\frac {\\underset{\\hat y_j^i \\neq y^i}{\\sum_{i=1}^{m} w^i}}{\\sum_{i=1}^{m} w^i}$\n",
    "\n",
    "where $\\hat{y_j^i}$ is  the $j^{th}$ predictor’s  prediction  for  the $i^{th}$ instance.\n",
    "\n",
    "The predictor’s weight $α_j$ is then computed using Equation 2, where $η$ is the learning  rate  hyperparameter. The  more  accurate  the  predictor  is,  the higher its weight will be. If it is just guessing randomly, then its weight will be close to zero.  However,  if  it  is  most  often  wrong  (i.e.,  less  accurate  than  random  guessing), then its weight will be negative.\n",
    "\n",
    "*Equation 2: Predictor weight*\n",
    "\n",
    "$\\alpha_j =$ $\\eta \\log \\frac{1-r_j}{r_J}$\n",
    "\n",
    "Next, the instance weights are updated using Equation 3: the misclassified instances are boosted.\n",
    "\n",
    "*Equation 3: Weight update rule*\n",
    "\n",
    "for $i= 1, 2,⋯,m$\n",
    "\n",
    "\\begin{align}\n",
    "w^{(i)} \\leftarrow \\left\\{ \\begin{array}{cc}\n",
    "                w^{(i)} & \\hspace{5mm} if \\hspace{2.5mm} \\hat y_j^{(i)} = y^{(i)} \\\\\n",
    "                w^{(i)} \\exp(a_j) & \\hspace{5mm} if \\hspace{2.5mm} \\hat y_j^{(i)} \\neq y^{(i)}  \\\\\n",
    "                \\end{array} \\right.\n",
    "\\end{align}\n",
    "\n",
    "Then all the instance weights are normalized (i.e., divided by $∑_{i=1}^{m} w_i$).\n",
    "\n",
    "Finally, a new predictor is trained using the updated weights, and the whole process is repeated  (the  new  predictor’s  weight  is  computed,  the  instance  weights  are  updated, then  another  predictor  is  trained,  and  so  on).  The  algorithm  stops  when  the  desired number of predictors is reached, or when a perfect predictor is found. To make predictions, AdaBoost simply computes the predictions of all the predictors and  weighs  them  using  the  predictor  weights  $α_j$.  The  predicted  class  is  the  one  that receives the majority of weighted votes (see Equation 4).\n",
    "\n",
    "*Equation 4: AdaBoost predictions*\n",
    "\n",
    "$\\hat y(X) = \\underset{k}{\\operatorname{argmax}} \\underset{\\hat y_j(X) = k}{\\operatorname{\\sum_{j=1}^{N} \\alpha_j}} \\hspace{1cm}$ Where $N$ is the number of predictors."
   ]
  },
  {
   "cell_type": "markdown",
   "metadata": {
    "id": "dzafWg5Hr_bo"
   },
   "source": [
    "In the following exercises, we will use the [Indian Liver Patient](https://www.kaggle.com/uciml/indian-liver-patient-records) dataset. The task is to predict whether a patient suffers from a liver disease using 10 features including Albumin, age, and gender. We will be training an AdaBoost ensemble to perform the classification task. In addition, given that this dataset is imbalanced, we will be using the ROC AUC score as a metric instead of accuracy.\n",
    "\n",
    "As a first step, we will start by instantiating an AdaBoost classifier."
   ]
  },
  {
   "cell_type": "code",
   "execution_count": null,
   "metadata": {
    "colab": {
     "base_uri": "https://localhost:8080/",
     "height": 206
    },
    "id": "zopN_4OGr_bo",
    "outputId": "0a77ee37-33f3-44cc-cf75-4e8e0dd0d304"
   },
   "outputs": [
    {
     "data": {
      "application/vnd.google.colaboratory.intrinsic+json": {
       "summary": "{\n  \"name\": \"df\",\n  \"rows\": 582,\n  \"fields\": [\n    {\n      \"column\": \"65\",\n      \"properties\": {\n        \"dtype\": \"number\",\n        \"std\": 16,\n        \"min\": 4,\n        \"max\": 90,\n        \"num_unique_values\": 72,\n        \"samples\": [\n          26,\n          23,\n          34\n        ],\n        \"semantic_type\": \"\",\n        \"description\": \"\"\n      }\n    },\n    {\n      \"column\": \"Female\",\n      \"properties\": {\n        \"dtype\": \"category\",\n        \"num_unique_values\": 2,\n        \"samples\": [\n          \"Female\",\n          \"Male\"\n        ],\n        \"semantic_type\": \"\",\n        \"description\": \"\"\n      }\n    },\n    {\n      \"column\": \"0.7\",\n      \"properties\": {\n        \"dtype\": \"number\",\n        \"std\": 6.213926366660364,\n        \"min\": 0.4,\n        \"max\": 75.0,\n        \"num_unique_values\": 113,\n        \"samples\": [\n          4.9,\n          1.8\n        ],\n        \"semantic_type\": \"\",\n        \"description\": \"\"\n      }\n    },\n    {\n      \"column\": \"0.1\",\n      \"properties\": {\n        \"dtype\": \"number\",\n        \"std\": 2.8103242379794104,\n        \"min\": 0.1,\n        \"max\": 19.7,\n        \"num_unique_values\": 80,\n        \"samples\": [\n          6.2,\n          5.5\n        ],\n        \"semantic_type\": \"\",\n        \"description\": \"\"\n      }\n    },\n    {\n      \"column\": \"187\",\n      \"properties\": {\n        \"dtype\": \"number\",\n        \"std\": 243,\n        \"min\": 63,\n        \"max\": 2110,\n        \"num_unique_values\": 263,\n        \"samples\": [\n          386,\n          209\n        ],\n        \"semantic_type\": \"\",\n        \"description\": \"\"\n      }\n    },\n    {\n      \"column\": \"16\",\n      \"properties\": {\n        \"dtype\": \"number\",\n        \"std\": 182,\n        \"min\": 10,\n        \"max\": 2000,\n        \"num_unique_values\": 152,\n        \"samples\": [\n          2000,\n          321\n        ],\n        \"semantic_type\": \"\",\n        \"description\": \"\"\n      }\n    },\n    {\n      \"column\": \"18\",\n      \"properties\": {\n        \"dtype\": \"number\",\n        \"std\": 289,\n        \"min\": 10,\n        \"max\": 4929,\n        \"num_unique_values\": 177,\n        \"samples\": [\n          55,\n          16\n        ],\n        \"semantic_type\": \"\",\n        \"description\": \"\"\n      }\n    },\n    {\n      \"column\": \"6.8\",\n      \"properties\": {\n        \"dtype\": \"number\",\n        \"std\": 1.0863055591268354,\n        \"min\": 2.7,\n        \"max\": 9.6,\n        \"num_unique_values\": 58,\n        \"samples\": [\n          7.5,\n          6.7\n        ],\n        \"semantic_type\": \"\",\n        \"description\": \"\"\n      }\n    },\n    {\n      \"column\": \"3.3\",\n      \"properties\": {\n        \"dtype\": \"number\",\n        \"std\": 0.7961760434039095,\n        \"min\": 0.9,\n        \"max\": 5.5,\n        \"num_unique_values\": 40,\n        \"samples\": [\n          2.0,\n          1.9\n        ],\n        \"semantic_type\": \"\",\n        \"description\": \"\"\n      }\n    },\n    {\n      \"column\": \"0.9\",\n      \"properties\": {\n        \"dtype\": \"number\",\n        \"std\": 0.3198629196001938,\n        \"min\": 0.3,\n        \"max\": 2.8,\n        \"num_unique_values\": 69,\n        \"samples\": [\n          1.6,\n          0.74\n        ],\n        \"semantic_type\": \"\",\n        \"description\": \"\"\n      }\n    },\n    {\n      \"column\": \"1\",\n      \"properties\": {\n        \"dtype\": \"number\",\n        \"std\": 0,\n        \"min\": 1,\n        \"max\": 2,\n        \"num_unique_values\": 2,\n        \"samples\": [\n          2,\n          1\n        ],\n        \"semantic_type\": \"\",\n        \"description\": \"\"\n      }\n    }\n  ]\n}",
       "type": "dataframe",
       "variable_name": "df"
      },
      "text/html": [
       "\n",
       "  <div id=\"df-dfe543ad-9432-4eab-b694-5f92ac81511f\" class=\"colab-df-container\">\n",
       "    <div>\n",
       "<style scoped>\n",
       "    .dataframe tbody tr th:only-of-type {\n",
       "        vertical-align: middle;\n",
       "    }\n",
       "\n",
       "    .dataframe tbody tr th {\n",
       "        vertical-align: top;\n",
       "    }\n",
       "\n",
       "    .dataframe thead th {\n",
       "        text-align: right;\n",
       "    }\n",
       "</style>\n",
       "<table border=\"1\" class=\"dataframe\">\n",
       "  <thead>\n",
       "    <tr style=\"text-align: right;\">\n",
       "      <th></th>\n",
       "      <th>65</th>\n",
       "      <th>Female</th>\n",
       "      <th>0.7</th>\n",
       "      <th>0.1</th>\n",
       "      <th>187</th>\n",
       "      <th>16</th>\n",
       "      <th>18</th>\n",
       "      <th>6.8</th>\n",
       "      <th>3.3</th>\n",
       "      <th>0.9</th>\n",
       "      <th>1</th>\n",
       "    </tr>\n",
       "  </thead>\n",
       "  <tbody>\n",
       "    <tr>\n",
       "      <th>0</th>\n",
       "      <td>62</td>\n",
       "      <td>Male</td>\n",
       "      <td>10.9</td>\n",
       "      <td>5.5</td>\n",
       "      <td>699</td>\n",
       "      <td>64</td>\n",
       "      <td>100</td>\n",
       "      <td>7.5</td>\n",
       "      <td>3.2</td>\n",
       "      <td>0.74</td>\n",
       "      <td>1</td>\n",
       "    </tr>\n",
       "    <tr>\n",
       "      <th>1</th>\n",
       "      <td>62</td>\n",
       "      <td>Male</td>\n",
       "      <td>7.3</td>\n",
       "      <td>4.1</td>\n",
       "      <td>490</td>\n",
       "      <td>60</td>\n",
       "      <td>68</td>\n",
       "      <td>7.0</td>\n",
       "      <td>3.3</td>\n",
       "      <td>0.89</td>\n",
       "      <td>1</td>\n",
       "    </tr>\n",
       "    <tr>\n",
       "      <th>2</th>\n",
       "      <td>58</td>\n",
       "      <td>Male</td>\n",
       "      <td>1.0</td>\n",
       "      <td>0.4</td>\n",
       "      <td>182</td>\n",
       "      <td>14</td>\n",
       "      <td>20</td>\n",
       "      <td>6.8</td>\n",
       "      <td>3.4</td>\n",
       "      <td>1.00</td>\n",
       "      <td>1</td>\n",
       "    </tr>\n",
       "    <tr>\n",
       "      <th>3</th>\n",
       "      <td>72</td>\n",
       "      <td>Male</td>\n",
       "      <td>3.9</td>\n",
       "      <td>2.0</td>\n",
       "      <td>195</td>\n",
       "      <td>27</td>\n",
       "      <td>59</td>\n",
       "      <td>7.3</td>\n",
       "      <td>2.4</td>\n",
       "      <td>0.40</td>\n",
       "      <td>1</td>\n",
       "    </tr>\n",
       "    <tr>\n",
       "      <th>4</th>\n",
       "      <td>46</td>\n",
       "      <td>Male</td>\n",
       "      <td>1.8</td>\n",
       "      <td>0.7</td>\n",
       "      <td>208</td>\n",
       "      <td>19</td>\n",
       "      <td>14</td>\n",
       "      <td>7.6</td>\n",
       "      <td>4.4</td>\n",
       "      <td>1.30</td>\n",
       "      <td>1</td>\n",
       "    </tr>\n",
       "  </tbody>\n",
       "</table>\n",
       "</div>\n",
       "    <div class=\"colab-df-buttons\">\n",
       "\n",
       "  <div class=\"colab-df-container\">\n",
       "    <button class=\"colab-df-convert\" onclick=\"convertToInteractive('df-dfe543ad-9432-4eab-b694-5f92ac81511f')\"\n",
       "            title=\"Convert this dataframe to an interactive table.\"\n",
       "            style=\"display:none;\">\n",
       "\n",
       "  <svg xmlns=\"http://www.w3.org/2000/svg\" height=\"24px\" viewBox=\"0 -960 960 960\">\n",
       "    <path d=\"M120-120v-720h720v720H120Zm60-500h600v-160H180v160Zm220 220h160v-160H400v160Zm0 220h160v-160H400v160ZM180-400h160v-160H180v160Zm440 0h160v-160H620v160ZM180-180h160v-160H180v160Zm440 0h160v-160H620v160Z\"/>\n",
       "  </svg>\n",
       "    </button>\n",
       "\n",
       "  <style>\n",
       "    .colab-df-container {\n",
       "      display:flex;\n",
       "      gap: 12px;\n",
       "    }\n",
       "\n",
       "    .colab-df-convert {\n",
       "      background-color: #E8F0FE;\n",
       "      border: none;\n",
       "      border-radius: 50%;\n",
       "      cursor: pointer;\n",
       "      display: none;\n",
       "      fill: #1967D2;\n",
       "      height: 32px;\n",
       "      padding: 0 0 0 0;\n",
       "      width: 32px;\n",
       "    }\n",
       "\n",
       "    .colab-df-convert:hover {\n",
       "      background-color: #E2EBFA;\n",
       "      box-shadow: 0px 1px 2px rgba(60, 64, 67, 0.3), 0px 1px 3px 1px rgba(60, 64, 67, 0.15);\n",
       "      fill: #174EA6;\n",
       "    }\n",
       "\n",
       "    .colab-df-buttons div {\n",
       "      margin-bottom: 4px;\n",
       "    }\n",
       "\n",
       "    [theme=dark] .colab-df-convert {\n",
       "      background-color: #3B4455;\n",
       "      fill: #D2E3FC;\n",
       "    }\n",
       "\n",
       "    [theme=dark] .colab-df-convert:hover {\n",
       "      background-color: #434B5C;\n",
       "      box-shadow: 0px 1px 3px 1px rgba(0, 0, 0, 0.15);\n",
       "      filter: drop-shadow(0px 1px 2px rgba(0, 0, 0, 0.3));\n",
       "      fill: #FFFFFF;\n",
       "    }\n",
       "  </style>\n",
       "\n",
       "    <script>\n",
       "      const buttonEl =\n",
       "        document.querySelector('#df-dfe543ad-9432-4eab-b694-5f92ac81511f button.colab-df-convert');\n",
       "      buttonEl.style.display =\n",
       "        google.colab.kernel.accessAllowed ? 'block' : 'none';\n",
       "\n",
       "      async function convertToInteractive(key) {\n",
       "        const element = document.querySelector('#df-dfe543ad-9432-4eab-b694-5f92ac81511f');\n",
       "        const dataTable =\n",
       "          await google.colab.kernel.invokeFunction('convertToInteractive',\n",
       "                                                    [key], {});\n",
       "        if (!dataTable) return;\n",
       "\n",
       "        const docLinkHtml = 'Like what you see? Visit the ' +\n",
       "          '<a target=\"_blank\" href=https://colab.research.google.com/notebooks/data_table.ipynb>data table notebook</a>'\n",
       "          + ' to learn more about interactive tables.';\n",
       "        element.innerHTML = '';\n",
       "        dataTable['output_type'] = 'display_data';\n",
       "        await google.colab.output.renderOutput(dataTable, element);\n",
       "        const docLink = document.createElement('div');\n",
       "        docLink.innerHTML = docLinkHtml;\n",
       "        element.appendChild(docLink);\n",
       "      }\n",
       "    </script>\n",
       "  </div>\n",
       "\n",
       "\n",
       "<div id=\"df-c15f7bc2-cb45-4102-aa3d-ad3eaba8f840\">\n",
       "  <button class=\"colab-df-quickchart\" onclick=\"quickchart('df-c15f7bc2-cb45-4102-aa3d-ad3eaba8f840')\"\n",
       "            title=\"Suggest charts\"\n",
       "            style=\"display:none;\">\n",
       "\n",
       "<svg xmlns=\"http://www.w3.org/2000/svg\" height=\"24px\"viewBox=\"0 0 24 24\"\n",
       "     width=\"24px\">\n",
       "    <g>\n",
       "        <path d=\"M19 3H5c-1.1 0-2 .9-2 2v14c0 1.1.9 2 2 2h14c1.1 0 2-.9 2-2V5c0-1.1-.9-2-2-2zM9 17H7v-7h2v7zm4 0h-2V7h2v10zm4 0h-2v-4h2v4z\"/>\n",
       "    </g>\n",
       "</svg>\n",
       "  </button>\n",
       "\n",
       "<style>\n",
       "  .colab-df-quickchart {\n",
       "      --bg-color: #E8F0FE;\n",
       "      --fill-color: #1967D2;\n",
       "      --hover-bg-color: #E2EBFA;\n",
       "      --hover-fill-color: #174EA6;\n",
       "      --disabled-fill-color: #AAA;\n",
       "      --disabled-bg-color: #DDD;\n",
       "  }\n",
       "\n",
       "  [theme=dark] .colab-df-quickchart {\n",
       "      --bg-color: #3B4455;\n",
       "      --fill-color: #D2E3FC;\n",
       "      --hover-bg-color: #434B5C;\n",
       "      --hover-fill-color: #FFFFFF;\n",
       "      --disabled-bg-color: #3B4455;\n",
       "      --disabled-fill-color: #666;\n",
       "  }\n",
       "\n",
       "  .colab-df-quickchart {\n",
       "    background-color: var(--bg-color);\n",
       "    border: none;\n",
       "    border-radius: 50%;\n",
       "    cursor: pointer;\n",
       "    display: none;\n",
       "    fill: var(--fill-color);\n",
       "    height: 32px;\n",
       "    padding: 0;\n",
       "    width: 32px;\n",
       "  }\n",
       "\n",
       "  .colab-df-quickchart:hover {\n",
       "    background-color: var(--hover-bg-color);\n",
       "    box-shadow: 0 1px 2px rgba(60, 64, 67, 0.3), 0 1px 3px 1px rgba(60, 64, 67, 0.15);\n",
       "    fill: var(--button-hover-fill-color);\n",
       "  }\n",
       "\n",
       "  .colab-df-quickchart-complete:disabled,\n",
       "  .colab-df-quickchart-complete:disabled:hover {\n",
       "    background-color: var(--disabled-bg-color);\n",
       "    fill: var(--disabled-fill-color);\n",
       "    box-shadow: none;\n",
       "  }\n",
       "\n",
       "  .colab-df-spinner {\n",
       "    border: 2px solid var(--fill-color);\n",
       "    border-color: transparent;\n",
       "    border-bottom-color: var(--fill-color);\n",
       "    animation:\n",
       "      spin 1s steps(1) infinite;\n",
       "  }\n",
       "\n",
       "  @keyframes spin {\n",
       "    0% {\n",
       "      border-color: transparent;\n",
       "      border-bottom-color: var(--fill-color);\n",
       "      border-left-color: var(--fill-color);\n",
       "    }\n",
       "    20% {\n",
       "      border-color: transparent;\n",
       "      border-left-color: var(--fill-color);\n",
       "      border-top-color: var(--fill-color);\n",
       "    }\n",
       "    30% {\n",
       "      border-color: transparent;\n",
       "      border-left-color: var(--fill-color);\n",
       "      border-top-color: var(--fill-color);\n",
       "      border-right-color: var(--fill-color);\n",
       "    }\n",
       "    40% {\n",
       "      border-color: transparent;\n",
       "      border-right-color: var(--fill-color);\n",
       "      border-top-color: var(--fill-color);\n",
       "    }\n",
       "    60% {\n",
       "      border-color: transparent;\n",
       "      border-right-color: var(--fill-color);\n",
       "    }\n",
       "    80% {\n",
       "      border-color: transparent;\n",
       "      border-right-color: var(--fill-color);\n",
       "      border-bottom-color: var(--fill-color);\n",
       "    }\n",
       "    90% {\n",
       "      border-color: transparent;\n",
       "      border-bottom-color: var(--fill-color);\n",
       "    }\n",
       "  }\n",
       "</style>\n",
       "\n",
       "  <script>\n",
       "    async function quickchart(key) {\n",
       "      const quickchartButtonEl =\n",
       "        document.querySelector('#' + key + ' button');\n",
       "      quickchartButtonEl.disabled = true;  // To prevent multiple clicks.\n",
       "      quickchartButtonEl.classList.add('colab-df-spinner');\n",
       "      try {\n",
       "        const charts = await google.colab.kernel.invokeFunction(\n",
       "            'suggestCharts', [key], {});\n",
       "      } catch (error) {\n",
       "        console.error('Error during call to suggestCharts:', error);\n",
       "      }\n",
       "      quickchartButtonEl.classList.remove('colab-df-spinner');\n",
       "      quickchartButtonEl.classList.add('colab-df-quickchart-complete');\n",
       "    }\n",
       "    (() => {\n",
       "      let quickchartButtonEl =\n",
       "        document.querySelector('#df-c15f7bc2-cb45-4102-aa3d-ad3eaba8f840 button');\n",
       "      quickchartButtonEl.style.display =\n",
       "        google.colab.kernel.accessAllowed ? 'block' : 'none';\n",
       "    })();\n",
       "  </script>\n",
       "</div>\n",
       "\n",
       "    </div>\n",
       "  </div>\n"
      ],
      "text/plain": [
       "   65 Female   0.7  0.1  187  16   18  6.8  3.3   0.9  1\n",
       "0  62   Male  10.9  5.5  699  64  100  7.5  3.2  0.74  1\n",
       "1  62   Male   7.3  4.1  490  60   68  7.0  3.3  0.89  1\n",
       "2  58   Male   1.0  0.4  182  14   20  6.8  3.4  1.00  1\n",
       "3  72   Male   3.9  2.0  195  27   59  7.3  2.4  0.40  1\n",
       "4  46   Male   1.8  0.7  208  19   14  7.6  4.4  1.30  1"
      ]
     },
     "execution_count": 6,
     "metadata": {},
     "output_type": "execute_result"
    }
   ],
   "source": [
    "df = pd.read_csv('Indian Liver Patient Dataset (ILPD).csv')\n",
    "df.head()"
   ]
  },
  {
   "cell_type": "markdown",
   "metadata": {
    "id": "YHfXwBEOr_bo"
   },
   "source": [
    "#### Preprocessing"
   ]
  },
  {
   "cell_type": "code",
   "execution_count": null,
   "metadata": {
    "colab": {
     "base_uri": "https://localhost:8080/",
     "height": 429
    },
    "id": "nS3a71p_r_bo",
    "outputId": "05e8d34c-d16f-4c06-ebd1-cfceaab1e9c5"
   },
   "outputs": [
    {
     "data": {
      "text/html": [
       "<div>\n",
       "<style scoped>\n",
       "    .dataframe tbody tr th:only-of-type {\n",
       "        vertical-align: middle;\n",
       "    }\n",
       "\n",
       "    .dataframe tbody tr th {\n",
       "        vertical-align: top;\n",
       "    }\n",
       "\n",
       "    .dataframe thead th {\n",
       "        text-align: right;\n",
       "    }\n",
       "</style>\n",
       "<table border=\"1\" class=\"dataframe\">\n",
       "  <thead>\n",
       "    <tr style=\"text-align: right;\">\n",
       "      <th></th>\n",
       "      <th>0</th>\n",
       "    </tr>\n",
       "  </thead>\n",
       "  <tbody>\n",
       "    <tr>\n",
       "      <th>65</th>\n",
       "      <td>0</td>\n",
       "    </tr>\n",
       "    <tr>\n",
       "      <th>Female</th>\n",
       "      <td>0</td>\n",
       "    </tr>\n",
       "    <tr>\n",
       "      <th>0.7</th>\n",
       "      <td>0</td>\n",
       "    </tr>\n",
       "    <tr>\n",
       "      <th>0.1</th>\n",
       "      <td>0</td>\n",
       "    </tr>\n",
       "    <tr>\n",
       "      <th>187</th>\n",
       "      <td>0</td>\n",
       "    </tr>\n",
       "    <tr>\n",
       "      <th>16</th>\n",
       "      <td>0</td>\n",
       "    </tr>\n",
       "    <tr>\n",
       "      <th>18</th>\n",
       "      <td>0</td>\n",
       "    </tr>\n",
       "    <tr>\n",
       "      <th>6.8</th>\n",
       "      <td>0</td>\n",
       "    </tr>\n",
       "    <tr>\n",
       "      <th>3.3</th>\n",
       "      <td>0</td>\n",
       "    </tr>\n",
       "    <tr>\n",
       "      <th>0.9</th>\n",
       "      <td>4</td>\n",
       "    </tr>\n",
       "    <tr>\n",
       "      <th>1</th>\n",
       "      <td>0</td>\n",
       "    </tr>\n",
       "  </tbody>\n",
       "</table>\n",
       "</div><br><label><b>dtype:</b> int64</label>"
      ],
      "text/plain": [
       "65        0\n",
       "Female    0\n",
       "0.7       0\n",
       "0.1       0\n",
       "187       0\n",
       "16        0\n",
       "18        0\n",
       "6.8       0\n",
       "3.3       0\n",
       "0.9       4\n",
       "1         0\n",
       "dtype: int64"
      ]
     },
     "execution_count": 7,
     "metadata": {},
     "output_type": "execute_result"
    }
   ],
   "source": [
    "# Check for missing values\n",
    "df.isnull().sum()"
   ]
  },
  {
   "cell_type": "code",
   "execution_count": null,
   "metadata": {
    "colab": {
     "base_uri": "https://localhost:8080/",
     "height": 429
    },
    "id": "A7bs8RBar_bo",
    "outputId": "292623d1-1718-4011-ca12-febd4a84a8ff"
   },
   "outputs": [
    {
     "data": {
      "text/html": [
       "<div>\n",
       "<style scoped>\n",
       "    .dataframe tbody tr th:only-of-type {\n",
       "        vertical-align: middle;\n",
       "    }\n",
       "\n",
       "    .dataframe tbody tr th {\n",
       "        vertical-align: top;\n",
       "    }\n",
       "\n",
       "    .dataframe thead th {\n",
       "        text-align: right;\n",
       "    }\n",
       "</style>\n",
       "<table border=\"1\" class=\"dataframe\">\n",
       "  <thead>\n",
       "    <tr style=\"text-align: right;\">\n",
       "      <th></th>\n",
       "      <th>0</th>\n",
       "    </tr>\n",
       "  </thead>\n",
       "  <tbody>\n",
       "    <tr>\n",
       "      <th>65</th>\n",
       "      <td>False</td>\n",
       "    </tr>\n",
       "    <tr>\n",
       "      <th>Female</th>\n",
       "      <td>False</td>\n",
       "    </tr>\n",
       "    <tr>\n",
       "      <th>0.7</th>\n",
       "      <td>False</td>\n",
       "    </tr>\n",
       "    <tr>\n",
       "      <th>0.1</th>\n",
       "      <td>False</td>\n",
       "    </tr>\n",
       "    <tr>\n",
       "      <th>187</th>\n",
       "      <td>False</td>\n",
       "    </tr>\n",
       "    <tr>\n",
       "      <th>16</th>\n",
       "      <td>False</td>\n",
       "    </tr>\n",
       "    <tr>\n",
       "      <th>18</th>\n",
       "      <td>False</td>\n",
       "    </tr>\n",
       "    <tr>\n",
       "      <th>6.8</th>\n",
       "      <td>False</td>\n",
       "    </tr>\n",
       "    <tr>\n",
       "      <th>3.3</th>\n",
       "      <td>False</td>\n",
       "    </tr>\n",
       "    <tr>\n",
       "      <th>0.9</th>\n",
       "      <td>False</td>\n",
       "    </tr>\n",
       "    <tr>\n",
       "      <th>1</th>\n",
       "      <td>False</td>\n",
       "    </tr>\n",
       "  </tbody>\n",
       "</table>\n",
       "</div><br><label><b>dtype:</b> bool</label>"
      ],
      "text/plain": [
       "65        False\n",
       "Female    False\n",
       "0.7       False\n",
       "0.1       False\n",
       "187       False\n",
       "16        False\n",
       "18        False\n",
       "6.8       False\n",
       "3.3       False\n",
       "0.9       False\n",
       "1         False\n",
       "dtype: bool"
      ]
     },
     "execution_count": 8,
     "metadata": {},
     "output_type": "execute_result"
    }
   ],
   "source": [
    "# Drop missing values\n",
    "df1 = df.dropna()\n",
    "df1.isnull().any()"
   ]
  },
  {
   "cell_type": "markdown",
   "metadata": {
    "id": "knf7Rncjr_bo"
   },
   "source": [
    "Now, we plot a correlation matrix and see how the attributes are correlated to each other.\n"
   ]
  },
  {
   "cell_type": "code",
   "execution_count": null,
   "metadata": {
    "colab": {
     "base_uri": "https://localhost:8080/",
     "height": 599
    },
    "id": "ndZ8GjVdr_bp",
    "outputId": "8bc2be4c-8bbe-4c32-b3c1-4453d9bf27ed"
   },
   "outputs": [
    {
     "data": {
      "image/png": "[encoded data removed]",
      "text/plain": [
       "<Figure size 700x700 with 1 Axes>"
      ]
     },
     "metadata": {},
     "output_type": "display_data"
    }
   ],
   "source": [
    "# Visualize correlation matrix\n",
    "fig, ax = plt.subplots(figsize=(7,7))\n",
    "# Calculate correlation for numeric columns only\n",
    "sns.heatmap(abs(df1.corr(numeric_only=True)), annot=True, square=True, cbar=False, ax=ax, linewidths=0.25);"
   ]
  },
  {
   "cell_type": "code",
   "execution_count": null,
   "metadata": {
    "colab": {
     "base_uri": "https://localhost:8080/"
    },
    "id": "mnkiXJ7Xr_bp",
    "outputId": "9201aa22-9eef-48fb-fd95-700556a4c23d"
   },
   "outputs": [
    {
     "name": "stdout",
     "output_type": "stream",
     "text": [
      "Index(['65', 'Female', '0.7', '0.1', '187', '16', '18', '6.8', '3.3', '0.9',\n",
      "       '1'],\n",
      "      dtype='object')\n",
      "   65 Female   0.7  0.1  187  16   18  6.8  3.3   0.9  1\n",
      "0  62   Male  10.9  5.5  699  64  100  7.5  3.2  0.74  1\n",
      "1  62   Male   7.3  4.1  490  60   68  7.0  3.3  0.89  1\n",
      "2  58   Male   1.0  0.4  182  14   20  6.8  3.4  1.00  1\n",
      "3  72   Male   3.9  2.0  195  27   59  7.3  2.4  0.40  1\n",
      "4  46   Male   1.8  0.7  208  19   14  7.6  4.4  1.30  1\n"
     ]
    }
   ],
   "source": [
    "# Print the column names to verify their presence\n",
    "print(df1.columns)\n",
    "\n",
    "# Correctly drop the columns, handling potential mismatches\n",
    "df2 = df1.drop(columns=['Direct_Bilirubin', 'Alanine_Aminotransferase', 'Total_Proteins'], errors='ignore')\n",
    "\n",
    "# Verify the resulting DataFrame\n",
    "print(df2.head())\n"
   ]
  },
  {
   "cell_type": "markdown",
   "metadata": {
    "id": "wt8npiDlr_bp"
   },
   "source": [
    "As we can see there is a correlation between\n",
    "\n",
    "- *Total_Bilirubin* and *Direct_Bilirubin*\n",
    "\n",
    "- *Alamine_Aminotransferase* and ^Aspartate_Aminotransferase*\n",
    "\n",
    "- *Total_Protiens* and *Albumin*\n",
    "\n",
    "The features we drop from data are: *Direct_Bilirubin*, *Alamine_Aminotransferase* and *Total_Protiens*.\n",
    "\n",
    "There is only one column *Gender* of categorical type and remaining below are continuous data.\n",
    "\n",
    "- Age\n",
    "- Total_Bilirubin\n",
    "- Alkaline_Phosphotase\n",
    "- Aspartate_Aminotransferase\n",
    "- Albumin\n",
    "- Albumin_and_Globulin_Ratio\n",
    "\n"
   ]
  },
  {
   "cell_type": "code",
   "execution_count": null,
   "metadata": {
    "colab": {
     "base_uri": "https://localhost:8080/"
    },
    "id": "SJdeAT1Br_bp",
    "outputId": "74c0ebac-3797-4e84-bf2b-f4f3f2251773"
   },
   "outputs": [
    {
     "name": "stdout",
     "output_type": "stream",
     "text": [
      "Index(['65', 'Female', '0.7', '0.1', '187', '16', '18', '6.8', '3.3', '0.9',\n",
      "       '1'],\n",
      "      dtype='object')\n",
      "The column 'Dataset' is not found in df2. Check the column names.\n"
     ]
    }
   ],
   "source": [
    "# Print all columns to verify if 'Dataset' exists\n",
    "print(df2.columns)\n",
    "\n",
    "# If 'Dataset' is found under a different name, use the correct name\n",
    "if 'Dataset' in df2.columns:\n",
    "    df2['Dataset'] = df2['Dataset'].replace(1, 0)\n",
    "    df2['Dataset'] = df2['Dataset'].replace(2, 1)\n",
    "else:\n",
    "    print(\"The column 'Dataset' is not found in df2. Check the column names.\")\n"
   ]
  },
  {
   "cell_type": "markdown",
   "metadata": {
    "id": "vcx7JIYpr_bp"
   },
   "source": [
    "Now, we will segregate the disease according to gender and total people who participated in this study."
   ]
  },
  {
   "cell_type": "code",
   "execution_count": null,
   "metadata": {
    "colab": {
     "base_uri": "https://localhost:8080/"
    },
    "id": "s69BU1Zqr_bp",
    "outputId": "45f931bf-a48c-4b4e-e757-db9a398a1d2a"
   },
   "outputs": [
    {
     "name": "stdout",
     "output_type": "stream",
     "text": [
      "Index(['65', 'Female', '0.7', '0.1', '187', '16', '18', '6.8', '3.3', '0.9',\n",
      "       '1'],\n",
      "      dtype='object')\n",
      "Either 'Gender' or 'Dataset' column is missing in df2.\n"
     ]
    }
   ],
   "source": [
    "# Verify columns in the DataFrame\n",
    "print(df2.columns)\n",
    "\n",
    "# If 'Gender' exists, perform the groupby operation\n",
    "if 'Gender' in df2.columns and 'Dataset' in df2.columns:\n",
    "    print('How many people have disease:', '\\n', df2.groupby('Gender')[['Dataset']].sum(), '\\n')\n",
    "    print('How many people participated in the study:', '\\n', df2.groupby('Gender')[['Dataset']].count())\n",
    "else:\n",
    "    print(\"Either 'Gender' or 'Dataset' column is missing in df2.\")\n"
   ]
  },
  {
   "cell_type": "markdown",
   "metadata": {
    "id": "zrsiu5lUr_bq"
   },
   "source": [
    "Now, we will see the percentage of male and female having disease."
   ]
  },
  {
   "cell_type": "code",
   "execution_count": null,
   "metadata": {
    "colab": {
     "base_uri": "https://localhost:8080/"
    },
    "id": "GcLXMY_Qr_bq",
    "outputId": "4ca7bc51-69ef-4fda-a38d-a8dc0c9a281b"
   },
   "outputs": [
    {
     "name": "stdout",
     "output_type": "stream",
     "text": [
      "Index(['65', 'Female', '0.7', '0.1', '187', '16', '18', '6.8', '3.3', '0.9',\n",
      "       '1'],\n",
      "      dtype='object')\n",
      "Either 'Gender' or 'Dataset' column is missing in df2.\n"
     ]
    }
   ],
   "source": [
    "# Verify the column names\n",
    "print(df2.columns)\n",
    "\n",
    "# Check if 'Gender' and 'Dataset' exist in the DataFrame\n",
    "if 'Gender' in df2.columns and 'Dataset' in df2.columns:\n",
    "    # Calculate percentage of people with the disease by gender\n",
    "    percentages = (df2.groupby('Gender')[['Dataset']].sum() /\n",
    "                   df2.groupby('Gender')[['Dataset']].count()) * 100\n",
    "    print('Percentage of people with the disease depending on gender:', '\\n', percentages)\n",
    "else:\n",
    "    print(\"Either 'Gender' or 'Dataset' column is missing in df2.\")\n"
   ]
  },
  {
   "cell_type": "markdown",
   "metadata": {
    "id": "VpKIuEKIr_bq"
   },
   "source": [
    "Women have a higher percentage of the disease, so we will conduct a separate study, depending on the gender of the person."
   ]
  },
  {
   "cell_type": "code",
   "execution_count": null,
   "metadata": {
    "colab": {
     "base_uri": "https://localhost:8080/"
    },
    "id": "4zsnVmKir_br",
    "outputId": "4e33c3b7-ea68-49a4-9902-7b5fef4215ab"
   },
   "outputs": [
    {
     "name": "stdout",
     "output_type": "stream",
     "text": [
      "Index(['65', 'Female', '0.7', '0.1', '187', '16', '18', '6.8', '3.3', '0.9',\n",
      "       '1'],\n",
      "      dtype='object')\n",
      "The following required columns are missing: ['Gender', 'Total_Bilirubin', 'Alkaline_Phosphotase', 'Aspartate_Aminotransferase', 'Albumin', 'Albumin_and_Globulin_Ratio', 'Dataset']\n"
     ]
    }
   ],
   "source": [
    "# Print available columns in df2\n",
    "print(df2.columns)\n",
    "\n",
    "# Check for the existence of all required columns\n",
    "required_columns = ['Gender', 'Total_Bilirubin', 'Alkaline_Phosphotase',\n",
    "                    'Aspartate_Aminotransferase', 'Albumin',\n",
    "                    'Albumin_and_Globulin_Ratio', 'Dataset']\n",
    "\n",
    "# Verify that all required columns are present\n",
    "missing_columns = [col for col in required_columns if col not in df2.columns]\n",
    "if missing_columns:\n",
    "    print(f\"The following required columns are missing: {missing_columns}\")\n",
    "else:\n",
    "    # Define X and y variables\n",
    "    X = df2[['Gender', 'Total_Bilirubin', 'Alkaline_Phosphotase',\n",
    "             'Aspartate_Aminotransferase', 'Albumin',\n",
    "             'Albumin_and_Globulin_Ratio']]\n",
    "    y = df2['Dataset']\n",
    "    print(\"X and y variables defined successfully.\")\n"
   ]
  },
  {
   "cell_type": "markdown",
   "metadata": {
    "id": "Umb7qIhyr_br"
   },
   "source": [
    "We will apply label encoding for categorical data (Gender)."
   ]
  },
  {
   "cell_type": "code",
   "execution_count": null,
   "metadata": {
    "colab": {
     "base_uri": "https://localhost:8080/"
    },
    "id": "pohAZrMJr_br",
    "outputId": "e2b79f47-7b81-4eac-9c84-b3cabb18bf27"
   },
   "outputs": [
    {
     "name": "stdout",
     "output_type": "stream",
     "text": [
      "Index(['65', 'Female', '0.7', '0.1', '187', '16', '18', '6.8', '3.3', '0.9',\n",
      "       '1'],\n",
      "      dtype='object')\n",
      "The following required columns are missing or empty: ['Gender', 'Total_Bilirubin', 'Alkaline_Phosphotase', 'Aspartate_Aminotransferase', 'Albumin', 'Albumin_and_Globulin_Ratio', 'Dataset']\n"
     ]
    }
   ],
   "source": [
    "# Print available columns in df2\n",
    "print(df2.columns)\n",
    "\n",
    "# Check for the existence of all required columns\n",
    "required_columns = ['Gender', 'Total_Bilirubin', 'Alkaline_Phosphotase',\n",
    "                    'Aspartate_Aminotransferase', 'Albumin',\n",
    "                    'Albumin_and_Globulin_Ratio', 'Dataset']\n",
    "\n",
    "# Verify that all required columns are present\n",
    "# Use 'errors='ignore'' to avoid raising KeyError if a column is not found\n",
    "X = df2[[col for col in required_columns[:-1] if col in df2.columns]]\n",
    "y = df2['Dataset'] if 'Dataset' in df2.columns else None  # Handle if 'Dataset' is missing\n",
    "\n",
    "if X.empty or y is None:\n",
    "    print(f\"The following required columns are missing or empty: {required_columns}\")\n",
    "    # Handle missing columns (e.g., raise an error, impute values)\n",
    "    # raise ValueError(f\"Missing columns: {required_columns}\")  # or choose an appropriate handling method\n",
    "    # Example: Fill missing columns with 0\n",
    "    missing_cols_X = [col for col in required_columns[:-1] if col not in df2.columns]\n",
    "    for col in missing_cols_X:\n",
    "        X[col] = 0\n",
    "    if y is None:\n",
    "        y = pd.Series(np.zeros(len(df2)), index=df2.index, name='Dataset') # Create a dummy 'Dataset' column\n",
    "else:\n",
    "    print(\"X and y variables defined successfully.\")\n",
    "\n",
    "# Continue with label encoding in the next cell"
   ]
  },
  {
   "cell_type": "markdown",
   "metadata": {
    "id": "ap3OofyMr_br"
   },
   "source": [
    "Now, we will split the data into training and testing datasets. After, that we scale the data."
   ]
  },
  {
   "cell_type": "code",
   "execution_count": null,
   "metadata": {
    "id": "H7bIdXlCr_bs"
   },
   "outputs": [],
   "source": [
    "x_train, x_test, y_train, y_test = train_test_split(X, y, test_size=0.2, random_state=42)\n",
    "scaler = StandardScaler()\n",
    "X_train = scaler.fit_transform(x_train)\n",
    "X_test = scaler.transform(x_test)"
   ]
  },
  {
   "cell_type": "markdown",
   "metadata": {
    "id": "R0ABUzRDr_bs"
   },
   "source": [
    "**Train the model Using AdaBoost Classifier**"
   ]
  },
  {
   "cell_type": "code",
   "execution_count": null,
   "metadata": {
    "id": "bjiyCmb5r_bs"
   },
   "outputs": [],
   "source": [
    "ADB = AdaBoostClassifier(DecisionTreeClassifier(max_depth=2),\n",
    "                         n_estimators=125,\n",
    "                         learning_rate = 0.6,\n",
    "                         random_state=42)\n",
    "\n",
    "ADB.fit(X_train, y_train)\n",
    "cv = RepeatedStratifiedKFold(n_splits=10, n_repeats=3, random_state=1)"
   ]
  },
  {
   "cell_type": "markdown",
   "metadata": {
    "id": "hLgJ3jD7r_bs"
   },
   "source": [
    "Repeated k-fold cross-validation provides a way to improve the estimated performance of a machine learning model. This involves simply repeating the cross-validation procedure multiple times and reporting the mean result across all folds from all runs. This mean result is expected to be a more accurate estimate of the true unknown underlying mean performance of the model on the dataset, as calculated using the standard error."
   ]
  },
  {
   "cell_type": "code",
   "execution_count": null,
   "metadata": {
    "colab": {
     "base_uri": "https://localhost:8080/",
     "height": 35
    },
    "id": "6D0i0xuyr_bs",
    "outputId": "b6746783-0ea4-45bb-cf43-c71501e2f216"
   },
   "outputs": [
    {
     "data": {
      "application/vnd.google.colaboratory.intrinsic+json": {
       "type": "string"
      },
      "text/plain": [
       "'Accuracy: 100.000'"
      ]
     },
     "execution_count": 30,
     "metadata": {},
     "output_type": "execute_result"
    }
   ],
   "source": [
    "# calculating model evaluation metrics using cross_val_score like accuracy, R2 score, etc.\n",
    "n_scores = cross_val_score(ADB, X, y, scoring='accuracy', cv=cv, n_jobs=-1, error_score='raise')\n",
    "('Accuracy: %.3f' % (np.mean(n_scores)*100))"
   ]
  },
  {
   "cell_type": "markdown",
   "metadata": {
    "id": "XMwoM4Yqr_bs"
   },
   "source": [
    "#### Create a Confusion Matrix"
   ]
  },
  {
   "cell_type": "code",
   "execution_count": null,
   "metadata": {
    "colab": {
     "base_uri": "https://localhost:8080/",
     "height": 449
    },
    "id": "VoKJ0m4Ar_bs",
    "outputId": "ef6c7063-e9e0-4668-bd97-36a2ef8d20a4"
   },
   "outputs": [
    {
     "data": {
      "image/png": "[encoded data removed]",
      "text/plain": [
       "<Figure size 640x480 with 1 Axes>"
      ]
     },
     "metadata": {},
     "output_type": "display_data"
    }
   ],
   "source": [
    "labels = ADB.predict(X_test)\n",
    "matrix = metrics.confusion_matrix(y_test, labels)\n",
    "# creating a heat map to visualize confusion matrix\n",
    "sns.heatmap(matrix.T, square=True, annot=True, fmt='d', cbar=False)\n",
    "plt.xlabel('true label')\n",
    "plt.ylabel('predicted label');"
   ]
  },
  {
   "cell_type": "markdown",
   "metadata": {
    "id": "yrHytPgCr_bt"
   },
   "source": [
    "From the above plot of the confusion matrix, we can say that the AdaBoost classifier model predicts 56 'no disease' and 13 'with disease' values correctly.\n",
    "\n",
    "Now, we plot ROC and AUC curve for the predictions."
   ]
  },
  {
   "cell_type": "code",
   "execution_count": null,
   "metadata": {
    "colab": {
     "base_uri": "https://localhost:8080/",
     "height": 430
    },
    "id": "i9IwOru6r_bt",
    "outputId": "a3545bd3-2be0-4cd0-8399-5adbfacb4efe"
   },
   "outputs": [
    {
     "data": {
      "image/png": "[encoded data removed]",
      "text/plain": [
       "<Figure size 640x480 with 1 Axes>"
      ]
     },
     "metadata": {},
     "output_type": "display_data"
    }
   ],
   "source": [
    "logit_roc_auc = metrics.roc_auc_score(y_test, labels)\n",
    "# Modify the roc_curve line to use predict_proba(X_test)[:, 0]\n",
    "fpr, tpr, thresholds = metrics.roc_curve(y_test, ADB.predict_proba(X_test)[:, 0])\n",
    "plt.figure()\n",
    "plt.plot(fpr, tpr, label='(area = %0.2f)' % logit_roc_auc)\n",
    "plt.plot([0, 1], [0, 1],'r--')\n",
    "plt.xlim([0.0, 1.0])\n",
    "plt.ylim([0.0, 1.05])\n",
    "plt.legend(loc=\"lower right\")\n",
    "plt.savefig('Log_ROC')\n",
    "plt.show()"
   ]
  },
  {
   "cell_type": "markdown",
   "metadata": {
    "id": "SCMQGqZrr_bt"
   },
   "source": [
    "So, we get an Area under the curve value (AUC) of 0.53.\n",
    "\n",
    "When we need to check or visualize the performance of the multi-class classification problem, we use the AUC (Area Under The Curve) ROC (Receiver Operating Characteristics) curve. It is one of the most important evaluation metrics for checking any classification model’s performance.\n",
    "\n",
    "To know more about AUC-ROC, click [here](https://developers.google.com/machine-learning/crash-course/classification/roc-and-auc)."
   ]
  },
  {
   "cell_type": "markdown",
   "metadata": {
    "id": "Ht9CbvSzr_bw"
   },
   "source": [
    "#### Gradient Boosting Implementation"
   ]
  },
  {
   "cell_type": "markdown",
   "metadata": {
    "id": "V2cHq00Xr_bw"
   },
   "source": [
    "We use Boston house-price dataset as a regression dataset in this example. After loading the dataset, first, we will separate data into x and y parts."
   ]
  },
  {
   "cell_type": "code",
   "execution_count": null,
   "metadata": {
    "colab": {
     "base_uri": "https://localhost:8080/"
    },
    "id": "e8j1--rzr_b1",
    "outputId": "814a9589-c77b-480e-996f-6e763314a25c"
   },
   "outputs": [
    {
     "name": "stdout",
     "output_type": "stream",
     "text": [
      "   MedInc  HouseAge  AveRooms  AveBedrms  Population  AveOccup  Latitude  \\\n",
      "0  8.3252      41.0  6.984127   1.023810       322.0  2.555556     37.88   \n",
      "1  8.3014      21.0  6.238137   0.971880      2401.0  2.109842     37.86   \n",
      "2  7.2574      52.0  8.288136   1.073446       496.0  2.802260     37.85   \n",
      "3  5.6431      52.0  5.817352   1.073059       558.0  2.547945     37.85   \n",
      "4  3.8462      52.0  6.281853   1.081081       565.0  2.181467     37.85   \n",
      "\n",
      "   Longitude  MedHouseVal  \n",
      "0    -122.23        4.526  \n",
      "1    -122.22        3.585  \n",
      "2    -122.24        3.521  \n",
      "3    -122.25        3.413  \n",
      "4    -122.25        3.422  \n"
     ]
    }
   ],
   "source": [
    "from sklearn.datasets import fetch_california_housing\n",
    "import pandas as pd\n",
    "\n",
    "# Load the dataset\n",
    "housing = fetch_california_housing(as_frame=True)\n",
    "\n",
    "# Convert to a pandas DataFrame\n",
    "df = housing.frame\n",
    "print(df.head())\n"
   ]
  },
  {
   "cell_type": "markdown",
   "metadata": {
    "id": "wpCZt58nr_b1"
   },
   "source": [
    "As we can see it returned (506, 13), that means there are 506 rows of data with 13 columns. Now, if we want to know what the 13 columns are, we can simply use the `.feature_names` attribute and it will return the feature names."
   ]
  },
  {
   "cell_type": "code",
   "execution_count": null,
   "metadata": {
    "colab": {
     "base_uri": "https://localhost:8080/"
    },
    "id": "EQ-XLNOWr_b1",
    "outputId": "58e969fa-e5cb-4dab-815f-08b7b47fdf61"
   },
   "outputs": [
    {
     "name": "stdout",
     "output_type": "stream",
     "text": [
      "['MedInc', 'HouseAge', 'AveRooms', 'AveBedrms', 'Population', 'AveOccup', 'Latitude', 'Longitude']\n"
     ]
    }
   ],
   "source": [
    "from sklearn.datasets import fetch_california_housing\n",
    "\n",
    "# Load the dataset\n",
    "housing = fetch_california_housing()\n",
    "\n",
    "# Print the feature names\n",
    "print(housing.feature_names)\n"
   ]
  },
  {
   "cell_type": "markdown",
   "metadata": {
    "id": "2tx2zwe9r_b2"
   },
   "source": [
    "Now let’s convert it into a pandas DataFrame."
   ]
  },
  {
   "cell_type": "code",
   "execution_count": null,
   "metadata": {
    "colab": {
     "base_uri": "https://localhost:8080/"
    },
    "id": "UEjhqL4vr_b2",
    "outputId": "76d5ac29-6ba8-4ca3-ded8-3c7f8787008f"
   },
   "outputs": [
    {
     "name": "stdout",
     "output_type": "stream",
     "text": [
      "   MedInc  HouseAge  AveRooms  AveBedrms  Population  AveOccup  Latitude  \\\n",
      "0  8.3252      41.0  6.984127   1.023810       322.0  2.555556     37.88   \n",
      "1  8.3014      21.0  6.238137   0.971880      2401.0  2.109842     37.86   \n",
      "2  7.2574      52.0  8.288136   1.073446       496.0  2.802260     37.85   \n",
      "3  5.6431      52.0  5.817352   1.073059       558.0  2.547945     37.85   \n",
      "4  3.8462      52.0  6.281853   1.081081       565.0  2.181467     37.85   \n",
      "\n",
      "   Longitude  \n",
      "0    -122.23  \n",
      "1    -122.22  \n",
      "2    -122.24  \n",
      "3    -122.25  \n",
      "4    -122.25  \n"
     ]
    }
   ],
   "source": [
    "from sklearn.datasets import fetch_california_housing\n",
    "import pandas as pd\n",
    "\n",
    "# Load the dataset\n",
    "housing = fetch_california_housing()\n",
    "\n",
    "# Create a DataFrame\n",
    "df = pd.DataFrame(housing.data, columns=housing.feature_names)\n",
    "\n",
    "# Display the first few rows of the DataFrame\n",
    "print(df.head())\n"
   ]
  },
  {
   "cell_type": "markdown",
   "metadata": {
    "id": "sectWmNtr_b2"
   },
   "source": [
    "Explore the top 5 rows of the dataset by using head() method."
   ]
  },
  {
   "cell_type": "code",
   "execution_count": null,
   "metadata": {
    "colab": {
     "base_uri": "https://localhost:8080/",
     "height": 226
    },
    "id": "Vix8v4jCr_b2",
    "outputId": "e12c6e01-9f4b-4a4e-827a-0b32603e82a5"
   },
   "outputs": [
    {
     "data": {
      "application/vnd.google.colaboratory.intrinsic+json": {
       "summary": "{\n  \"name\": \"df\",\n  \"rows\": 20640,\n  \"fields\": [\n    {\n      \"column\": \"MedInc\",\n      \"properties\": {\n        \"dtype\": \"number\",\n        \"std\": 1.8998217179452732,\n        \"min\": 0.4999,\n        \"max\": 15.0001,\n        \"num_unique_values\": 12928,\n        \"samples\": [\n          5.0286,\n          2.0433,\n          6.1228\n        ],\n        \"semantic_type\": \"\",\n        \"description\": \"\"\n      }\n    },\n    {\n      \"column\": \"HouseAge\",\n      \"properties\": {\n        \"dtype\": \"number\",\n        \"std\": 12.585557612111637,\n        \"min\": 1.0,\n        \"max\": 52.0,\n        \"num_unique_values\": 52,\n        \"samples\": [\n          35.0,\n          25.0,\n          7.0\n        ],\n        \"semantic_type\": \"\",\n        \"description\": \"\"\n      }\n    },\n    {\n      \"column\": \"AveRooms\",\n      \"properties\": {\n        \"dtype\": \"number\",\n        \"std\": 2.4741731394243205,\n        \"min\": 0.8461538461538461,\n        \"max\": 141.9090909090909,\n        \"num_unique_values\": 19392,\n        \"samples\": [\n          6.111269614835948,\n          5.912820512820513,\n          5.7924528301886795\n        ],\n        \"semantic_type\": \"\",\n        \"description\": \"\"\n      }\n    },\n    {\n      \"column\": \"AveBedrms\",\n      \"properties\": {\n        \"dtype\": \"number\",\n        \"std\": 0.47391085679546435,\n        \"min\": 0.3333333333333333,\n        \"max\": 34.06666666666667,\n        \"num_unique_values\": 14233,\n        \"samples\": [\n          0.9906542056074766,\n          1.112099644128114,\n          1.0398230088495575\n        ],\n        \"semantic_type\": \"\",\n        \"description\": \"\"\n      }\n    },\n    {\n      \"column\": \"Population\",\n      \"properties\": {\n        \"dtype\": \"number\",\n        \"std\": 1132.4621217653375,\n        \"min\": 3.0,\n        \"max\": 35682.0,\n        \"num_unique_values\": 3888,\n        \"samples\": [\n          4169.0,\n          636.0,\n          3367.0\n        ],\n        \"semantic_type\": \"\",\n        \"description\": \"\"\n      }\n    },\n    {\n      \"column\": \"AveOccup\",\n      \"properties\": {\n        \"dtype\": \"number\",\n        \"std\": 10.386049562213591,\n        \"min\": 0.6923076923076923,\n        \"max\": 1243.3333333333333,\n        \"num_unique_values\": 18841,\n        \"samples\": [\n          2.6939799331103678,\n          3.559375,\n          3.297082228116711\n        ],\n        \"semantic_type\": \"\",\n        \"description\": \"\"\n      }\n    },\n    {\n      \"column\": \"Latitude\",\n      \"properties\": {\n        \"dtype\": \"number\",\n        \"std\": 2.1359523974571117,\n        \"min\": 32.54,\n        \"max\": 41.95,\n        \"num_unique_values\": 862,\n        \"samples\": [\n          33.7,\n          34.41,\n          38.24\n        ],\n        \"semantic_type\": \"\",\n        \"description\": \"\"\n      }\n    },\n    {\n      \"column\": \"Longitude\",\n      \"properties\": {\n        \"dtype\": \"number\",\n        \"std\": 2.003531723502581,\n        \"min\": -124.35,\n        \"max\": -114.31,\n        \"num_unique_values\": 844,\n        \"samples\": [\n          -118.63,\n          -119.86,\n          -121.26\n        ],\n        \"semantic_type\": \"\",\n        \"description\": \"\"\n      }\n    }\n  ]\n}",
       "type": "dataframe",
       "variable_name": "df"
      },
      "text/html": [
       "\n",
       "  <div id=\"df-2491de9e-9c29-4682-92f2-ddb6c630f00a\" class=\"colab-df-container\">\n",
       "    <div>\n",
       "<style scoped>\n",
       "    .dataframe tbody tr th:only-of-type {\n",
       "        vertical-align: middle;\n",
       "    }\n",
       "\n",
       "    .dataframe tbody tr th {\n",
       "        vertical-align: top;\n",
       "    }\n",
       "\n",
       "    .dataframe thead th {\n",
       "        text-align: right;\n",
       "    }\n",
       "</style>\n",
       "<table border=\"1\" class=\"dataframe\">\n",
       "  <thead>\n",
       "    <tr style=\"text-align: right;\">\n",
       "      <th></th>\n",
       "      <th>MedInc</th>\n",
       "      <th>HouseAge</th>\n",
       "      <th>AveRooms</th>\n",
       "      <th>AveBedrms</th>\n",
       "      <th>Population</th>\n",
       "      <th>AveOccup</th>\n",
       "      <th>Latitude</th>\n",
       "      <th>Longitude</th>\n",
       "    </tr>\n",
       "  </thead>\n",
       "  <tbody>\n",
       "    <tr>\n",
       "      <th>0</th>\n",
       "      <td>8.3252</td>\n",
       "      <td>41.0</td>\n",
       "      <td>6.984127</td>\n",
       "      <td>1.023810</td>\n",
       "      <td>322.0</td>\n",
       "      <td>2.555556</td>\n",
       "      <td>37.88</td>\n",
       "      <td>-122.23</td>\n",
       "    </tr>\n",
       "    <tr>\n",
       "      <th>1</th>\n",
       "      <td>8.3014</td>\n",
       "      <td>21.0</td>\n",
       "      <td>6.238137</td>\n",
       "      <td>0.971880</td>\n",
       "      <td>2401.0</td>\n",
       "      <td>2.109842</td>\n",
       "      <td>37.86</td>\n",
       "      <td>-122.22</td>\n",
       "    </tr>\n",
       "    <tr>\n",
       "      <th>2</th>\n",
       "      <td>7.2574</td>\n",
       "      <td>52.0</td>\n",
       "      <td>8.288136</td>\n",
       "      <td>1.073446</td>\n",
       "      <td>496.0</td>\n",
       "      <td>2.802260</td>\n",
       "      <td>37.85</td>\n",
       "      <td>-122.24</td>\n",
       "    </tr>\n",
       "    <tr>\n",
       "      <th>3</th>\n",
       "      <td>5.6431</td>\n",
       "      <td>52.0</td>\n",
       "      <td>5.817352</td>\n",
       "      <td>1.073059</td>\n",
       "      <td>558.0</td>\n",
       "      <td>2.547945</td>\n",
       "      <td>37.85</td>\n",
       "      <td>-122.25</td>\n",
       "    </tr>\n",
       "    <tr>\n",
       "      <th>4</th>\n",
       "      <td>3.8462</td>\n",
       "      <td>52.0</td>\n",
       "      <td>6.281853</td>\n",
       "      <td>1.081081</td>\n",
       "      <td>565.0</td>\n",
       "      <td>2.181467</td>\n",
       "      <td>37.85</td>\n",
       "      <td>-122.25</td>\n",
       "    </tr>\n",
       "  </tbody>\n",
       "</table>\n",
       "</div>\n",
       "    <div class=\"colab-df-buttons\">\n",
       "\n",
       "  <div class=\"colab-df-container\">\n",
       "    <button class=\"colab-df-convert\" onclick=\"convertToInteractive('df-2491de9e-9c29-4682-92f2-ddb6c630f00a')\"\n",
       "            title=\"Convert this dataframe to an interactive table.\"\n",
       "            style=\"display:none;\">\n",
       "\n",
       "  <svg xmlns=\"http://www.w3.org/2000/svg\" height=\"24px\" viewBox=\"0 -960 960 960\">\n",
       "    <path d=\"M120-120v-720h720v720H120Zm60-500h600v-160H180v160Zm220 220h160v-160H400v160Zm0 220h160v-160H400v160ZM180-400h160v-160H180v160Zm440 0h160v-160H620v160ZM180-180h160v-160H180v160Zm440 0h160v-160H620v160Z\"/>\n",
       "  </svg>\n",
       "    </button>\n",
       "\n",
       "  <style>\n",
       "    .colab-df-container {\n",
       "      display:flex;\n",
       "      gap: 12px;\n",
       "    }\n",
       "\n",
       "    .colab-df-convert {\n",
       "      background-color: #E8F0FE;\n",
       "      border: none;\n",
       "      border-radius: 50%;\n",
       "      cursor: pointer;\n",
       "      display: none;\n",
       "      fill: #1967D2;\n",
       "      height: 32px;\n",
       "      padding: 0 0 0 0;\n",
       "      width: 32px;\n",
       "    }\n",
       "\n",
       "    .colab-df-convert:hover {\n",
       "      background-color: #E2EBFA;\n",
       "      box-shadow: 0px 1px 2px rgba(60, 64, 67, 0.3), 0px 1px 3px 1px rgba(60, 64, 67, 0.15);\n",
       "      fill: #174EA6;\n",
       "    }\n",
       "\n",
       "    .colab-df-buttons div {\n",
       "      margin-bottom: 4px;\n",
       "    }\n",
       "\n",
       "    [theme=dark] .colab-df-convert {\n",
       "      background-color: #3B4455;\n",
       "      fill: #D2E3FC;\n",
       "    }\n",
       "\n",
       "    [theme=dark] .colab-df-convert:hover {\n",
       "      background-color: #434B5C;\n",
       "      box-shadow: 0px 1px 3px 1px rgba(0, 0, 0, 0.15);\n",
       "      filter: drop-shadow(0px 1px 2px rgba(0, 0, 0, 0.3));\n",
       "      fill: #FFFFFF;\n",
       "    }\n",
       "  </style>\n",
       "\n",
       "    <script>\n",
       "      const buttonEl =\n",
       "        document.querySelector('#df-2491de9e-9c29-4682-92f2-ddb6c630f00a button.colab-df-convert');\n",
       "      buttonEl.style.display =\n",
       "        google.colab.kernel.accessAllowed ? 'block' : 'none';\n",
       "\n",
       "      async function convertToInteractive(key) {\n",
       "        const element = document.querySelector('#df-2491de9e-9c29-4682-92f2-ddb6c630f00a');\n",
       "        const dataTable =\n",
       "          await google.colab.kernel.invokeFunction('convertToInteractive',\n",
       "                                                    [key], {});\n",
       "        if (!dataTable) return;\n",
       "\n",
       "        const docLinkHtml = 'Like what you see? Visit the ' +\n",
       "          '<a target=\"_blank\" href=https://colab.research.google.com/notebooks/data_table.ipynb>data table notebook</a>'\n",
       "          + ' to learn more about interactive tables.';\n",
       "        element.innerHTML = '';\n",
       "        dataTable['output_type'] = 'display_data';\n",
       "        await google.colab.output.renderOutput(dataTable, element);\n",
       "        const docLink = document.createElement('div');\n",
       "        docLink.innerHTML = docLinkHtml;\n",
       "        element.appendChild(docLink);\n",
       "      }\n",
       "    </script>\n",
       "  </div>\n",
       "\n",
       "\n",
       "<div id=\"df-cf58ee62-edcd-4e07-b722-08522de44fc0\">\n",
       "  <button class=\"colab-df-quickchart\" onclick=\"quickchart('df-cf58ee62-edcd-4e07-b722-08522de44fc0')\"\n",
       "            title=\"Suggest charts\"\n",
       "            style=\"display:none;\">\n",
       "\n",
       "<svg xmlns=\"http://www.w3.org/2000/svg\" height=\"24px\"viewBox=\"0 0 24 24\"\n",
       "     width=\"24px\">\n",
       "    <g>\n",
       "        <path d=\"M19 3H5c-1.1 0-2 .9-2 2v14c0 1.1.9 2 2 2h14c1.1 0 2-.9 2-2V5c0-1.1-.9-2-2-2zM9 17H7v-7h2v7zm4 0h-2V7h2v10zm4 0h-2v-4h2v4z\"/>\n",
       "    </g>\n",
       "</svg>\n",
       "  </button>\n",
       "\n",
       "<style>\n",
       "  .colab-df-quickchart {\n",
       "      --bg-color: #E8F0FE;\n",
       "      --fill-color: #1967D2;\n",
       "      --hover-bg-color: #E2EBFA;\n",
       "      --hover-fill-color: #174EA6;\n",
       "      --disabled-fill-color: #AAA;\n",
       "      --disabled-bg-color: #DDD;\n",
       "  }\n",
       "\n",
       "  [theme=dark] .colab-df-quickchart {\n",
       "      --bg-color: #3B4455;\n",
       "      --fill-color: #D2E3FC;\n",
       "      --hover-bg-color: #434B5C;\n",
       "      --hover-fill-color: #FFFFFF;\n",
       "      --disabled-bg-color: #3B4455;\n",
       "      --disabled-fill-color: #666;\n",
       "  }\n",
       "\n",
       "  .colab-df-quickchart {\n",
       "    background-color: var(--bg-color);\n",
       "    border: none;\n",
       "    border-radius: 50%;\n",
       "    cursor: pointer;\n",
       "    display: none;\n",
       "    fill: var(--fill-color);\n",
       "    height: 32px;\n",
       "    padding: 0;\n",
       "    width: 32px;\n",
       "  }\n",
       "\n",
       "  .colab-df-quickchart:hover {\n",
       "    background-color: var(--hover-bg-color);\n",
       "    box-shadow: 0 1px 2px rgba(60, 64, 67, 0.3), 0 1px 3px 1px rgba(60, 64, 67, 0.15);\n",
       "    fill: var(--button-hover-fill-color);\n",
       "  }\n",
       "\n",
       "  .colab-df-quickchart-complete:disabled,\n",
       "  .colab-df-quickchart-complete:disabled:hover {\n",
       "    background-color: var(--disabled-bg-color);\n",
       "    fill: var(--disabled-fill-color);\n",
       "    box-shadow: none;\n",
       "  }\n",
       "\n",
       "  .colab-df-spinner {\n",
       "    border: 2px solid var(--fill-color);\n",
       "    border-color: transparent;\n",
       "    border-bottom-color: var(--fill-color);\n",
       "    animation:\n",
       "      spin 1s steps(1) infinite;\n",
       "  }\n",
       "\n",
       "  @keyframes spin {\n",
       "    0% {\n",
       "      border-color: transparent;\n",
       "      border-bottom-color: var(--fill-color);\n",
       "      border-left-color: var(--fill-color);\n",
       "    }\n",
       "    20% {\n",
       "      border-color: transparent;\n",
       "      border-left-color: var(--fill-color);\n",
       "      border-top-color: var(--fill-color);\n",
       "    }\n",
       "    30% {\n",
       "      border-color: transparent;\n",
       "      border-left-color: var(--fill-color);\n",
       "      border-top-color: var(--fill-color);\n",
       "      border-right-color: var(--fill-color);\n",
       "    }\n",
       "    40% {\n",
       "      border-color: transparent;\n",
       "      border-right-color: var(--fill-color);\n",
       "      border-top-color: var(--fill-color);\n",
       "    }\n",
       "    60% {\n",
       "      border-color: transparent;\n",
       "      border-right-color: var(--fill-color);\n",
       "    }\n",
       "    80% {\n",
       "      border-color: transparent;\n",
       "      border-right-color: var(--fill-color);\n",
       "      border-bottom-color: var(--fill-color);\n",
       "    }\n",
       "    90% {\n",
       "      border-color: transparent;\n",
       "      border-bottom-color: var(--fill-color);\n",
       "    }\n",
       "  }\n",
       "</style>\n",
       "\n",
       "  <script>\n",
       "    async function quickchart(key) {\n",
       "      const quickchartButtonEl =\n",
       "        document.querySelector('#' + key + ' button');\n",
       "      quickchartButtonEl.disabled = true;  // To prevent multiple clicks.\n",
       "      quickchartButtonEl.classList.add('colab-df-spinner');\n",
       "      try {\n",
       "        const charts = await google.colab.kernel.invokeFunction(\n",
       "            'suggestCharts', [key], {});\n",
       "      } catch (error) {\n",
       "        console.error('Error during call to suggestCharts:', error);\n",
       "      }\n",
       "      quickchartButtonEl.classList.remove('colab-df-spinner');\n",
       "      quickchartButtonEl.classList.add('colab-df-quickchart-complete');\n",
       "    }\n",
       "    (() => {\n",
       "      let quickchartButtonEl =\n",
       "        document.querySelector('#df-cf58ee62-edcd-4e07-b722-08522de44fc0 button');\n",
       "      quickchartButtonEl.style.display =\n",
       "        google.colab.kernel.accessAllowed ? 'block' : 'none';\n",
       "    })();\n",
       "  </script>\n",
       "</div>\n",
       "\n",
       "    </div>\n",
       "  </div>\n"
      ],
      "text/plain": [
       "   MedInc  HouseAge  AveRooms  AveBedrms  Population  AveOccup  Latitude  \\\n",
       "0  8.3252      41.0  6.984127   1.023810       322.0  2.555556     37.88   \n",
       "1  8.3014      21.0  6.238137   0.971880      2401.0  2.109842     37.86   \n",
       "2  7.2574      52.0  8.288136   1.073446       496.0  2.802260     37.85   \n",
       "3  5.6431      52.0  5.817352   1.073059       558.0  2.547945     37.85   \n",
       "4  3.8462      52.0  6.281853   1.081081       565.0  2.181467     37.85   \n",
       "\n",
       "   Longitude  \n",
       "0    -122.23  \n",
       "1    -122.22  \n",
       "2    -122.24  \n",
       "3    -122.25  \n",
       "4    -122.25  "
      ]
     },
     "execution_count": 42,
     "metadata": {},
     "output_type": "execute_result"
    }
   ],
   "source": [
    "df.head()"
   ]
  },
  {
   "cell_type": "markdown",
   "metadata": {
    "id": "U_a1FcgBr_b2"
   },
   "source": [
    "Here, we will notice that there is no column called `PRICE` in the DataFrame. This is because the target column is available in another attribute called `boston.target`. Append `boston.target` to the pandas DataFrame."
   ]
  },
  {
   "cell_type": "code",
   "execution_count": null,
   "metadata": {
    "colab": {
     "base_uri": "https://localhost:8080/"
    },
    "id": "nbn0XIq0r_b2",
    "outputId": "1a6172b3-06d4-47a1-bbff-defabec8d1ec"
   },
   "outputs": [
    {
     "name": "stdout",
     "output_type": "stream",
     "text": [
      "   MedInc  HouseAge  AveRooms  AveBedrms  Population  AveOccup  Latitude  \\\n",
      "0  8.3252      41.0  6.984127   1.023810       322.0  2.555556     37.88   \n",
      "1  8.3014      21.0  6.238137   0.971880      2401.0  2.109842     37.86   \n",
      "2  7.2574      52.0  8.288136   1.073446       496.0  2.802260     37.85   \n",
      "3  5.6431      52.0  5.817352   1.073059       558.0  2.547945     37.85   \n",
      "4  3.8462      52.0  6.281853   1.081081       565.0  2.181467     37.85   \n",
      "\n",
      "   Longitude  PRICE  \n",
      "0    -122.23  4.526  \n",
      "1    -122.22  3.585  \n",
      "2    -122.24  3.521  \n",
      "3    -122.25  3.413  \n",
      "4    -122.25  3.422  \n"
     ]
    }
   ],
   "source": [
    "from sklearn.datasets import fetch_california_housing\n",
    "import pandas as pd\n",
    "\n",
    "# Load the dataset\n",
    "housing = fetch_california_housing()\n",
    "\n",
    "# Create a DataFrame\n",
    "df = pd.DataFrame(housing.data, columns=housing.feature_names)\n",
    "\n",
    "# Add the target variable (house values) to the DataFrame\n",
    "df['PRICE'] = housing.target\n",
    "\n",
    "# Display the first few rows of the DataFrame\n",
    "print(df.head())\n"
   ]
  },
  {
   "cell_type": "markdown",
   "metadata": {
    "id": "KsXBDviLr_b3"
   },
   "source": [
    "Now, we will run the `.info()` method on our DataFrame to get useful information about the data."
   ]
  },
  {
   "cell_type": "code",
   "execution_count": null,
   "metadata": {
    "colab": {
     "base_uri": "https://localhost:8080/"
    },
    "id": "waoDNgu6r_b3",
    "outputId": "ac0945a0-63f0-4326-b953-c7ff2ca3ba03"
   },
   "outputs": [
    {
     "name": "stdout",
     "output_type": "stream",
     "text": [
      "<class 'pandas.core.frame.DataFrame'>\n",
      "RangeIndex: 20640 entries, 0 to 20639\n",
      "Data columns (total 9 columns):\n",
      " #   Column      Non-Null Count  Dtype  \n",
      "---  ------      --------------  -----  \n",
      " 0   MedInc      20640 non-null  float64\n",
      " 1   HouseAge    20640 non-null  float64\n",
      " 2   AveRooms    20640 non-null  float64\n",
      " 3   AveBedrms   20640 non-null  float64\n",
      " 4   Population  20640 non-null  float64\n",
      " 5   AveOccup    20640 non-null  float64\n",
      " 6   Latitude    20640 non-null  float64\n",
      " 7   Longitude   20640 non-null  float64\n",
      " 8   PRICE       20640 non-null  float64\n",
      "dtypes: float64(9)\n",
      "memory usage: 1.4 MB\n"
     ]
    }
   ],
   "source": [
    "df.info()"
   ]
  },
  {
   "cell_type": "markdown",
   "metadata": {
    "id": "qcvSrs1ur_b3"
   },
   "source": [
    "Separate the target variable and rest of the variables using .iloc to subset the data."
   ]
  },
  {
   "cell_type": "code",
   "execution_count": null,
   "metadata": {
    "id": "uXQKXnZ9r_b3"
   },
   "outputs": [],
   "source": [
    "X, y = df.iloc[:,:-1],df.iloc[:,-1]"
   ]
  },
  {
   "cell_type": "code",
   "execution_count": null,
   "metadata": {
    "id": "5z00bMAkr_bx"
   },
   "outputs": [],
   "source": [
    "xtrain, xtest, ytrain, ytest=train_test_split(X, y, random_state=12, test_size=0.15)"
   ]
  },
  {
   "cell_type": "markdown",
   "metadata": {
    "id": "I3PxKn8er_bx"
   },
   "source": [
    "Defining the model\n",
    "\n",
    "We can define the model with its default parameters or set the new parameter values.\n"
   ]
  },
  {
   "cell_type": "code",
   "execution_count": null,
   "metadata": {
    "id": "i0qqV_vNr_bx"
   },
   "outputs": [],
   "source": [
    "# with new parameters\n",
    "gbr1 = GradientBoostingRegressor(alpha=0.9, criterion='friedman_mse', n_estimators=600,\n",
    "    max_depth=5,\n",
    "    learning_rate=0.01,\n",
    "    min_samples_split=4)\n",
    "# with default parameters\n",
    "gbr = GradientBoostingRegressor()"
   ]
  },
  {
   "cell_type": "markdown",
   "metadata": {
    "id": "UL6AbVVXx_bi"
   },
   "source": [
    "Fit the model with default parameters and predict the data"
   ]
  },
  {
   "cell_type": "code",
   "execution_count": null,
   "metadata": {
    "colab": {
     "base_uri": "https://localhost:8080/"
    },
    "id": "Bq3SUQbgx-sR",
    "outputId": "ffe1b807-e39b-4e03-81d4-66e10d5865db"
   },
   "outputs": [
    {
     "name": "stdout",
     "output_type": "stream",
     "text": [
      "MSE: 0.27\n"
     ]
    }
   ],
   "source": [
    "# fit with default parameters\n",
    "gbr.fit(xtrain, ytrain)\n",
    "\n",
    "ypred = gbr.predict(xtest)\n",
    "\n",
    "# calculating Mean Squared Error\n",
    "mse = metrics.mean_squared_error(ytest,ypred)\n",
    "# mse for default model\n",
    "print(\"MSE: %.2f\" % mse)"
   ]
  },
  {
   "cell_type": "markdown",
   "metadata": {
    "id": "oBFxnVEdyFcO"
   },
   "source": [
    "Fit the model by passing parameters and predict the data"
   ]
  },
  {
   "cell_type": "code",
   "execution_count": null,
   "metadata": {
    "colab": {
     "base_uri": "https://localhost:8080/"
    },
    "id": "quGc7ldNr_bz",
    "outputId": "79e08313-9cdd-41d3-9b6a-cf616e503a1d"
   },
   "outputs": [
    {
     "name": "stdout",
     "output_type": "stream",
     "text": [
      "MSE: 0.24\n"
     ]
    }
   ],
   "source": [
    "# fit by passing hyperparameters\n",
    "gbr1.fit(xtrain, ytrain)\n",
    "\n",
    "ypred1 = gbr1.predict(xtest)\n",
    "# calculating Mean Squared Error\n",
    "mse1 = metrics.mean_squared_error(ytest, ypred1)\n",
    "\n",
    "# mse for regularized model\n",
    "print(\"MSE: %.2f\" % mse1)"
   ]
  },
  {
   "cell_type": "markdown",
   "metadata": {
    "id": "Ej74dBcjr_bz"
   },
   "source": [
    "Finally, we will visualize the actual and predicted values in a plot for both models."
   ]
  },
  {
   "cell_type": "code",
   "execution_count": null,
   "metadata": {
    "colab": {
     "base_uri": "https://localhost:8080/",
     "height": 430
    },
    "id": "KM6PAmoVr_b0",
    "outputId": "10faebba-5f44-4af7-c6f2-becfc06236e4"
   },
   "outputs": [
    {
     "data": {
      "image/png": "[encoded data removed]",
      "text/plain": [
       "<Figure size 640x480 with 1 Axes>"
      ]
     },
     "metadata": {},
     "output_type": "display_data"
    }
   ],
   "source": [
    "x_ax = range(len(ytest))\n",
    "plt.scatter(x_ax, ytest, s=5, color=\"blue\", label=\"original\")\n",
    "plt.plot(x_ax, ypred, lw=0.8, color=\"red\", label=\"predicted\")\n",
    "plt.legend()\n",
    "plt.show()"
   ]
  },
  {
   "cell_type": "code",
   "execution_count": null,
   "metadata": {
    "colab": {
     "base_uri": "https://localhost:8080/",
     "height": 430
    },
    "id": "nIzwDA6er_b0",
    "outputId": "2645b9ba-11fa-460e-8316-d9934e19e465"
   },
   "outputs": [
    {
     "data": {
      "image/png": "[encoded data removed]",
      "text/plain": [
       "<Figure size 640x480 with 1 Axes>"
      ]
     },
     "metadata": {},
     "output_type": "display_data"
    }
   ],
   "source": [
    "x_ax = range(len(ytest))\n",
    "plt.scatter(x_ax, ytest, s=5, color=\"blue\", label=\"original\")\n",
    "plt.plot(x_ax, ypred1, lw=0.8, color=\"red\", label=\"predicted\")\n",
    "plt.legend()\n",
    "plt.show()"
   ]
  },
  {
   "cell_type": "markdown",
   "metadata": {
    "id": "WoosPDP7r_b0"
   },
   "source": [
    "From the above plots, we can see that the mean square error is less for the regularized model than the default model."
   ]
  },
  {
   "cell_type": "markdown",
   "metadata": {
    "id": "icDeoysxr_b0"
   },
   "source": [
    "#### Implementation of XGBoost"
   ]
  },
  {
   "cell_type": "markdown",
   "metadata": {
    "id": "URXF2Hkfr_b0"
   },
   "source": [
    "An optimized implementation of Gradient Boosting is available in the popular python library `XGBoost`, which stands for Extreme Gradient Boosting. This package aims at being extremely fast, scalable, and  portable.  In  fact,  XGBoost  is  often  an  important  component  of winning entries in ML competitions. XGBoost’s API is quite similar to Scikit-Learn’s:"
   ]
  },
  {
   "cell_type": "markdown",
   "metadata": {
    "id": "LKhbrmder_b0"
   },
   "source": [
    "Here, we also going to import the Boston Housing dataset and store it in a variable called boston."
   ]
  },
  {
   "cell_type": "markdown",
   "metadata": {
    "id": "7CNUH_Phr_b4"
   },
   "source": [
    "The next step is to instantiate an `XGBoost regressor` object by calling the `XGBRegressor()` class from the `XGBoost` library with the hyper-parameters passed as arguments. For classification problems, we would have used the `XGBClassifier()` class."
   ]
  },
  {
   "cell_type": "code",
   "execution_count": null,
   "metadata": {
    "id": "cdvy5YyLr_b4"
   },
   "outputs": [],
   "source": [
    "xgb_reg = xgb.XGBRegressor(objective ='reg:linear', colsample_bytree = 0.3, learning_rate = 0.1,\n",
    "                           max_depth = 5, alpha = 10, n_estimators = 10)"
   ]
  },
  {
   "cell_type": "markdown",
   "metadata": {
    "id": "5OcL3DCBr_b4"
   },
   "source": [
    "Now, we will create the train and test set for cross-validation of the results using the `train_test_split` function from sklearn's `model_selection` module with `test_size` size equal to 20% of the data. Also, to maintain the reproducibility of the results, a random_state is also assigned."
   ]
  },
  {
   "cell_type": "code",
   "execution_count": null,
   "metadata": {
    "id": "UCJGLQp8r_b4"
   },
   "outputs": [],
   "source": [
    "X_train, X_test, y_train, y_test = train_test_split(X, y, test_size=0.2, random_state=123)"
   ]
  },
  {
   "cell_type": "code",
   "execution_count": null,
   "metadata": {
    "id": "lXbXD4ajr_b4"
   },
   "outputs": [],
   "source": [
    "xgb_reg.fit(X_train,y_train)\n",
    "\n",
    "y_pred = xgb_reg.predict(X_test)"
   ]
  },
  {
   "cell_type": "code",
   "execution_count": null,
   "metadata": {
    "colab": {
     "base_uri": "https://localhost:8080/"
    },
    "id": "zEoJIeBRr_b4",
    "outputId": "4735adb9-3060-484b-966e-0b893300b48b"
   },
   "outputs": [
    {
     "name": "stdout",
     "output_type": "stream",
     "text": [
      "MSE: 0.270432\n"
     ]
    }
   ],
   "source": [
    "mse2 = metrics.mean_squared_error(y_test, y_pred)\n",
    "print(\"MSE: %f\" % (mse))"
   ]
  },
  {
   "cell_type": "markdown",
   "metadata": {
    "id": "Csyq2VzVr_b5"
   },
   "source": [
    "Plotting the `feature importance` graph with the matplotlib library:"
   ]
  },
  {
   "cell_type": "code",
   "execution_count": null,
   "metadata": {
    "colab": {
     "base_uri": "https://localhost:8080/",
     "height": 472
    },
    "id": "b2yjvjKcr_b5",
    "outputId": "0c97e2d5-3fda-4a3c-be73-c60a2be57dbf"
   },
   "outputs": [
    {
     "data": {
      "image/png": "[encoded data removed]",
      "text/plain": [
       "<Figure size 640x480 with 1 Axes>"
      ]
     },
     "metadata": {},
     "output_type": "display_data"
    }
   ],
   "source": [
    "xgb.plot_importance(xgb_reg)\n",
    "plt.rcParams['figure.figsize'] = [5, 5]\n",
    "plt.show()"
   ]
  },
  {
   "cell_type": "markdown",
   "metadata": {
    "id": "b0n-cTAHr_b5"
   },
   "source": [
    "As we can see the feature `LSTAT` and `RM` have been given the highest importance score among all the features. Thus XGBoost also gives us a way to do Feature Selection.\n",
    "\n",
    "To know more about XGboost, click [here](https://towardsdatascience.com/https-medium-com-vishalmorde-xgboost-algorithm-long-she-may-rein-edd9f99be63d)."
   ]
  },
  {
   "cell_type": "markdown",
   "metadata": {
    "id": "I5OTp81Or_b5"
   },
   "source": [
    "### Stacking  (Optional)"
   ]
  },
  {
   "cell_type": "markdown",
   "metadata": {
    "id": "myiOG4QasoTU"
   },
   "source": [
    "The overall idea of the stacking ensemble method is to train several models with different algorithm types (i.e. base-learners), on the train data, and then aggregate all the models using another model (meta learner), to make the final prediction. The inputs for the meta-learner are the prediction outputs of the base-learners."
   ]
  },
  {
   "cell_type": "markdown",
   "metadata": {
    "id": "-INouAOCr_b6"
   },
   "source": [
    "![Image](https://miro.medium.com/max/2078/1*Hyd8g0mdXeTAqwt-Ghak3w.png)\n",
    "\n",
    "Figure 2: Predictions in a multilayer stacking ensemble\n",
    "\n",
    "For a given input data point, we pass it through the M base-learners and get M number of predictions, and send those M predictions through the meta-learner as inputs and obtain the final prediction."
   ]
  },
  {
   "cell_type": "markdown",
   "metadata": {
    "id": "MGUhiG6rr_b6"
   },
   "source": [
    "Here, we again look at the Boston housing dataset and try to build a regressor model using the stacking method."
   ]
  },
  {
   "cell_type": "markdown",
   "metadata": {
    "id": "RuBkufxYr_b8"
   },
   "source": [
    "**Stacking Models**\n",
    "\n",
    "We assume no hyperparameters for the stacking – this means that we use the predefined hyperparameters for each model."
   ]
  },
  {
   "cell_type": "code",
   "execution_count": null,
   "metadata": {
    "id": "exfWePgNr_b9"
   },
   "outputs": [],
   "source": [
    "xgb = XGBRegressor()\n",
    "rf = RandomForestRegressor(n_estimators=400, max_depth=5, max_features=6)\n",
    "ridge = Ridge()\n",
    "lasso = Lasso()\n",
    "svr = SVR(kernel='rbf')"
   ]
  },
  {
   "cell_type": "markdown",
   "metadata": {
    "id": "xM0ptma3r_b9"
   },
   "source": [
    "Now that we have defined all our models, we can begin improving our results by stacking some models. As we can see here, we defined two levels, where the first level has 5 models, and the second level has the meta-learner."
   ]
  },
  {
   "cell_type": "code",
   "execution_count": null,
   "metadata": {
    "colab": {
     "base_uri": "https://localhost:8080/",
     "height": 356
    },
    "id": "9jcek4tlr_b9",
    "outputId": "35acb442-5647-4eda-9bd6-624f8e60ffb8"
   },
   "outputs": [
    {
     "ename": "AttributeError",
     "evalue": "'super' object has no attribute '__sklearn_tags__'",
     "output_type": "error",
     "traceback": [
      "\u001b[0;31m---------------------------------------------------------------------------\u001b[0m",
      "\u001b[0;31mAttributeError\u001b[0m                            Traceback (most recent call last)",
      "\u001b[0;32m<ipython-input-63-cecf9db291ce>\u001b[0m in \u001b[0;36m<cell line: 26>\u001b[0;34m()\u001b[0m\n\u001b[1;32m     24\u001b[0m \u001b[0;34m\u001b[0m\u001b[0m\n\u001b[1;32m     25\u001b[0m \u001b[0;31m# Fit the model\u001b[0m\u001b[0;34m\u001b[0m\u001b[0;34m\u001b[0m\u001b[0m\n\u001b[0;32m---> 26\u001b[0;31m \u001b[0mreg\u001b[0m\u001b[0;34m.\u001b[0m\u001b[0mfit\u001b[0m\u001b[0;34m(\u001b[0m\u001b[0mX_train\u001b[0m\u001b[0;34m,\u001b[0m \u001b[0my_train\u001b[0m\u001b[0;34m)\u001b[0m\u001b[0;34m\u001b[0m\u001b[0;34m\u001b[0m\u001b[0m\n\u001b[0m\u001b[1;32m     27\u001b[0m \u001b[0;34m\u001b[0m\u001b[0m\n\u001b[1;32m     28\u001b[0m \u001b[0;31m# Ensure column names match between training and test data\u001b[0m\u001b[0;34m\u001b[0m\u001b[0;34m\u001b[0m\u001b[0m\n",
      "\u001b[0;32m/usr/local/lib/python3.10/dist-packages/sklearn/utils/validation.py\u001b[0m in \u001b[0;36minner_f\u001b[0;34m(*args, **kwargs)\u001b[0m\n\u001b[1;32m     61\u001b[0m             \u001b[0mextra_args\u001b[0m \u001b[0;34m=\u001b[0m \u001b[0mlen\u001b[0m\u001b[0;34m(\u001b[0m\u001b[0margs\u001b[0m\u001b[0;34m)\u001b[0m \u001b[0;34m-\u001b[0m \u001b[0mlen\u001b[0m\u001b[0;34m(\u001b[0m\u001b[0mall_args\u001b[0m\u001b[0;34m)\u001b[0m\u001b[0;34m\u001b[0m\u001b[0;34m\u001b[0m\u001b[0m\n\u001b[1;32m     62\u001b[0m             \u001b[0;32mif\u001b[0m \u001b[0mextra_args\u001b[0m \u001b[0;34m<=\u001b[0m \u001b[0;36m0\u001b[0m\u001b[0;34m:\u001b[0m\u001b[0;34m\u001b[0m\u001b[0;34m\u001b[0m\u001b[0m\n\u001b[0;32m---> 63\u001b[0;31m                 \u001b[0;32mreturn\u001b[0m \u001b[0mf\u001b[0m\u001b[0;34m(\u001b[0m\u001b[0;34m*\u001b[0m\u001b[0margs\u001b[0m\u001b[0;34m,\u001b[0m \u001b[0;34m**\u001b[0m\u001b[0mkwargs\u001b[0m\u001b[0;34m)\u001b[0m\u001b[0;34m\u001b[0m\u001b[0;34m\u001b[0m\u001b[0m\n\u001b[0m\u001b[1;32m     64\u001b[0m \u001b[0;34m\u001b[0m\u001b[0m\n\u001b[1;32m     65\u001b[0m             \u001b[0;31m# extra_args > 0\u001b[0m\u001b[0;34m\u001b[0m\u001b[0;34m\u001b[0m\u001b[0m\n",
      "\u001b[0;32m/usr/local/lib/python3.10/dist-packages/sklearn/ensemble/_stacking.py\u001b[0m in \u001b[0;36mfit\u001b[0;34m(self, X, y, sample_weight, **fit_params)\u001b[0m\n\u001b[1;32m   1061\u001b[0m         \u001b[0;32mif\u001b[0m \u001b[0msample_weight\u001b[0m \u001b[0;32mis\u001b[0m \u001b[0;32mnot\u001b[0m \u001b[0;32mNone\u001b[0m\u001b[0;34m:\u001b[0m\u001b[0;34m\u001b[0m\u001b[0;34m\u001b[0m\u001b[0m\n\u001b[1;32m   1062\u001b[0m             \u001b[0mfit_params\u001b[0m\u001b[0;34m[\u001b[0m\u001b[0;34m\"sample_weight\"\u001b[0m\u001b[0;34m]\u001b[0m \u001b[0;34m=\u001b[0m \u001b[0msample_weight\u001b[0m\u001b[0;34m\u001b[0m\u001b[0;34m\u001b[0m\u001b[0m\n\u001b[0;32m-> 1063\u001b[0;31m         \u001b[0;32mreturn\u001b[0m \u001b[0msuper\u001b[0m\u001b[0;34m(\u001b[0m\u001b[0;34m)\u001b[0m\u001b[0;34m.\u001b[0m\u001b[0mfit\u001b[0m\u001b[0;34m(\u001b[0m\u001b[0mX\u001b[0m\u001b[0;34m,\u001b[0m \u001b[0my\u001b[0m\u001b[0;34m,\u001b[0m \u001b[0;34m**\u001b[0m\u001b[0mfit_params\u001b[0m\u001b[0;34m)\u001b[0m\u001b[0;34m\u001b[0m\u001b[0;34m\u001b[0m\u001b[0m\n\u001b[0m\u001b[1;32m   1064\u001b[0m \u001b[0;34m\u001b[0m\u001b[0m\n\u001b[1;32m   1065\u001b[0m     \u001b[0;32mdef\u001b[0m \u001b[0mtransform\u001b[0m\u001b[0;34m(\u001b[0m\u001b[0mself\u001b[0m\u001b[0;34m,\u001b[0m \u001b[0mX\u001b[0m\u001b[0;34m)\u001b[0m\u001b[0;34m:\u001b[0m\u001b[0;34m\u001b[0m\u001b[0;34m\u001b[0m\u001b[0m\n",
      "\u001b[0;32m/usr/local/lib/python3.10/dist-packages/sklearn/base.py\u001b[0m in \u001b[0;36mwrapper\u001b[0;34m(estimator, *args, **kwargs)\u001b[0m\n\u001b[1;32m   1387\u001b[0m                 )\n\u001b[1;32m   1388\u001b[0m             ):\n\u001b[0;32m-> 1389\u001b[0;31m                 \u001b[0;32mreturn\u001b[0m \u001b[0mfit_method\u001b[0m\u001b[0;34m(\u001b[0m\u001b[0mestimator\u001b[0m\u001b[0;34m,\u001b[0m \u001b[0;34m*\u001b[0m\u001b[0margs\u001b[0m\u001b[0;34m,\u001b[0m \u001b[0;34m**\u001b[0m\u001b[0mkwargs\u001b[0m\u001b[0;34m)\u001b[0m\u001b[0;34m\u001b[0m\u001b[0;34m\u001b[0m\u001b[0m\n\u001b[0m\u001b[1;32m   1390\u001b[0m \u001b[0;34m\u001b[0m\u001b[0m\n\u001b[1;32m   1391\u001b[0m         \u001b[0;32mreturn\u001b[0m \u001b[0mwrapper\u001b[0m\u001b[0;34m\u001b[0m\u001b[0;34m\u001b[0m\u001b[0m\n",
      "\u001b[0;32m/usr/local/lib/python3.10/dist-packages/sklearn/ensemble/_stacking.py\u001b[0m in \u001b[0;36mfit\u001b[0;34m(self, X, y, **fit_params)\u001b[0m\n\u001b[1;32m    185\u001b[0m         \u001b[0;31m# 'drop' string.\u001b[0m\u001b[0;34m\u001b[0m\u001b[0;34m\u001b[0m\u001b[0m\n\u001b[1;32m    186\u001b[0m         \u001b[0mnames\u001b[0m\u001b[0;34m,\u001b[0m \u001b[0mall_estimators\u001b[0m \u001b[0;34m=\u001b[0m \u001b[0mself\u001b[0m\u001b[0;34m.\u001b[0m\u001b[0m_validate_estimators\u001b[0m\u001b[0;34m(\u001b[0m\u001b[0;34m)\u001b[0m\u001b[0;34m\u001b[0m\u001b[0;34m\u001b[0m\u001b[0m\n\u001b[0;32m--> 187\u001b[0;31m         \u001b[0mself\u001b[0m\u001b[0;34m.\u001b[0m\u001b[0m_validate_final_estimator\u001b[0m\u001b[0;34m(\u001b[0m\u001b[0;34m)\u001b[0m\u001b[0;34m\u001b[0m\u001b[0;34m\u001b[0m\u001b[0m\n\u001b[0m\u001b[1;32m    188\u001b[0m \u001b[0;34m\u001b[0m\u001b[0m\n\u001b[1;32m    189\u001b[0m         \u001b[0mstack_method\u001b[0m \u001b[0;34m=\u001b[0m \u001b[0;34m[\u001b[0m\u001b[0mself\u001b[0m\u001b[0;34m.\u001b[0m\u001b[0mstack_method\u001b[0m\u001b[0;34m]\u001b[0m \u001b[0;34m*\u001b[0m \u001b[0mlen\u001b[0m\u001b[0;34m(\u001b[0m\u001b[0mall_estimators\u001b[0m\u001b[0;34m)\u001b[0m\u001b[0;34m\u001b[0m\u001b[0;34m\u001b[0m\u001b[0m\n",
      "\u001b[0;32m/usr/local/lib/python3.10/dist-packages/sklearn/ensemble/_stacking.py\u001b[0m in \u001b[0;36m_validate_final_estimator\u001b[0;34m(self)\u001b[0m\n\u001b[1;32m   1014\u001b[0m     \u001b[0;32mdef\u001b[0m \u001b[0m_validate_final_estimator\u001b[0m\u001b[0;34m(\u001b[0m\u001b[0mself\u001b[0m\u001b[0;34m)\u001b[0m\u001b[0;34m:\u001b[0m\u001b[0;34m\u001b[0m\u001b[0;34m\u001b[0m\u001b[0m\n\u001b[1;32m   1015\u001b[0m         \u001b[0mself\u001b[0m\u001b[0;34m.\u001b[0m\u001b[0m_clone_final_estimator\u001b[0m\u001b[0;34m(\u001b[0m\u001b[0mdefault\u001b[0m\u001b[0;34m=\u001b[0m\u001b[0mRidgeCV\u001b[0m\u001b[0;34m(\u001b[0m\u001b[0;34m)\u001b[0m\u001b[0;34m)\u001b[0m\u001b[0;34m\u001b[0m\u001b[0;34m\u001b[0m\u001b[0m\n\u001b[0;32m-> 1016\u001b[0;31m         \u001b[0;32mif\u001b[0m \u001b[0;32mnot\u001b[0m \u001b[0mis_regressor\u001b[0m\u001b[0;34m(\u001b[0m\u001b[0mself\u001b[0m\u001b[0;34m.\u001b[0m\u001b[0mfinal_estimator_\u001b[0m\u001b[0;34m)\u001b[0m\u001b[0;34m:\u001b[0m\u001b[0;34m\u001b[0m\u001b[0;34m\u001b[0m\u001b[0m\n\u001b[0m\u001b[1;32m   1017\u001b[0m             raise ValueError(\n\u001b[1;32m   1018\u001b[0m                 \"'final_estimator' parameter should be a regressor. Got {}\".format(\n",
      "\u001b[0;32m/usr/local/lib/python3.10/dist-packages/sklearn/base.py\u001b[0m in \u001b[0;36mis_regressor\u001b[0;34m(estimator)\u001b[0m\n\u001b[1;32m   1275\u001b[0m         \u001b[0;32mreturn\u001b[0m \u001b[0mgetattr\u001b[0m\u001b[0;34m(\u001b[0m\u001b[0mestimator\u001b[0m\u001b[0;34m,\u001b[0m \u001b[0;34m\"_estimator_type\"\u001b[0m\u001b[0;34m,\u001b[0m \u001b[0;32mNone\u001b[0m\u001b[0;34m)\u001b[0m \u001b[0;34m==\u001b[0m \u001b[0;34m\"regressor\"\u001b[0m\u001b[0;34m\u001b[0m\u001b[0;34m\u001b[0m\u001b[0m\n\u001b[1;32m   1276\u001b[0m \u001b[0;34m\u001b[0m\u001b[0m\n\u001b[0;32m-> 1277\u001b[0;31m     \u001b[0;32mreturn\u001b[0m \u001b[0mget_tags\u001b[0m\u001b[0;34m(\u001b[0m\u001b[0mestimator\u001b[0m\u001b[0;34m)\u001b[0m\u001b[0;34m.\u001b[0m\u001b[0mestimator_type\u001b[0m \u001b[0;34m==\u001b[0m \u001b[0;34m\"regressor\"\u001b[0m\u001b[0;34m\u001b[0m\u001b[0;34m\u001b[0m\u001b[0m\n\u001b[0m\u001b[1;32m   1278\u001b[0m \u001b[0;34m\u001b[0m\u001b[0m\n\u001b[1;32m   1279\u001b[0m \u001b[0;34m\u001b[0m\u001b[0m\n",
      "\u001b[0;32m/usr/local/lib/python3.10/dist-packages/sklearn/utils/_tags.py\u001b[0m in \u001b[0;36mget_tags\u001b[0;34m(estimator)\u001b[0m\n\u001b[1;32m    403\u001b[0m         \u001b[0;32mfor\u001b[0m \u001b[0mklass\u001b[0m \u001b[0;32min\u001b[0m \u001b[0mreversed\u001b[0m\u001b[0;34m(\u001b[0m\u001b[0mtype\u001b[0m\u001b[0;34m(\u001b[0m\u001b[0mestimator\u001b[0m\u001b[0;34m)\u001b[0m\u001b[0;34m.\u001b[0m\u001b[0mmro\u001b[0m\u001b[0;34m(\u001b[0m\u001b[0;34m)\u001b[0m\u001b[0;34m)\u001b[0m\u001b[0;34m:\u001b[0m\u001b[0;34m\u001b[0m\u001b[0;34m\u001b[0m\u001b[0m\n\u001b[1;32m    404\u001b[0m             \u001b[0;32mif\u001b[0m \u001b[0;34m\"__sklearn_tags__\"\u001b[0m \u001b[0;32min\u001b[0m \u001b[0mvars\u001b[0m\u001b[0;34m(\u001b[0m\u001b[0mklass\u001b[0m\u001b[0;34m)\u001b[0m\u001b[0;34m:\u001b[0m\u001b[0;34m\u001b[0m\u001b[0;34m\u001b[0m\u001b[0m\n\u001b[0;32m--> 405\u001b[0;31m                 \u001b[0msklearn_tags_provider\u001b[0m\u001b[0;34m[\u001b[0m\u001b[0mklass\u001b[0m\u001b[0;34m]\u001b[0m \u001b[0;34m=\u001b[0m \u001b[0mklass\u001b[0m\u001b[0;34m.\u001b[0m\u001b[0m__sklearn_tags__\u001b[0m\u001b[0;34m(\u001b[0m\u001b[0mestimator\u001b[0m\u001b[0;34m)\u001b[0m  \u001b[0;31m# type: ignore[attr-defined]\u001b[0m\u001b[0;34m\u001b[0m\u001b[0;34m\u001b[0m\u001b[0m\n\u001b[0m\u001b[1;32m    406\u001b[0m                 \u001b[0mclass_order\u001b[0m\u001b[0;34m.\u001b[0m\u001b[0mappend\u001b[0m\u001b[0;34m(\u001b[0m\u001b[0mklass\u001b[0m\u001b[0;34m)\u001b[0m\u001b[0;34m\u001b[0m\u001b[0;34m\u001b[0m\u001b[0m\n\u001b[1;32m    407\u001b[0m             \u001b[0;32melif\u001b[0m \u001b[0;34m\"_more_tags\"\u001b[0m \u001b[0;32min\u001b[0m \u001b[0mvars\u001b[0m\u001b[0;34m(\u001b[0m\u001b[0mklass\u001b[0m\u001b[0;34m)\u001b[0m\u001b[0;34m:\u001b[0m\u001b[0;34m\u001b[0m\u001b[0;34m\u001b[0m\u001b[0m\n",
      "\u001b[0;32m/usr/local/lib/python3.10/dist-packages/sklearn/base.py\u001b[0m in \u001b[0;36m__sklearn_tags__\u001b[0;34m(self)\u001b[0m\n\u001b[1;32m    611\u001b[0m \u001b[0;34m\u001b[0m\u001b[0m\n\u001b[1;32m    612\u001b[0m     \u001b[0;32mdef\u001b[0m \u001b[0m__sklearn_tags__\u001b[0m\u001b[0;34m(\u001b[0m\u001b[0mself\u001b[0m\u001b[0;34m)\u001b[0m\u001b[0;34m:\u001b[0m\u001b[0;34m\u001b[0m\u001b[0;34m\u001b[0m\u001b[0m\n\u001b[0;32m--> 613\u001b[0;31m         \u001b[0mtags\u001b[0m \u001b[0;34m=\u001b[0m \u001b[0msuper\u001b[0m\u001b[0;34m(\u001b[0m\u001b[0;34m)\u001b[0m\u001b[0;34m.\u001b[0m\u001b[0m__sklearn_tags__\u001b[0m\u001b[0;34m(\u001b[0m\u001b[0;34m)\u001b[0m\u001b[0;34m\u001b[0m\u001b[0;34m\u001b[0m\u001b[0m\n\u001b[0m\u001b[1;32m    614\u001b[0m         \u001b[0mtags\u001b[0m\u001b[0;34m.\u001b[0m\u001b[0mestimator_type\u001b[0m \u001b[0;34m=\u001b[0m \u001b[0;34m\"regressor\"\u001b[0m\u001b[0;34m\u001b[0m\u001b[0;34m\u001b[0m\u001b[0m\n\u001b[1;32m    615\u001b[0m         \u001b[0mtags\u001b[0m\u001b[0;34m.\u001b[0m\u001b[0mregressor_tags\u001b[0m \u001b[0;34m=\u001b[0m \u001b[0mRegressorTags\u001b[0m\u001b[0;34m(\u001b[0m\u001b[0;34m)\u001b[0m\u001b[0;34m\u001b[0m\u001b[0;34m\u001b[0m\u001b[0m\n",
      "\u001b[0;31mAttributeError\u001b[0m: 'super' object has no attribute '__sklearn_tags__'"
     ]
    }
   ],
   "source": [
    "from sklearn.linear_model import Ridge, Lasso\n",
    "from sklearn.svm import SVR\n",
    "from sklearn.ensemble import RandomForestRegressor\n",
    "from sklearn.ensemble import StackingRegressor\n",
    "import xgboost as xgb # Make sure this imports the updated xgboost\n",
    "from sklearn.model_selection import train_test_split\n",
    "\n",
    "# Example data loading and preprocessing\n",
    "# Assuming X and y are already defined (features and target variable)\n",
    "X_train, X_test, y_train, y_test = train_test_split(X, y, test_size=0.2, random_state=42)\n",
    "\n",
    "# Define the base estimators\n",
    "ridge = Ridge()\n",
    "svr = SVR()\n",
    "rf = RandomForestRegressor()\n",
    "lasso = Lasso()\n",
    "\n",
    "# Define the final estimator as an instance of XGBRegressor\n",
    "xgb_model = xgb.XGBRegressor()\n",
    "\n",
    "# Create the stacking regressor with the base estimators and final estimator\n",
    "estimators = [('ridge', ridge), ('svr', svr), ('rf', rf), ('lasso', lasso)]\n",
    "reg = StackingRegressor(estimators=estimators, final_estimator=xgb_model)\n",
    "\n",
    "# Fit the model\n",
    "reg.fit(X_train, y_train)\n",
    "\n",
    "# Ensure column names match between training and test data\n",
    "X_test.columns = ['f0', 'f1', 'f2', 'f3', 'f4', 'f5', 'f6', 'f7', 'f8', 'f9', 'f10', 'f11', 'f12'] # Assuming you have 13 features\n",
    "\n",
    "# Predict on the test set\n",
    "pred = reg.predict(X_test)\n",
    "\n",
    "# Print the predictions\n",
    "print(pred)"
   ]
  },
  {
   "cell_type": "code",
   "execution_count": null,
   "metadata": {
    "id": "kQbNOJNor_b9"
   },
   "outputs": [],
   "source": [
    "score = metrics.r2_score(y_test, pred)\n",
    "print(score)"
   ]
  },
  {
   "cell_type": "markdown",
   "metadata": {
    "id": "sztdeYObr_b9"
   },
   "source": [
    "### Theory Questions"
   ]
  },
  {
   "cell_type": "markdown",
   "metadata": {
    "id": "L01s7i1Hr_b-"
   },
   "source": [
    "1. If  your  AdaBoost  ensemble  underfits  the  training  data,  what  hyperparameters should you tweak and how?\n",
    "\n",
    " If your AdaBoost ensemble underfits the training data, you can try increasing the number of estimators or reducing the regularization hyperparameters of the base estimator. You may also try slightly increasing the learning rate.\n",
    "\n",
    "2. If your Gradient Boosting ensemble overfits the training set, should you increase or decrease the learning rate?\n",
    "\n",
    " If your Gradient Boosting ensemble overfits the training set, you should try decreasing the learning rate. You could also use early stopping to find the right number of predictors (you probably have too many)."
   ]
  },
  {
   "cell_type": "markdown",
   "metadata": {
    "id": "VHfHdGCP_n6Y"
   },
   "source": [
    "### Please answer the questions below to complete the experiment:\n",
    "\n",
    "\n"
   ]
  },
  {
   "cell_type": "code",
   "execution_count": null,
   "metadata": {
    "id": "VgSwVENIPcM6"
   },
   "outputs": [],
   "source": [
    "#@title Select the False Statement: { run: \"auto\", form-width: \"500px\", display-mode: \"form\" }\n",
    "Answer = \"\" #@param [\"\", \"Gradient boosting re-defines boosting as a numerical optimisation problem where the objective is to minimize the loss function of the model by adding weak learners using gradient descent\", \"In Gradient Boosting sequential predictors are trained on the residuals of the previous predictor\", \"XGBoost is a scalable and accurate implementation of the adaptive boosting technique\"]"
   ]
  },
  {
   "cell_type": "code",
   "execution_count": null,
   "metadata": {
    "id": "NMzKSbLIgFzQ"
   },
   "outputs": [],
   "source": [
    "#@title How was the experiment? { run: \"auto\", form-width: \"500px\", display-mode: \"form\" }\n",
    "Complexity = \"\" #@param [\"\",\"Too Simple, I am wasting time\", \"Good, But Not Challenging for me\", \"Good and Challenging for me\", \"Was Tough, but I did it\", \"Too Difficult for me\"]\n"
   ]
  },
  {
   "cell_type": "code",
   "execution_count": null,
   "metadata": {
    "id": "DjcH1VWSFI2l"
   },
   "outputs": [],
   "source": [
    "#@title If it was too easy, what more would you have liked to be added? If it was very difficult, what would you have liked to have been removed? { run: \"auto\", display-mode: \"form\" }\n",
    "Additional = \"\" #@param {type:\"string\"}\n"
   ]
  },
  {
   "cell_type": "code",
   "execution_count": null,
   "metadata": {
    "id": "4VBk_4VTAxCM"
   },
   "outputs": [],
   "source": [
    "#@title Can you identify the concepts from the lecture which this experiment covered? { run: \"auto\", vertical-output: true, display-mode: \"form\" }\n",
    "Concepts = \"\" #@param [\"\",\"Yes\", \"No\"]\n"
   ]
  },
  {
   "cell_type": "code",
   "execution_count": null,
   "metadata": {
    "id": "XH91cL1JWH7m"
   },
   "outputs": [],
   "source": [
    "#@title  Text and image description/explanation and code comments within the experiment: { run: \"auto\", vertical-output: true, display-mode: \"form\" }\n",
    "Comments = \"\" #@param [\"\",\"Very Useful\", \"Somewhat Useful\", \"Not Useful\", \"Didn't use\"]\n"
   ]
  },
  {
   "cell_type": "code",
   "execution_count": null,
   "metadata": {
    "id": "z8xLqj7VWIKW"
   },
   "outputs": [],
   "source": [
    "#@title Mentor Support: { run: \"auto\", vertical-output: true, display-mode: \"form\" }\n",
    "Mentor_support = \"\" #@param [\"\",\"Very Useful\", \"Somewhat Useful\", \"Not Useful\", \"Didn't use\"]\n"
   ]
  },
  {
   "cell_type": "code",
   "execution_count": null,
   "metadata": {
    "cellView": "form",
    "id": "FzAZHt1zw-Y-"
   },
   "outputs": [],
   "source": [
    "#@title Run this cell to submit your notebook for grading { vertical-output: true }\n",
    "try:\n",
    "  if submission_id:\n",
    "      return_id = submit_notebook()\n",
    "      if return_id : submission_id = return_id\n",
    "  else:\n",
    "      print(\"Please complete the setup first.\")\n",
    "except NameError:\n",
    "  print (\"Please complete the setup first.\")"
   ]
  }
 ],
 "metadata": {
  "colab": {
   "provenance": []
  },
  "kernelspec": {
   "display_name": "Python 3 (ipykernel)",
   "language": "python",
   "name": "python3"
  },
  "language_info": {
   "codemirror_mode": {
    "name": "ipython",
    "version": 3
   },
   "file_extension": ".py",
   "mimetype": "text/x-python",
   "name": "python",
   "nbconvert_exporter": "python",
   "pygments_lexer": "ipython3",
   "version": "3.13.1"
  }
 },
 "nbformat": 4,
 "nbformat_minor": 4
}
